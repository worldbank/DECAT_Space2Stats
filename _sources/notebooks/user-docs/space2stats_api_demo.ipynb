{
 "cells": [
  {
   "cell_type": "markdown",
   "metadata": {},
   "source": [
    "# Access S2S api directly\n",
    "\n",
    "This notebook walks through an example of sending an API call directly without using the space2stats python library"
   ]
  },
  {
   "cell_type": "code",
   "execution_count": 1,
   "metadata": {},
   "outputs": [],
   "source": [
    "from typing import Dict\n",
    "\n",
    "import numpy as np\n",
    "import requests\n",
    "import pandas as pd\n",
    "import geopandas as gpd\n",
    "from shapely.geometry import shape\n",
    "from lonboard import Map, ScatterplotLayer\n",
    "from geojson_pydantic import Feature, Polygon"
   ]
  },
  {
   "cell_type": "code",
   "execution_count": 2,
   "metadata": {},
   "outputs": [],
   "source": [
    "BASE_URL = \"https://space2stats.ds.io\"\n",
    "FIELDS_ENDPOINT = f\"{BASE_URL}/fields\"\n",
    "SUMMARY_ENDPOINT = f\"{BASE_URL}/summary\""
   ]
  },
  {
   "cell_type": "code",
   "execution_count": 3,
   "metadata": {},
   "outputs": [
    {
     "name": "stdout",
     "output_type": "stream",
     "text": [
      "Available Fields: ['sum_pop_2020', 'ogc_fid', 'sum_pop_f_0_2020', 'sum_pop_f_10_2020', 'sum_pop_f_15_2020', 'sum_pop_f_1_2020', 'sum_pop_f_20_2020', 'sum_pop_f_25_2020', 'sum_pop_f_30_2020', 'sum_pop_f_35_2020', 'sum_pop_f_40_2020', 'sum_pop_f_45_2020', 'sum_pop_f_50_2020', 'sum_pop_f_55_2020', 'sum_pop_f_5_2020', 'sum_pop_f_60_2020', 'sum_pop_f_65_2020', 'sum_pop_f_70_2020', 'sum_pop_f_75_2020', 'sum_pop_f_80_2020', 'sum_pop_m_0_2020', 'sum_pop_m_10_2020', 'sum_pop_m_15_2020', 'sum_pop_m_1_2020', 'sum_pop_m_20_2020', 'sum_pop_m_25_2020', 'sum_pop_m_30_2020', 'sum_pop_m_35_2020', 'sum_pop_m_40_2020', 'sum_pop_m_45_2020', 'sum_pop_m_50_2020', 'sum_pop_m_55_2020', 'sum_pop_m_5_2020', 'sum_pop_m_60_2020', 'sum_pop_m_65_2020', 'sum_pop_m_70_2020', 'sum_pop_m_75_2020', 'sum_pop_m_80_2020', 'sum_pop_m_2020', 'sum_pop_f_2020']\n"
     ]
    }
   ],
   "source": [
    "response = requests.get(FIELDS_ENDPOINT)\n",
    "if response.status_code != 200:\n",
    "    raise Exception(f\"Failed to get fields: {response.text}\")\n",
    "\n",
    "available_fields = response.json()\n",
    "print(\"Available Fields:\", available_fields)"
   ]
  },
  {
   "cell_type": "code",
   "execution_count": 4,
   "metadata": {},
   "outputs": [],
   "source": [
    "AOIModel = Feature[Polygon, Dict]\n",
    "\n",
    "# ~kenya\n",
    "aoi = {\n",
    "    \"type\": \"Feature\",\n",
    "    \"geometry\": {\n",
    "        \"type\": \"Polygon\",\n",
    "        \"coordinates\": [\n",
    "            [\n",
    "                [33.78593974945852, 5.115816884114494],\n",
    "                [33.78593974945852, -4.725410543134203],\n",
    "                [41.94362577283266, -4.725410543134203],\n",
    "                [41.94362577283266, 5.115816884114494],\n",
    "                [33.78593974945852, 5.115816884114494]\n",
    "            ]\n",
    "        ]\n",
    "    },\n",
    "    \"properties\": {\n",
    "        \"name\": \"Updated AOI\"\n",
    "    }\n",
    "}\n",
    "          \n",
    "  \n",
    "\n",
    "feat = AOIModel(**aoi)"
   ]
  },
  {
   "cell_type": "code",
   "execution_count": 5,
   "metadata": {},
   "outputs": [],
   "source": [
    "# Define the Request Payload\n",
    "request_payload = {\n",
    "    \"aoi\": aoi,\n",
    "    \"spatial_join_method\": \"centroid\",\n",
    "    \"fields\": [\"sum_pop_2020\"], \n",
    "    \"geometry\": \"point\"\n",
    "}\n",
    "\n",
    "# Get Summary Data\n",
    "response = requests.post(SUMMARY_ENDPOINT, json=request_payload)\n",
    "if response.status_code != 200:\n",
    "    raise Exception(f\"Failed to get summary: {response.text}\")\n",
    "\n",
    "summary_data = response.json()\n",
    "df = pd.DataFrame(summary_data)"
   ]
  },
  {
   "cell_type": "code",
   "execution_count": 6,
   "metadata": {},
   "outputs": [
    {
     "data": {
      "text/html": [
       "<div>\n",
       "<style scoped>\n",
       "    .dataframe tbody tr th:only-of-type {\n",
       "        vertical-align: middle;\n",
       "    }\n",
       "\n",
       "    .dataframe tbody tr th {\n",
       "        vertical-align: top;\n",
       "    }\n",
       "\n",
       "    .dataframe thead th {\n",
       "        text-align: right;\n",
       "    }\n",
       "</style>\n",
       "<table border=\"1\" class=\"dataframe\">\n",
       "  <thead>\n",
       "    <tr style=\"text-align: right;\">\n",
       "      <th></th>\n",
       "      <th>hex_id</th>\n",
       "      <th>geometry</th>\n",
       "      <th>sum_pop_2020</th>\n",
       "    </tr>\n",
       "  </thead>\n",
       "  <tbody>\n",
       "    <tr>\n",
       "      <th>0</th>\n",
       "      <td>866a4a017ffffff</td>\n",
       "      <td>POINT (39.24507 3.70114)</td>\n",
       "      <td>676.912804</td>\n",
       "    </tr>\n",
       "    <tr>\n",
       "      <th>1</th>\n",
       "      <td>866a4a01fffffff</td>\n",
       "      <td>POINT (39.93747 -3.76871)</td>\n",
       "      <td>347.182722</td>\n",
       "    </tr>\n",
       "    <tr>\n",
       "      <th>2</th>\n",
       "      <td>866a4a04fffffff</td>\n",
       "      <td>POINT (33.78711 4.68286)</td>\n",
       "      <td>285.943490</td>\n",
       "    </tr>\n",
       "    <tr>\n",
       "      <th>3</th>\n",
       "      <td>866a4a057ffffff</td>\n",
       "      <td>POINT (37.55111 0.93272)</td>\n",
       "      <td>279.463912</td>\n",
       "    </tr>\n",
       "    <tr>\n",
       "      <th>4</th>\n",
       "      <td>866a4a05fffffff</td>\n",
       "      <td>POINT (36.22409 -0.30845)</td>\n",
       "      <td>235.258474</td>\n",
       "    </tr>\n",
       "    <tr>\n",
       "      <th>...</th>\n",
       "      <td>...</td>\n",
       "      <td>...</td>\n",
       "      <td>...</td>\n",
       "    </tr>\n",
       "    <tr>\n",
       "      <th>25801</th>\n",
       "      <td>86969ed97ffffff</td>\n",
       "      <td>POINT (41.34641 2.65004)</td>\n",
       "      <td>196.448391</td>\n",
       "    </tr>\n",
       "    <tr>\n",
       "      <th>25802</th>\n",
       "      <td>86969ed9fffffff</td>\n",
       "      <td>POINT (35.60463 3.91825)</td>\n",
       "      <td>296.740893</td>\n",
       "    </tr>\n",
       "    <tr>\n",
       "      <th>25803</th>\n",
       "      <td>86969eda7ffffff</td>\n",
       "      <td>POINT (35.31237 4.08646)</td>\n",
       "      <td>154.818453</td>\n",
       "    </tr>\n",
       "    <tr>\n",
       "      <th>25804</th>\n",
       "      <td>86969edafffffff</td>\n",
       "      <td>POINT (36.64404 4.57332)</td>\n",
       "      <td>157.875350</td>\n",
       "    </tr>\n",
       "    <tr>\n",
       "      <th>25805</th>\n",
       "      <td>86969edb7ffffff</td>\n",
       "      <td>POINT (37.12169 0.66374)</td>\n",
       "      <td>236.127331</td>\n",
       "    </tr>\n",
       "  </tbody>\n",
       "</table>\n",
       "<p>25806 rows × 3 columns</p>\n",
       "</div>"
      ],
      "text/plain": [
       "                hex_id                   geometry  sum_pop_2020\n",
       "0      866a4a017ffffff   POINT (39.24507 3.70114)    676.912804\n",
       "1      866a4a01fffffff  POINT (39.93747 -3.76871)    347.182722\n",
       "2      866a4a04fffffff   POINT (33.78711 4.68286)    285.943490\n",
       "3      866a4a057ffffff   POINT (37.55111 0.93272)    279.463912\n",
       "4      866a4a05fffffff  POINT (36.22409 -0.30845)    235.258474\n",
       "...                ...                        ...           ...\n",
       "25801  86969ed97ffffff   POINT (41.34641 2.65004)    196.448391\n",
       "25802  86969ed9fffffff   POINT (35.60463 3.91825)    296.740893\n",
       "25803  86969eda7ffffff   POINT (35.31237 4.08646)    154.818453\n",
       "25804  86969edafffffff   POINT (36.64404 4.57332)    157.875350\n",
       "25805  86969edb7ffffff   POINT (37.12169 0.66374)    236.127331\n",
       "\n",
       "[25806 rows x 3 columns]"
      ]
     },
     "execution_count": 6,
     "metadata": {},
     "output_type": "execute_result"
    }
   ],
   "source": [
    "df['geometry'] = df['geometry'].apply(lambda geom: shape(geom))\n",
    "gdf = gpd.GeoDataFrame(df, geometry='geometry', crs='EPSG:4326')\n",
    "gdf"
   ]
  },
  {
   "cell_type": "code",
   "execution_count": null,
   "metadata": {},
   "outputs": [],
   "source": [
    "# Define custom breaks and corresponding RGBA colors\n",
    "breaks = [0, 1, 10, 100, 500, 1000, 5000, gdf[\"sum_pop_2020\"].max()]\n",
    "colors = np.array([\n",
    "    [211, 211, 211, 255],  # Light gray \n",
    "    [255, 255, 0, 255],    # Yellow  \n",
    "    [255, 165, 0, 255],    # Orange  \n",
    "    [255, 0, 0, 255],      # Red  \n",
    "    [128, 0, 128, 255],    # Purple  \n",
    "    [0, 0, 255, 255],      # Blue \n",
    "    [0, 0, 139, 255],      # Dark blue \n",
    "])\n",
    "\n",
    "# Function to assign colors based on custom bins\n",
    "def assign_color(value, breaks, colors):\n",
    "    for i in range(len(breaks) - 1):\n",
    "        if breaks[i] <= value < breaks[i + 1]:\n",
    "            return colors[i]\n",
    "    return colors[-1]  # In case value exceeds all breaks\n",
    "\n",
    "# Map sum_pop_2020 values to colors using the custom function\n",
    "gdf['color'] = gdf[\"sum_pop_2020\"].apply(lambda x: assign_color(x, breaks, colors))\n",
    "colors = np.uint8(gdf['color'].tolist())\n",
    "\n",
    "# Create the scatterplot layer with the assigned colors\n",
    "layer = ScatterplotLayer.from_geopandas(gdf, get_radius=2000, get_fill_color=colors)\n",
    "\n",
    "m = Map(layer)\n",
    "m"
   ]
  },
  {
   "cell_type": "code",
   "execution_count": null,
   "metadata": {},
   "outputs": [],
   "source": [
    "gdf"
   ]
  },
  {
   "cell_type": "code",
   "execution_count": null,
   "metadata": {},
   "outputs": [],
   "source": []
  }
 ],
 "metadata": {
  "kernelspec": {
   "display_name": "gn",
   "language": "python",
   "name": "gn"
  },
  "language_info": {
   "codemirror_mode": {
    "name": "ipython",
    "version": 3
   },
   "file_extension": ".py",
   "mimetype": "text/x-python",
   "name": "python",
   "nbconvert_exporter": "python",
   "pygments_lexer": "ipython3",
   "version": "3.12.7"
  }
 },
 "nbformat": 4,
 "nbformat_minor": 4
}
