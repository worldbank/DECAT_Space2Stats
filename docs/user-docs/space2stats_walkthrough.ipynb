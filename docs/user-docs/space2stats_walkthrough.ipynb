{
 "cells": [
  {
   "cell_type": "markdown",
   "metadata": {},
   "source": [
    "# Space2Stats Walkthrough\n",
    "\n",
    "This notebook walks through an example that explores the Space2Stats Metadata, and then uses the API to fetch flood and climate statistics for various provinces within a country."
   ]
  },
  {
   "cell_type": "markdown",
   "metadata": {},
   "source": [
    "[![Open In Colab](https://colab.research.google.com/assets/colab-badge.svg)](https://githubtocolab.com/worldbank/DECAT_Space2Stats/blob/main/docs/user-docs/space2stats_walkthrough.ipynb)"
   ]
  },
  {
   "cell_type": "code",
   "execution_count": 1,
   "metadata": {},
   "outputs": [],
   "source": [
    "# !pip install space2stats-client matplotlib contextily plotnine"
   ]
  },
  {
   "cell_type": "markdown",
   "metadata": {},
   "source": [
    "First, we need to import the necessary libraries and set up the API client."
   ]
  },
  {
   "cell_type": "code",
   "execution_count": 2,
   "metadata": {},
   "outputs": [],
   "source": [
    "import pandas as pd\n",
    "import geopandas as gpd\n",
    "from shapely import from_geojson\n",
    "import matplotlib.pyplot as plt # pip install matplotlib contextily\n",
    "import contextily as ctx\n",
    "from space2stats_client import Space2StatsClient"
   ]
  },
  {
   "cell_type": "code",
   "execution_count": 3,
   "metadata": {},
   "outputs": [],
   "source": [
    "# Initialize the client\n",
    "client = Space2StatsClient()"
   ]
  },
  {
   "cell_type": "markdown",
   "metadata": {},
   "source": [
    "## 1. Define Areas of Interest"
   ]
  },
  {
   "cell_type": "markdown",
   "metadata": {},
   "source": [
    "We will define our AOIs by fetching admin boundaries from the GeoBoundaries project."
   ]
  },
  {
   "cell_type": "code",
   "execution_count": null,
   "metadata": {},
   "outputs": [],
   "source": [
    "# Try fetching the boundaries\n",
    "ISO3 = \"SSD\" # South Sudan\n",
    "ADM = \"ADM2\" # Level 2 administrative boundaries\n",
    "adm_boundaries = client.fetch_admin_boundaries(ISO3, ADM)\n",
    "adm_boundaries.head()"
   ]
  },
  {
   "cell_type": "code",
   "execution_count": null,
   "metadata": {},
   "outputs": [],
   "source": [
    "adm_boundaries.plot()"
   ]
  },
  {
   "cell_type": "markdown",
   "metadata": {},
   "source": [
    "## 2. Query Metadata"
   ]
  },
  {
   "cell_type": "markdown",
   "metadata": {},
   "source": [
    "Each dataset in Space2Stats is stored as a STAC item. Metadata for each item can be explored through the following [browser](https://radiantearth.github.io/stac-browser/#/external/raw.githubusercontent.com/worldbank/DECAT_Space2Stats/refs/heads/main/space2stats_api/src/space2stats_ingest/METADATA/stac/space2stats-collection/collection.json). \n",
    "\n",
    "The `get_topics` function retrieves a table with key details for each dataset, along with an item identifier (`item_id`) that can be used to query fields from each dataset."
   ]
  },
  {
   "cell_type": "code",
   "execution_count": null,
   "metadata": {},
   "outputs": [],
   "source": [
    "topics = client.get_topics()\n",
    "pd.options.display.max_colwidth = None\n",
    "topics"
   ]
  },
  {
   "cell_type": "markdown",
   "metadata": {},
   "source": [
    "We can extract additional metadata like fields and descriptions using the item id."
   ]
  },
  {
   "cell_type": "code",
   "execution_count": null,
   "metadata": {},
   "outputs": [],
   "source": [
    "properties = client.get_properties(\"flood_exposure_15cm_1in100\")\n",
    "properties"
   ]
  },
  {
   "cell_type": "markdown",
   "metadata": {},
   "source": [
    "## 3. Extract H3 Data"
   ]
  },
  {
   "cell_type": "markdown",
   "metadata": {},
   "source": [
    "Let's work with the subset of fields from the flood exposure item: `['pop', 'pop_flood', 'pop_flood_pct']`"
   ]
  },
  {
   "cell_type": "code",
   "execution_count": 8,
   "metadata": {},
   "outputs": [],
   "source": [
    "flood_vars = ['pop', 'pop_flood', 'pop_flood_pct']"
   ]
  },
  {
   "cell_type": "code",
   "execution_count": null,
   "metadata": {},
   "outputs": [],
   "source": [
    "client.get_summary?"
   ]
  },
  {
   "cell_type": "markdown",
   "metadata": {},
   "source": [
    "Run API Calls"
   ]
  },
  {
   "cell_type": "code",
   "execution_count": 10,
   "metadata": {},
   "outputs": [],
   "source": [
    "df = client.get_summary(\n",
    "    gdf=adm_boundaries,                     # Area of Interest\n",
    "    spatial_join_method=\"centroid\",         # Spatial join method (between h3 cells and each feature)\n",
    "    fields=flood_vars,                      # Fields from Space2Stats to query\n",
    "    geometry=\"polygon\"                      # Whether to return the geometry of the hexagons\n",
    ")"
   ]
  },
  {
   "cell_type": "code",
   "execution_count": null,
   "metadata": {},
   "outputs": [],
   "source": [
    "pd.reset_option('display.max_colwidth')\n",
    "df.head()"
   ]
  },
  {
   "cell_type": "markdown",
   "metadata": {},
   "source": [
    "Check that there are no duplicate hexagon ids"
   ]
  },
  {
   "cell_type": "code",
   "execution_count": null,
   "metadata": {},
   "outputs": [],
   "source": [
    "df['hex_id'].duplicated().sum()"
   ]
  },
  {
   "cell_type": "markdown",
   "metadata": {},
   "source": [
    "Convert geometry column from geojson into shapely polygons"
   ]
  },
  {
   "cell_type": "code",
   "execution_count": null,
   "metadata": {},
   "outputs": [],
   "source": [
    "df[\"geometry\"] = df[\"geometry\"].apply(lambda geom: from_geojson(geom))\n",
    "\n",
    "# Convert dataframe to GeoDataFrame\n",
    "gdf = gpd.GeoDataFrame(df, geometry=\"geometry\", crs=\"EPSG:4326\")\n",
    "gdf.head()"
   ]
  },
  {
   "cell_type": "markdown",
   "metadata": {},
   "source": [
    "### Map H3 Data"
   ]
  },
  {
   "cell_type": "code",
   "execution_count": null,
   "metadata": {},
   "outputs": [],
   "source": [
    "fig, ax = plt.subplots(1, 1, figsize=(10, 10))\n",
    "gdf.plot(ax=ax, column=\"pop_flood\", \n",
    "         legend=True, cmap=\"Reds\", alpha=0.75, \n",
    "         scheme=\"naturalbreaks\", k=5, \n",
    "         legend_kwds=dict(title='Total Pop. Exposed', fmt=\"{:,.0f}\"),\n",
    "         linewidth=0)\n",
    "ctx.add_basemap(ax, source=ctx.providers.Esri.WorldPhysical, crs='EPSG:4326')\n",
    "plt.title(\"Population Exposed to Floods (>15cm, 1 in 100 years)\", fontsize=16)\n",
    "plt.axis(\"off\")\n",
    "plt.show()"
   ]
  },
  {
   "cell_type": "code",
   "execution_count": null,
   "metadata": {},
   "outputs": [],
   "source": [
    "fig, ax = plt.subplots(1, 1, figsize=(10, 10))\n",
    "gdf.plot(ax=ax, column=\"pop_flood_pct\", \n",
    "         legend=True, cmap=\"Reds\", alpha=0.75, \n",
    "         scheme=\"equal_interval\", k=5, \n",
    "         legend_kwds=dict(title='% Pop. Exposed', fmt=\"{:.0%}\"),\n",
    "         linewidth=0)\n",
    "ctx.add_basemap(ax, source=ctx.providers.Esri.WorldPhysical, crs='EPSG:4326')\n",
    "plt.title(\"% of Population Exposed to Floods (>15cm, 1 in 100 years)\", fontsize=16)\n",
    "plt.axis(\"off\")\n",
    "plt.show()"
   ]
  },
  {
   "cell_type": "markdown",
   "metadata": {},
   "source": [
    "## 4. Extract Admin Summaries"
   ]
  },
  {
   "cell_type": "code",
   "execution_count": 16,
   "metadata": {},
   "outputs": [],
   "source": [
    "adm_boundaries_zs = client.get_aggregate(\n",
    "    gdf=adm_boundaries,                             # Area of Interest\n",
    "    spatial_join_method=\"centroid\",                 # Spatial join method (between h3 cells and each feature)\n",
    "    fields=['pop', 'pop_flood'],                    # Fields from Space2Stats to query\n",
    "    aggregation_type=\"sum\"                          # Aggregation type\n",
    ")"
   ]
  },
  {
   "cell_type": "code",
   "execution_count": null,
   "metadata": {},
   "outputs": [],
   "source": [
    "adm_boundaries_zs.head()"
   ]
  },
  {
   "cell_type": "markdown",
   "metadata": {},
   "source": [
    "Recalculate share of population exposed with aggregate data"
   ]
  },
  {
   "cell_type": "code",
   "execution_count": 18,
   "metadata": {},
   "outputs": [],
   "source": [
    "adm_boundaries_zs.loc[:, \"pop_flood_pct\"] = adm_boundaries_zs[\"pop_flood\"] / adm_boundaries_zs[\"pop\"]"
   ]
  },
  {
   "cell_type": "code",
   "execution_count": null,
   "metadata": {},
   "outputs": [],
   "source": [
    "fig, ax = plt.subplots(1, 1, figsize=(10, 10))\n",
    "adm_boundaries_zs.plot(\n",
    "    ax=ax, column=\"pop_flood\", legend=True, \n",
    "    cmap=\"Reds\", scheme=\"natural_breaks\", \n",
    "    k=5, legend_kwds=dict(title='Total Pop. Exposed', fmt=\"{:,.0f}\"),\n",
    "    linewidth=0.2, edgecolor='black')\n",
    "ctx.add_basemap(ax, source=ctx.providers.Esri.WorldPhysical, crs='EPSG:4326')\n",
    "plt.title(\"Population Exposed to Floods (>15cm, 1 in 100 years)\", fontsize=16)\n",
    "plt.axis(\"off\")\n",
    "plt.show()"
   ]
  },
  {
   "cell_type": "code",
   "execution_count": null,
   "metadata": {},
   "outputs": [],
   "source": [
    "fig, ax = plt.subplots(1, 1, figsize=(10, 10))\n",
    "adm_boundaries_zs.plot(\n",
    "    ax=ax, column=\"pop_flood_pct\", legend=True, \n",
    "    cmap=\"Reds\", scheme=\"natural_breaks\", \n",
    "    k=5, legend_kwds=dict(title='% Pop. Exposed', fmt=\"{:.0%}\"),\n",
    "    linewidth=0.2, edgecolor='black')\n",
    "ctx.add_basemap(ax, source=ctx.providers.Esri.WorldPhysical, crs='EPSG:4326')\n",
    "plt.title(\"% of Population Exposed to Floods (>15cm, 1 in 100 years)\", fontsize=16)\n",
    "plt.axis(\"off\")\n",
    "plt.show()"
   ]
  },
  {
   "cell_type": "markdown",
   "metadata": {},
   "source": [
    "List top 10 counties by population exposed"
   ]
  },
  {
   "cell_type": "code",
   "execution_count": null,
   "metadata": {},
   "outputs": [],
   "source": [
    "table = adm_boundaries_zs.sort_values('pop_flood', ascending=False).head(10)[['shapeName', 'pop_flood', 'pop_flood_pct']].rename(\n",
    "    columns={\n",
    "        'shapeName': 'Province'\n",
    "        })\n",
    "table.loc[:, \"Population Exposed\"] = table.loc[:, \"pop_flood\"].apply(lambda x: f\"{x:,.0f}\")\n",
    "table.loc[:, \"Population Exposed (%)\"] = table.loc[:, \"pop_flood_pct\"].apply(lambda x: f\"{x:.2%}\")\n",
    "table.reset_index(drop=True, inplace=True)\n",
    "display(table[['Province', 'Population Exposed', 'Population Exposed (%)']])"
   ]
  },
  {
   "cell_type": "markdown",
   "metadata": {},
   "source": [
    "## 5. Extract Climate Data"
   ]
  },
  {
   "cell_type": "code",
   "execution_count": null,
   "metadata": {},
   "outputs": [],
   "source": [
    "client.get_timeseries_fields()"
   ]
  },
  {
   "cell_type": "code",
   "execution_count": 23,
   "metadata": {},
   "outputs": [],
   "source": [
    "ISO3 = \"LKA\"  # Sri Lanka \n",
    "ADM = \"ADM2\"\n",
    "adm_boundaries_lka = client.fetch_admin_boundaries(ISO3, ADM)"
   ]
  },
  {
   "cell_type": "code",
   "execution_count": 24,
   "metadata": {},
   "outputs": [],
   "source": [
    "df_ts = client.get_timeseries(\n",
    "    gdf=adm_boundaries_lka,                 # Area of Interest\n",
    "    spatial_join_method=\"centroid\",         # Spatial join method (between h3 cells and each feature)\n",
    "    fields=['spi'],                         # *Time-series fields from Space2Stats to query\n",
    "    start_date=\"2019-01-01\",                # Start date (will default to earliest date available)\n",
    "    geometry=\"polygon\"                      # Whether to return the geometry of the hexagons\n",
    ")"
   ]
  },
  {
   "cell_type": "code",
   "execution_count": null,
   "metadata": {},
   "outputs": [],
   "source": [
    "df_ts.head()"
   ]
  },
  {
   "cell_type": "code",
   "execution_count": 26,
   "metadata": {},
   "outputs": [],
   "source": [
    "## Curently, get_timeseries returns timeseries data for each admin with an area ID,\n",
    "## but we lost the attributes of the admin areas :(\n",
    "## For now, we will merge the attributes back to the timeseries data \n",
    "## but we will fix this :)\n",
    "df_ts = df_ts.merge(\n",
    "    adm_boundaries_lka.drop(columns=[\"geometry\"]), left_on=\"area_id\", right_index=True, how=\"left\"\n",
    ")"
   ]
  },
  {
   "cell_type": "code",
   "execution_count": 27,
   "metadata": {},
   "outputs": [],
   "source": [
    "# Convert date strings to datetime objects\n",
    "df_ts['date'] = pd.to_datetime(df_ts['date'])\n",
    "\n",
    "# Extract year from the date\n",
    "df_ts['year'] = df_ts['date'].dt.year"
   ]
  },
  {
   "cell_type": "code",
   "execution_count": 28,
   "metadata": {},
   "outputs": [],
   "source": [
    "# Filter data for 2024\n",
    "df_filter = df_ts.loc[df_ts['year'] == 2024].copy()\n",
    "\n",
    "# Convert geometry to shapely objects\n",
    "df_filter[\"geometry\"] = df_filter[\"geometry\"].apply(lambda geom: from_geojson(geom))\n",
    "\n",
    "# Convert dataframe to GeoDataFrame\n",
    "gdf = gpd.GeoDataFrame(df_filter, geometry=\"geometry\", crs=\"EPSG:4326\")\n",
    "gdf['ym'] = gdf['date'].dt.strftime('%Y-%m')"
   ]
  },
  {
   "cell_type": "code",
   "execution_count": 29,
   "metadata": {},
   "outputs": [],
   "source": [
    "from mizani.breaks import date_breaks\n",
    "from mizani.formatters import date_format\n",
    "from plotnine import (\n",
    "    ggplot,\n",
    "    aes,\n",
    "    geom_bar,\n",
    "    geom_map,\n",
    "    coord_fixed,\n",
    "    facet_wrap,\n",
    "    scale_fill_distiller,\n",
    "    element_rect,\n",
    "    theme_void,\n",
    "    theme_minimal,\n",
    "    theme,\n",
    "    labs,\n",
    "    element_text,\n",
    "    scale_y_continuous,\n",
    "    scale_x_datetime\n",
    ")"
   ]
  },
  {
   "cell_type": "markdown",
   "metadata": {},
   "source": [
    "### Map Monthly SPI (Drought Index)"
   ]
  },
  {
   "cell_type": "code",
   "execution_count": null,
   "metadata": {},
   "outputs": [],
   "source": [
    "(\n",
    "    ggplot(gdf)\n",
    "    + geom_map(aes(fill=\"spi\"), size=0)\n",
    "    + scale_fill_distiller(type=\"div\", palette=\"RdBu\", name=\"SPI\", limits=(-2, 2))\n",
    "    + facet_wrap(\n",
    "        \"ym\",\n",
    "        ncol=4,\n",
    "    )\n",
    "    + coord_fixed(expand=False)\n",
    "    + theme_void()\n",
    "    + theme(\n",
    "        figure_size=(8, 8),\n",
    "        plot_margin=0.01,\n",
    "        plot_background=element_rect(fill=\"white\"),\n",
    "        panel_spacing=0.025\n",
    "    )\n",
    "    + labs(title=\"Monthly SPI (Standardized Precipitation Index), Sri Lanka\")\n",
    ")"
   ]
  },
  {
   "cell_type": "markdown",
   "metadata": {},
   "source": [
    "### National Average"
   ]
  },
  {
   "cell_type": "code",
   "execution_count": 31,
   "metadata": {},
   "outputs": [],
   "source": [
    "df_average = df_ts.groupby('date')['spi'].agg(['mean']).reset_index()"
   ]
  },
  {
   "cell_type": "code",
   "execution_count": null,
   "metadata": {},
   "outputs": [],
   "source": [
    "font = \"Roboto\"\n",
    "p = (\n",
    "    ggplot(df_average, aes(x=\"date\", y=\"mean\", fill=\"mean\"))\n",
    "    + geom_bar(alpha=0.8, stat=\"identity\", color=\"black\", width=20)\n",
    "    + labs(\n",
    "        x=\"\",\n",
    "        subtitle=\"Standardised Precipitation Index\",\n",
    "        title=\"Drought Index\",\n",
    "        y=\"\",\n",
    "        caption=\"Source: Space2Stats\",\n",
    "    )\n",
    "    + theme_minimal()\n",
    "    + theme(\n",
    "        plot_background=element_rect(fill=\"white\"),\n",
    "        figure_size=(8, 6),\n",
    "        text=element_text(family=font, size=11),\n",
    "        plot_title=element_text(family=font, size=14, weight=\"bold\"),\n",
    "        legend_position=\"none\",\n",
    "    )\n",
    "    + scale_fill_distiller(\n",
    "        type=\"div\", palette=\"RdYlBu\", direction=1, limits=(-2, 2)\n",
    "    )\n",
    "    + scale_y_continuous(limits=(-2, 2))\n",
    "    + scale_x_datetime(\n",
    "        breaks=date_breaks(width=\"1 year\"), labels=date_format(\"%Y\")\n",
    "    )\n",
    ")\n",
    "p"
   ]
  },
  {
   "cell_type": "markdown",
   "metadata": {},
   "source": [
    "### Extract Drought Events per District/Year"
   ]
  },
  {
   "cell_type": "code",
   "execution_count": null,
   "metadata": {},
   "outputs": [],
   "source": [
    "df_ts.head()"
   ]
  },
  {
   "cell_type": "code",
   "execution_count": null,
   "metadata": {},
   "outputs": [],
   "source": [
    "# Set an extereme drought threshold\n",
    "drought_threshold = -2\n",
    "\n",
    "# Create a binary column indicating extreme drought days\n",
    "df_ts['extreme_drought'] = (df_ts['spi'] <= drought_threshold).astype(int)\n",
    "\n",
    "# Group by region and year, then count extreme drought days\n",
    "yearly_drought = df_ts.groupby(['shapeName', 'year'])['extreme_drought'].sum().reset_index()\n",
    "\n",
    "# Pivot the table to have years as columns\n",
    "drought_pivot = yearly_drought.pivot(index='shapeName', columns='year', values='extreme_drought')\n",
    "\n",
    "# Rename columns for clarity\n",
    "drought_pivot.columns = [f'{year}' for year in drought_pivot.columns]\n",
    "\n",
    "# Add total drought days column\n",
    "drought_pivot['Total Drought Events'] = drought_pivot.sum(axis=1)\n",
    "\n",
    "# Sort by total drought days in descending order\n",
    "drought_pivot = drought_pivot.sort_values('Total Drought Events', ascending=False)\n",
    "\n",
    "# Reset index to make 'region' a regular column\n",
    "result_table = drought_pivot.reset_index().rename(columns={'shapeName': 'District'})\n",
    "\n",
    "# Display the resulting table\n",
    "display(result_table)"
   ]
  },
  {
   "cell_type": "code",
   "execution_count": 35,
   "metadata": {},
   "outputs": [],
   "source": [
    "adm_boundaries_lka = adm_boundaries_lka.merge(result_table, left_on=\"shapeName\", right_on=\"District\", how=\"left\")"
   ]
  },
  {
   "cell_type": "code",
   "execution_count": null,
   "metadata": {},
   "outputs": [],
   "source": [
    "fig, ax = plt.subplots(1, 1, figsize=(10, 10))\n",
    "adm_boundaries_lka.plot(\n",
    "    ax=ax, column=\"Total Drought Events\", legend=True, \n",
    "    cmap=\"Reds\", scheme=\"natural_breaks\", \n",
    "    k=5, legend_kwds=dict(title='Total Drought Events'),\n",
    "    linewidth=0.2, edgecolor='black')\n",
    "ctx.add_basemap(ax, source=ctx.providers.Esri.WorldPhysical, crs='EPSG:4326')\n",
    "plt.title(\"Monthly Droughts (SPI<2), Sri Lanka\", fontsize=16)\n",
    "plt.axis(\"off\")\n",
    "plt.show()"
   ]
  }
 ],
 "metadata": {
  "kernelspec": {
   "display_name": "s2s-ts",
   "language": "python",
   "name": "python3"
  },
  "language_info": {
   "codemirror_mode": {
    "name": "ipython",
    "version": 3
   },
   "file_extension": ".py",
   "mimetype": "text/x-python",
   "name": "python",
   "nbconvert_exporter": "python",
   "pygments_lexer": "ipython3",
   "version": "3.11.11"
  }
 },
 "nbformat": 4,
 "nbformat_minor": 4
}
