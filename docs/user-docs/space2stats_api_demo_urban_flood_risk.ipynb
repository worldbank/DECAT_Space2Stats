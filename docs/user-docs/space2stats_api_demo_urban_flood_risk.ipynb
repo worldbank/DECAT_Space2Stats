{
 "cells": [
  {
   "cell_type": "markdown",
   "id": "c56b62b8-fa9a-4df3-9d2a-0bacea66a091",
   "metadata": {},
   "source": [
    "# Urban Centers at Flood Risk Analysis\n",
    "\n",
    "This notebook guides you through:\n",
    "\n",
    "1. Selecting an Area of Interest (AOI) interactively on a map.\n",
    "2. Fetching demographic and flood risk data.\n",
    "3. Identifying urban centers within the AOI that are at the highest risk due to flooding, using GHS settlement population metrics.\n",
    "4. Visualizing and ranking these areas.\n"
   ]
  },
  {
   "cell_type": "markdown",
   "id": "6d9be248",
   "metadata": {},
   "source": [
    "[![Open In Colab](https://colab.research.google.com/assets/colab-badge.svg)](https://githubtocolab.com/worldbank/DECAT_Space2Stats/blob/main/docs/user-docs/space2stats_api_demo_urban_flood_risk.ipynb)"
   ]
  },
  {
   "cell_type": "code",
   "execution_count": 1,
   "id": "6ccbc52e",
   "metadata": {},
   "outputs": [],
   "source": [
    "# !pip install geopandas ipyleaflet"
   ]
  },
  {
   "cell_type": "code",
   "execution_count": 2,
   "id": "a4281bd0-0351-4432-96f0-88d89f7cb931",
   "metadata": {},
   "outputs": [
    {
     "name": "stderr",
     "output_type": "stream",
     "text": [
      "/opt/homebrew/Caskroom/miniconda/base/envs/pkgtest/lib/python3.10/site-packages/pyproj/network.py:59: UserWarning: pyproj unable to set PROJ database path.\n",
      "  _set_context_ca_bundle_path(ca_bundle_path)\n"
     ]
    }
   ],
   "source": [
    "import json\n",
    "import requests\n",
    "import pandas as pd\n",
    "import geopandas as gpd\n",
    "from shapely.geometry import shape\n",
    "from ipyleaflet import Map, DrawControl\n",
    "from space2stats_client import Space2StatsClient\n",
    "from space2stats_client.widgets import AOISelector"
   ]
  },
  {
   "cell_type": "code",
   "execution_count": 2,
   "id": "fa24e688-0dd2-48d9-8a8d-3d95028903c5",
   "metadata": {},
   "outputs": [
    {
     "data": {
      "application/vnd.jupyter.widget-view+json": {
       "model_id": "a8b86a32a0b04453972e7231592da3e0",
       "version_major": 2,
       "version_minor": 0
      },
      "text/plain": [
       "VBox(children=(HTML(value='<h3>🗺️ Area of Interest (AOI) Selector</h3>'), HTML(value=\"<div style='padding: 10p…"
      ]
     },
     "metadata": {},
     "output_type": "display_data"
    }
   ],
   "source": [
    "aoi_selector = AOISelector(center=(27.0, 29.7), zoom=6)\n",
    "aoi_selector.display()"
   ]
  },
  {
   "cell_type": "code",
   "execution_count": 7,
   "id": "fdde56b2-bc30-4a30-9760-4010f01b5a2d",
   "metadata": {},
   "outputs": [
    {
     "data": {
      "text/plain": [
       "                                            geometry        name\n",
       "0  POLYGON ((30.08057 26.23036, 30.08057 29.12913...  User AOI 1"
      ]
     },
     "execution_count": 7,
     "metadata": {},
     "output_type": "execute_result"
    }
   ],
   "source": [
    "aoi = aoi_selector.aoi\n",
    "aoi"
   ]
  },
  {
   "cell_type": "code",
   "execution_count": 8,
   "id": "f99f886b-90c8-4e94-b7fc-7c71659c4740",
   "metadata": {},
   "outputs": [],
   "source": [
    "client=Space2StatsClient()\n",
    "fields = [\n",
    "    \"sum_pop_2020\", \"sum_pop_f_2020\", \"sum_pop_m_2020\", \"pop_flood\", \"pop_flood_pct\",\n",
    "    \"ghs_11_pop\", \"ghs_12_pop\", \"ghs_13_pop\", \"ghs_21_pop\", \"ghs_22_pop\", \"ghs_23_pop\", \"ghs_30_pop\"\n",
    "]"
   ]
  },
  {
   "cell_type": "code",
   "execution_count": 9,
   "id": "2a6d5b65-9d62-41b3-bf34-1321fec98e64",
   "metadata": {},
   "outputs": [
    {
     "name": "stdout",
     "output_type": "stream",
     "text": [
      "Fetching data for boundary 1 of 1...\n"
     ]
    }
   ],
   "source": [
    "# Get available topics/datasets\n",
    "df = client.get_summary(\n",
    "    gdf=aoi.gdf,\n",
    "    spatial_join_method=\"centroid\",\n",
    "    fields=fields,\n",
    "    geometry=\"polygon\"\n",
    ")"
   ]
  },
  {
   "cell_type": "code",
   "execution_count": 10,
   "id": "bb62ba12-1b86-4c65-ad91-5c3f0f59a10a",
   "metadata": {
    "scrolled": true
   },
   "outputs": [],
   "source": [
    "# Convert df to gdf\n",
    "if isinstance(df.geometry.iloc[0], str):\n",
    "    df[\"geometry\"] = df.geometry.apply(json.loads)\n",
    "df[\"geometry\"] = df.geometry.apply(shape)\n",
    "gdf = gpd.GeoDataFrame(df, geometry=\"geometry\", crs=\"EPSG:4326\")"
   ]
  },
  {
   "cell_type": "code",
   "execution_count": 11,
   "id": "eea58697-ad0d-4a90-8751-1f633ca46f99",
   "metadata": {},
   "outputs": [
    {
     "data": {
      "text/html": [
       "<div>\n",
       "<style scoped>\n",
       "    .dataframe tbody tr th:only-of-type {\n",
       "        vertical-align: middle;\n",
       "    }\n",
       "\n",
       "    .dataframe tbody tr th {\n",
       "        vertical-align: top;\n",
       "    }\n",
       "\n",
       "    .dataframe thead th {\n",
       "        text-align: right;\n",
       "    }\n",
       "</style>\n",
       "<table border=\"1\" class=\"dataframe\">\n",
       "  <thead>\n",
       "    <tr style=\"text-align: right;\">\n",
       "      <th></th>\n",
       "      <th>name</th>\n",
       "      <th>index_gdf</th>\n",
       "      <th>index_h3</th>\n",
       "      <th>hex_id</th>\n",
       "      <th>geometry</th>\n",
       "      <th>sum_pop_2020</th>\n",
       "      <th>sum_pop_f_2020</th>\n",
       "      <th>sum_pop_m_2020</th>\n",
       "      <th>pop_flood</th>\n",
       "      <th>pop_flood_pct</th>\n",
       "      <th>ghs_11_pop</th>\n",
       "      <th>ghs_12_pop</th>\n",
       "      <th>ghs_13_pop</th>\n",
       "      <th>ghs_21_pop</th>\n",
       "      <th>ghs_22_pop</th>\n",
       "      <th>ghs_23_pop</th>\n",
       "      <th>ghs_30_pop</th>\n",
       "      <th>urban_pop</th>\n",
       "      <th>risk_score</th>\n",
       "      <th>risk_score_norm</th>\n",
       "    </tr>\n",
       "  </thead>\n",
       "  <tbody>\n",
       "    <tr>\n",
       "      <th>399</th>\n",
       "      <td>User AOI 1</td>\n",
       "      <td>0</td>\n",
       "      <td>399</td>\n",
       "      <td>863e46657ffffff</td>\n",
       "      <td>POLYGON ((31.14573 27.21547, 31.12845 27.18234...</td>\n",
       "      <td>1.593942e+10</td>\n",
       "      <td>7.927194e+09</td>\n",
       "      <td>8.012227e+09</td>\n",
       "      <td>368488.695989</td>\n",
       "      <td>0.650426</td>\n",
       "      <td>0.286214</td>\n",
       "      <td>43.898725</td>\n",
       "      <td>0.0</td>\n",
       "      <td>915.403993</td>\n",
       "      <td>0.0</td>\n",
       "      <td>20.302995</td>\n",
       "      <td>641632.233433</td>\n",
       "      <td>641652.536428</td>\n",
       "      <td>417347.318227</td>\n",
       "      <td>100.000000</td>\n",
       "    </tr>\n",
       "    <tr>\n",
       "      <th>303</th>\n",
       "      <td>User AOI 1</td>\n",
       "      <td>0</td>\n",
       "      <td>303</td>\n",
       "      <td>863e461afffffff</td>\n",
       "      <td>POLYGON ((30.84588 27.76354, 30.82858 27.73036...</td>\n",
       "      <td>1.593942e+10</td>\n",
       "      <td>7.927194e+09</td>\n",
       "      <td>8.012227e+09</td>\n",
       "      <td>158188.937597</td>\n",
       "      <td>0.669869</td>\n",
       "      <td>6.471631</td>\n",
       "      <td>1999.221003</td>\n",
       "      <td>0.0</td>\n",
       "      <td>2790.173053</td>\n",
       "      <td>0.0</td>\n",
       "      <td>21888.971348</td>\n",
       "      <td>274027.723812</td>\n",
       "      <td>295916.695159</td>\n",
       "      <td>198225.527161</td>\n",
       "      <td>47.496538</td>\n",
       "    </tr>\n",
       "    <tr>\n",
       "      <th>484</th>\n",
       "      <td>User AOI 1</td>\n",
       "      <td>0</td>\n",
       "      <td>484</td>\n",
       "      <td>863e4699fffffff</td>\n",
       "      <td>POLYGON ((30.74981 28.10564, 30.73248 28.07245...</td>\n",
       "      <td>1.593942e+10</td>\n",
       "      <td>7.927194e+09</td>\n",
       "      <td>8.012227e+09</td>\n",
       "      <td>171839.221415</td>\n",
       "      <td>0.603658</td>\n",
       "      <td>49.475881</td>\n",
       "      <td>623.250167</td>\n",
       "      <td>0.0</td>\n",
       "      <td>6253.058859</td>\n",
       "      <td>0.0</td>\n",
       "      <td>11949.665112</td>\n",
       "      <td>294007.560908</td>\n",
       "      <td>305957.226020</td>\n",
       "      <td>184693.640318</td>\n",
       "      <td>44.254182</td>\n",
       "    </tr>\n",
       "    <tr>\n",
       "      <th>276</th>\n",
       "      <td>User AOI 1</td>\n",
       "      <td>0</td>\n",
       "      <td>276</td>\n",
       "      <td>863e460b7ffffff</td>\n",
       "      <td>POLYGON ((30.80029 27.60091, 30.78303 27.56772...</td>\n",
       "      <td>1.593942e+10</td>\n",
       "      <td>7.927194e+09</td>\n",
       "      <td>8.012227e+09</td>\n",
       "      <td>143713.732009</td>\n",
       "      <td>0.696577</td>\n",
       "      <td>43.055753</td>\n",
       "      <td>585.262277</td>\n",
       "      <td>0.0</td>\n",
       "      <td>6080.221818</td>\n",
       "      <td>0.0</td>\n",
       "      <td>169.485524</td>\n",
       "      <td>254081.217079</td>\n",
       "      <td>254250.702603</td>\n",
       "      <td>177105.155543</td>\n",
       "      <td>42.435916</td>\n",
       "    </tr>\n",
       "    <tr>\n",
       "      <th>403</th>\n",
       "      <td>User AOI 1</td>\n",
       "      <td>0</td>\n",
       "      <td>403</td>\n",
       "      <td>863e46677ffffff</td>\n",
       "      <td>POLYGON ((31.13969 27.2785, 31.12239 27.24537,...</td>\n",
       "      <td>1.593942e+10</td>\n",
       "      <td>7.927194e+09</td>\n",
       "      <td>8.012227e+09</td>\n",
       "      <td>180460.999863</td>\n",
       "      <td>0.882970</td>\n",
       "      <td>0.000000</td>\n",
       "      <td>0.000000</td>\n",
       "      <td>0.0</td>\n",
       "      <td>12414.041634</td>\n",
       "      <td>0.0</td>\n",
       "      <td>26178.967637</td>\n",
       "      <td>169754.975996</td>\n",
       "      <td>195933.943634</td>\n",
       "      <td>173003.825605</td>\n",
       "      <td>41.453202</td>\n",
       "    </tr>\n",
       "  </tbody>\n",
       "</table>\n",
       "</div>"
      ],
      "text/plain": [
       "           name  index_gdf  index_h3           hex_id  \\\n",
       "399  User AOI 1          0       399  863e46657ffffff   \n",
       "303  User AOI 1          0       303  863e461afffffff   \n",
       "484  User AOI 1          0       484  863e4699fffffff   \n",
       "276  User AOI 1          0       276  863e460b7ffffff   \n",
       "403  User AOI 1          0       403  863e46677ffffff   \n",
       "\n",
       "                                              geometry  sum_pop_2020  \\\n",
       "399  POLYGON ((31.14573 27.21547, 31.12845 27.18234...  1.593942e+10   \n",
       "303  POLYGON ((30.84588 27.76354, 30.82858 27.73036...  1.593942e+10   \n",
       "484  POLYGON ((30.74981 28.10564, 30.73248 28.07245...  1.593942e+10   \n",
       "276  POLYGON ((30.80029 27.60091, 30.78303 27.56772...  1.593942e+10   \n",
       "403  POLYGON ((31.13969 27.2785, 31.12239 27.24537,...  1.593942e+10   \n",
       "\n",
       "     sum_pop_f_2020  sum_pop_m_2020      pop_flood  pop_flood_pct  ghs_11_pop  \\\n",
       "399    7.927194e+09    8.012227e+09  368488.695989       0.650426    0.286214   \n",
       "303    7.927194e+09    8.012227e+09  158188.937597       0.669869    6.471631   \n",
       "484    7.927194e+09    8.012227e+09  171839.221415       0.603658   49.475881   \n",
       "276    7.927194e+09    8.012227e+09  143713.732009       0.696577   43.055753   \n",
       "403    7.927194e+09    8.012227e+09  180460.999863       0.882970    0.000000   \n",
       "\n",
       "      ghs_12_pop  ghs_13_pop    ghs_21_pop  ghs_22_pop    ghs_23_pop  \\\n",
       "399    43.898725         0.0    915.403993         0.0     20.302995   \n",
       "303  1999.221003         0.0   2790.173053         0.0  21888.971348   \n",
       "484   623.250167         0.0   6253.058859         0.0  11949.665112   \n",
       "276   585.262277         0.0   6080.221818         0.0    169.485524   \n",
       "403     0.000000         0.0  12414.041634         0.0  26178.967637   \n",
       "\n",
       "        ghs_30_pop      urban_pop     risk_score  risk_score_norm  \n",
       "399  641632.233433  641652.536428  417347.318227       100.000000  \n",
       "303  274027.723812  295916.695159  198225.527161        47.496538  \n",
       "484  294007.560908  305957.226020  184693.640318        44.254182  \n",
       "276  254081.217079  254250.702603  177105.155543        42.435916  \n",
       "403  169754.975996  195933.943634  173003.825605        41.453202  "
      ]
     },
     "execution_count": 11,
     "metadata": {},
     "output_type": "execute_result"
    }
   ],
   "source": [
    "# Define urban_pop to only include semi-dense urban clusters (22_POP), dense urban clusters (23_POP) and urban centres (30_POP)\n",
    "gdf[\"urban_pop\"] = gdf[\"ghs_22_pop\"] + gdf[\"ghs_23_pop\"] + gdf[\"ghs_30_pop\"]\n",
    "\n",
    "# Calculate risk score using only the updated urban_pop\n",
    "gdf[\"risk_score\"] = gdf[\"pop_flood_pct\"] * gdf[\"urban_pop\"]\n",
    "\n",
    "# Filter to areas where urban_pop is significant (e.g., > 100 people)\n",
    "urban_gdf = gdf[gdf[\"urban_pop\"] > 100].copy()\n",
    "\n",
    "max_score = urban_gdf[\"risk_score\"].max()\n",
    "urban_gdf[\"risk_score_norm\"] = (urban_gdf[\"risk_score\"] / max_score) * 100\n",
    "\n",
    "# Now sorting and other operations will not raise SettingWithCopyWarning\n",
    "urban_gdf = urban_gdf.sort_values(\"risk_score_norm\", ascending=False)\n",
    "urban_gdf.head()\n"
   ]
  },
  {
   "cell_type": "code",
   "execution_count": 12,
   "id": "125ea600-78b4-4257-8c8d-1278616e5f90",
   "metadata": {},
   "outputs": [
    {
     "ename": "ImportError",
     "evalue": "The 'folium>=0.12', 'matplotlib' and 'mapclassify' packages are required for 'explore()'. You can install them using 'conda install -c conda-forge \"folium>=0.12\" matplotlib mapclassify' or 'pip install \"folium>=0.12\" matplotlib mapclassify'.",
     "output_type": "error",
     "traceback": [
      "\u001b[0;31m---------------------------------------------------------------------------\u001b[0m",
      "\u001b[0;31mModuleNotFoundError\u001b[0m                       Traceback (most recent call last)",
      "File \u001b[0;32m/opt/homebrew/Caskroom/miniconda/base/envs/pkgtest/lib/python3.10/site-packages/geopandas/explore.py:289\u001b[0m, in \u001b[0;36m_explore\u001b[0;34m(df, column, cmap, color, m, tiles, attr, tooltip, popup, highlight, categorical, legend, scheme, k, vmin, vmax, width, height, categories, classification_kwds, control_scale, marker_type, marker_kwds, style_kwds, highlight_kwds, missing_kwds, tooltip_kwds, popup_kwds, legend_kwds, map_kwds, **kwargs)\u001b[0m\n\u001b[1;32m    288\u001b[0m \u001b[38;5;28;01mimport\u001b[39;00m\u001b[38;5;250m \u001b[39m\u001b[38;5;21;01mbranca\u001b[39;00m\u001b[38;5;250m \u001b[39m\u001b[38;5;28;01mas\u001b[39;00m\u001b[38;5;250m \u001b[39m\u001b[38;5;21;01mbc\u001b[39;00m\n\u001b[0;32m--> 289\u001b[0m \u001b[38;5;28;01mimport\u001b[39;00m\u001b[38;5;250m \u001b[39m\u001b[38;5;21;01mfolium\u001b[39;00m\n\u001b[1;32m    290\u001b[0m \u001b[38;5;28;01mimport\u001b[39;00m\u001b[38;5;250m \u001b[39m\u001b[38;5;21;01mmatplotlib\u001b[39;00m\u001b[38;5;21;01m.\u001b[39;00m\u001b[38;5;21;01mpyplot\u001b[39;00m\u001b[38;5;250m \u001b[39m\u001b[38;5;28;01mas\u001b[39;00m\u001b[38;5;250m \u001b[39m\u001b[38;5;21;01mplt\u001b[39;00m\n",
      "\u001b[0;31mModuleNotFoundError\u001b[0m: No module named 'folium'",
      "\nDuring handling of the above exception, another exception occurred:\n",
      "\u001b[0;31mImportError\u001b[0m                               Traceback (most recent call last)",
      "Cell \u001b[0;32mIn[12], line 2\u001b[0m\n\u001b[1;32m      1\u001b[0m \u001b[38;5;66;03m# Now create your risk map\u001b[39;00m\n\u001b[0;32m----> 2\u001b[0m m_risk \u001b[38;5;241m=\u001b[39m \u001b[43murban_gdf\u001b[49m\u001b[38;5;241;43m.\u001b[39;49m\u001b[43mexplore\u001b[49m\u001b[43m(\u001b[49m\n\u001b[1;32m      3\u001b[0m \u001b[43m    \u001b[49m\u001b[43mcolumn\u001b[49m\u001b[38;5;241;43m=\u001b[39;49m\u001b[38;5;124;43m\"\u001b[39;49m\u001b[38;5;124;43mrisk_score_norm\u001b[39;49m\u001b[38;5;124;43m\"\u001b[39;49m\u001b[43m,\u001b[49m\n\u001b[1;32m      4\u001b[0m \u001b[43m    \u001b[49m\u001b[43mtooltip\u001b[49m\u001b[38;5;241;43m=\u001b[39;49m\u001b[43m[\u001b[49m\u001b[38;5;124;43m\"\u001b[39;49m\u001b[38;5;124;43msum_pop_2020\u001b[39;49m\u001b[38;5;124;43m\"\u001b[39;49m\u001b[43m,\u001b[49m\u001b[43m \u001b[49m\u001b[38;5;124;43m\"\u001b[39;49m\u001b[38;5;124;43mpop_flood\u001b[39;49m\u001b[38;5;124;43m\"\u001b[39;49m\u001b[43m,\u001b[49m\u001b[43m \u001b[49m\u001b[38;5;124;43m\"\u001b[39;49m\u001b[38;5;124;43mpop_flood_pct\u001b[39;49m\u001b[38;5;124;43m\"\u001b[39;49m\u001b[43m,\u001b[49m\u001b[43m \u001b[49m\u001b[38;5;124;43m\"\u001b[39;49m\u001b[38;5;124;43murban_pop\u001b[39;49m\u001b[38;5;124;43m\"\u001b[39;49m\u001b[43m,\u001b[49m\u001b[43m \u001b[49m\u001b[38;5;124;43m\"\u001b[39;49m\u001b[38;5;124;43mrisk_score\u001b[39;49m\u001b[38;5;124;43m\"\u001b[39;49m\u001b[43m]\u001b[49m\u001b[43m,\u001b[49m\n\u001b[1;32m      5\u001b[0m \u001b[43m    \u001b[49m\u001b[43mcmap\u001b[49m\u001b[38;5;241;43m=\u001b[39;49m\u001b[38;5;124;43m\"\u001b[39;49m\u001b[38;5;124;43mOrRd\u001b[39;49m\u001b[38;5;124;43m\"\u001b[39;49m\u001b[43m,\u001b[49m\n\u001b[1;32m      6\u001b[0m \u001b[43m    \u001b[49m\u001b[43mlegend\u001b[49m\u001b[38;5;241;43m=\u001b[39;49m\u001b[38;5;28;43;01mTrue\u001b[39;49;00m\u001b[43m,\u001b[49m\n\u001b[1;32m      7\u001b[0m \u001b[43m    \u001b[49m\u001b[43mscheme\u001b[49m\u001b[38;5;241;43m=\u001b[39;49m\u001b[38;5;124;43m\"\u001b[39;49m\u001b[38;5;124;43mquantiles\u001b[39;49m\u001b[38;5;124;43m\"\u001b[39;49m\u001b[43m,\u001b[49m\n\u001b[1;32m      8\u001b[0m \u001b[43m    \u001b[49m\u001b[43mlegend_kwds\u001b[49m\u001b[38;5;241;43m=\u001b[39;49m\u001b[38;5;28;43mdict\u001b[39;49m\u001b[43m(\u001b[49m\u001b[43mcolorbar\u001b[49m\u001b[38;5;241;43m=\u001b[39;49m\u001b[38;5;28;43;01mTrue\u001b[39;49;00m\u001b[43m,\u001b[49m\u001b[43m \u001b[49m\u001b[43mcaption\u001b[49m\u001b[38;5;241;43m=\u001b[39;49m\u001b[38;5;124;43m\"\u001b[39;49m\u001b[38;5;124;43mUrban Flood Score\u001b[39;49m\u001b[38;5;124;43m\"\u001b[39;49m\u001b[43m,\u001b[49m\u001b[43m \u001b[49m\u001b[43minterval\u001b[49m\u001b[38;5;241;43m=\u001b[39;49m\u001b[38;5;28;43;01mFalse\u001b[39;49;00m\u001b[43m)\u001b[49m\u001b[43m,\u001b[49m\n\u001b[1;32m      9\u001b[0m \u001b[43m    \u001b[49m\u001b[43mstyle_kwds\u001b[49m\u001b[38;5;241;43m=\u001b[39;49m\u001b[38;5;28;43mdict\u001b[39;49m\u001b[43m(\u001b[49m\u001b[43mweight\u001b[49m\u001b[38;5;241;43m=\u001b[39;49m\u001b[38;5;241;43m0.5\u001b[39;49m\u001b[43m,\u001b[49m\u001b[43m \u001b[49m\u001b[43mfillOpacity\u001b[49m\u001b[38;5;241;43m=\u001b[39;49m\u001b[38;5;241;43m0.8\u001b[39;49m\u001b[43m)\u001b[49m\u001b[43m,\u001b[49m\n\u001b[1;32m     10\u001b[0m \u001b[43m    \u001b[49m\u001b[43mname\u001b[49m\u001b[38;5;241;43m=\u001b[39;49m\u001b[38;5;124;43m\"\u001b[39;49m\u001b[38;5;124;43mUrban Flood Risk\u001b[39;49m\u001b[38;5;124;43m\"\u001b[39;49m\u001b[43m,\u001b[49m\n\u001b[1;32m     11\u001b[0m \u001b[43m)\u001b[49m\n\u001b[1;32m     13\u001b[0m aoi\u001b[38;5;241m.\u001b[39mgdf\u001b[38;5;241m.\u001b[39mexplore(\n\u001b[1;32m     14\u001b[0m     m\u001b[38;5;241m=\u001b[39mm_risk,  \u001b[38;5;66;03m# Add to the existing map\u001b[39;00m\n\u001b[1;32m     15\u001b[0m     color\u001b[38;5;241m=\u001b[39m\u001b[38;5;124m'\u001b[39m\u001b[38;5;124mred\u001b[39m\u001b[38;5;124m'\u001b[39m,\n\u001b[0;32m   (...)\u001b[0m\n\u001b[1;32m     18\u001b[0m     name\u001b[38;5;241m=\u001b[39m\u001b[38;5;124m\"\u001b[39m\u001b[38;5;124mAOI Boundary\u001b[39m\u001b[38;5;124m\"\u001b[39m\n\u001b[1;32m     19\u001b[0m )\n\u001b[1;32m     21\u001b[0m m_risk\n",
      "File \u001b[0;32m/opt/homebrew/Caskroom/miniconda/base/envs/pkgtest/lib/python3.10/site-packages/geopandas/geodataframe.py:2482\u001b[0m, in \u001b[0;36mGeoDataFrame.explore\u001b[0;34m(self, *args, **kwargs)\u001b[0m\n\u001b[1;32m   2480\u001b[0m \u001b[38;5;129m@doc\u001b[39m(_explore)\n\u001b[1;32m   2481\u001b[0m \u001b[38;5;28;01mdef\u001b[39;00m\u001b[38;5;250m \u001b[39m\u001b[38;5;21mexplore\u001b[39m(\u001b[38;5;28mself\u001b[39m, \u001b[38;5;241m*\u001b[39margs, \u001b[38;5;241m*\u001b[39m\u001b[38;5;241m*\u001b[39mkwargs) \u001b[38;5;241m-\u001b[39m\u001b[38;5;241m>\u001b[39m folium\u001b[38;5;241m.\u001b[39mMap:\n\u001b[0;32m-> 2482\u001b[0m     \u001b[38;5;28;01mreturn\u001b[39;00m \u001b[43m_explore\u001b[49m\u001b[43m(\u001b[49m\u001b[38;5;28;43mself\u001b[39;49m\u001b[43m,\u001b[49m\u001b[43m \u001b[49m\u001b[38;5;241;43m*\u001b[39;49m\u001b[43margs\u001b[49m\u001b[43m,\u001b[49m\u001b[43m \u001b[49m\u001b[38;5;241;43m*\u001b[39;49m\u001b[38;5;241;43m*\u001b[39;49m\u001b[43mkwargs\u001b[49m\u001b[43m)\u001b[49m\n",
      "File \u001b[0;32m/opt/homebrew/Caskroom/miniconda/base/envs/pkgtest/lib/python3.10/site-packages/geopandas/explore.py:296\u001b[0m, in \u001b[0;36m_explore\u001b[0;34m(df, column, cmap, color, m, tiles, attr, tooltip, popup, highlight, categorical, legend, scheme, k, vmin, vmax, width, height, categories, classification_kwds, control_scale, marker_type, marker_kwds, style_kwds, highlight_kwds, missing_kwds, tooltip_kwds, popup_kwds, legend_kwds, map_kwds, **kwargs)\u001b[0m\n\u001b[1;32m    293\u001b[0m     \u001b[38;5;28;01mfrom\u001b[39;00m\u001b[38;5;250m \u001b[39m\u001b[38;5;21;01mmatplotlib\u001b[39;00m\u001b[38;5;250m \u001b[39m\u001b[38;5;28;01mimport\u001b[39;00m colors\n\u001b[1;32m    295\u001b[0m \u001b[38;5;28;01mexcept\u001b[39;00m (\u001b[38;5;167;01mImportError\u001b[39;00m, \u001b[38;5;167;01mModuleNotFoundError\u001b[39;00m):\n\u001b[0;32m--> 296\u001b[0m     \u001b[38;5;28;01mraise\u001b[39;00m \u001b[38;5;167;01mImportError\u001b[39;00m(\n\u001b[1;32m    297\u001b[0m         \u001b[38;5;124m\"\u001b[39m\u001b[38;5;124mThe \u001b[39m\u001b[38;5;124m'\u001b[39m\u001b[38;5;124mfolium>=0.12\u001b[39m\u001b[38;5;124m'\u001b[39m\u001b[38;5;124m, \u001b[39m\u001b[38;5;124m'\u001b[39m\u001b[38;5;124mmatplotlib\u001b[39m\u001b[38;5;124m'\u001b[39m\u001b[38;5;124m and \u001b[39m\u001b[38;5;124m'\u001b[39m\u001b[38;5;124mmapclassify\u001b[39m\u001b[38;5;124m'\u001b[39m\u001b[38;5;124m packages \u001b[39m\u001b[38;5;124m\"\u001b[39m\n\u001b[1;32m    298\u001b[0m         \u001b[38;5;124m\"\u001b[39m\u001b[38;5;124mare required for \u001b[39m\u001b[38;5;124m'\u001b[39m\u001b[38;5;124mexplore()\u001b[39m\u001b[38;5;124m'\u001b[39m\u001b[38;5;124m. You can install them using \u001b[39m\u001b[38;5;124m\"\u001b[39m\n\u001b[1;32m    299\u001b[0m         \u001b[38;5;124m\"\u001b[39m\u001b[38;5;124m'\u001b[39m\u001b[38;5;124mconda install -c conda-forge \u001b[39m\u001b[38;5;130;01m\\\"\u001b[39;00m\u001b[38;5;124mfolium>=0.12\u001b[39m\u001b[38;5;130;01m\\\"\u001b[39;00m\u001b[38;5;124m matplotlib mapclassify\u001b[39m\u001b[38;5;124m'\u001b[39m\u001b[38;5;124m \u001b[39m\u001b[38;5;124m\"\u001b[39m\n\u001b[1;32m    300\u001b[0m         \u001b[38;5;124m\"\u001b[39m\u001b[38;5;124mor \u001b[39m\u001b[38;5;124m'\u001b[39m\u001b[38;5;124mpip install \u001b[39m\u001b[38;5;130;01m\\\"\u001b[39;00m\u001b[38;5;124mfolium>=0.12\u001b[39m\u001b[38;5;130;01m\\\"\u001b[39;00m\u001b[38;5;124m matplotlib mapclassify\u001b[39m\u001b[38;5;124m'\u001b[39m\u001b[38;5;124m.\u001b[39m\u001b[38;5;124m\"\u001b[39m\n\u001b[1;32m    301\u001b[0m     )\n\u001b[1;32m    303\u001b[0m \u001b[38;5;66;03m# xyservices is an optional dependency\u001b[39;00m\n\u001b[1;32m    304\u001b[0m \u001b[38;5;28;01mtry\u001b[39;00m:\n",
      "\u001b[0;31mImportError\u001b[0m: The 'folium>=0.12', 'matplotlib' and 'mapclassify' packages are required for 'explore()'. You can install them using 'conda install -c conda-forge \"folium>=0.12\" matplotlib mapclassify' or 'pip install \"folium>=0.12\" matplotlib mapclassify'."
     ]
    }
   ],
   "source": [
    "# Now create your risk map\n",
    "m_risk = urban_gdf.explore(\n",
    "    column=\"risk_score_norm\",\n",
    "    tooltip=[\"sum_pop_2020\", \"pop_flood\", \"pop_flood_pct\", \"urban_pop\", \"risk_score\"],\n",
    "    cmap=\"OrRd\",\n",
    "    legend=True,\n",
    "    scheme=\"quantiles\",\n",
    "    legend_kwds=dict(colorbar=True, caption=\"Urban Flood Score\", interval=False),\n",
    "    style_kwds=dict(weight=0.5, fillOpacity=0.8),\n",
    "    name=\"Urban Flood Risk\",\n",
    ")\n",
    "\n",
    "aoi.gdf.explore(\n",
    "    m=m_risk,  # Add to the existing map\n",
    "    color='red',\n",
    "    weight=3,\n",
    "    fill=False,\n",
    "    name=\"AOI Boundary\"\n",
    ")\n",
    "\n",
    "m_risk"
   ]
  },
  {
   "cell_type": "code",
   "execution_count": null,
   "id": "a03944dc-bebf-4c0b-bf62-29b719737201",
   "metadata": {},
   "outputs": [],
   "source": []
  },
  {
   "cell_type": "code",
   "execution_count": null,
   "id": "4681b6ca-a0c5-414e-b5ca-c25b3a7f64fc",
   "metadata": {},
   "outputs": [],
   "source": []
  }
 ],
 "metadata": {
  "kernelspec": {
   "display_name": "Python 3 (ipykernel)",
   "language": "python",
   "name": "python3"
  },
  "language_info": {
   "codemirror_mode": {
    "name": "ipython",
    "version": 3
   },
   "file_extension": ".py",
   "mimetype": "text/x-python",
   "name": "python",
   "nbconvert_exporter": "python",
   "pygments_lexer": "ipython3",
   "version": "3.10.18"
  }
 },
 "nbformat": 4,
 "nbformat_minor": 5
}
