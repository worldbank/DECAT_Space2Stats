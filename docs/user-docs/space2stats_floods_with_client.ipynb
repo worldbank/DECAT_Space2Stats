{
 "cells": [
  {
   "cell_type": "markdown",
   "metadata": {},
   "source": [
    "# Flood Exposure Notebook\n",
    "\n",
    "**Explore S2S Metadata and API**\n",
    "\n",
    "This notebook walks through an example that explores the Space2Stats Metadata, and then uses the API to fetch flood data for various provinces within a country."
   ]
  },
  {
   "cell_type": "markdown",
   "metadata": {},
   "source": [
    "[![Open In Colab](https://colab.research.google.com/assets/colab-badge.svg)](https://githubtocolab.com/worldbank/DECAT_Space2Stats/blob/main/docs/user-docs/space2stats_floods_with_client.ipynb)"
   ]
  },
  {
   "cell_type": "code",
   "execution_count": null,
   "metadata": {},
   "outputs": [],
   "source": [
    "# !pip install space2stats-client matplotlib contextily "
   ]
  },
  {
   "cell_type": "code",
   "execution_count": 1,
   "metadata": {},
   "outputs": [],
   "source": [
    "import pandas as pd\n",
    "import geopandas as gpd\n",
    "from shapely import from_geojson\n",
    "import matplotlib.pyplot as plt # pip install matplotlib contextily\n",
    "import contextily as ctx\n",
    "from space2stats_client import Space2StatsClient\n",
    "\n",
    "# Initialize the client\n",
    "client = Space2StatsClient(verify_ssl=False)  # Set verify_ssl=False if you encounter SSL issues\n",
    "\n",
    "# Supress InsecureRequestWarning\n",
    "import urllib3\n",
    "urllib3.disable_warnings(urllib3.exceptions.InsecureRequestWarning)"
   ]
  },
  {
   "cell_type": "markdown",
   "metadata": {},
   "source": [
    "## Query Metadata"
   ]
  },
  {
   "cell_type": "markdown",
   "metadata": {},
   "source": [
    "Each dataset in Space2Stats is stored as a STAC item. Metadata for each item can be explored through the following [browser](https://radiantearth.github.io/stac-browser/#/external/raw.githubusercontent.com/worldbank/DECAT_Space2Stats/refs/heads/main/space2stats_api/src/space2stats_ingest/METADATA/stac/space2stats-collection/collection.json). \n",
    "\n",
    "The `get_topics` function retrieves a list of dictionaries with key details for each dataset. The keys in each dictionary are the item ids."
   ]
  },
  {
   "cell_type": "code",
   "execution_count": null,
   "metadata": {},
   "outputs": [],
   "source": [
    "topics = client.get_topics()\n",
    "pd.options.display.max_colwidth = None\n",
    "topics"
   ]
  },
  {
   "cell_type": "markdown",
   "metadata": {},
   "source": [
    "We can extract additional metadata like fields and descriptions using the item id."
   ]
  },
  {
   "cell_type": "code",
   "execution_count": null,
   "metadata": {},
   "outputs": [],
   "source": [
    "properties = client.get_properties(\"flood_exposure_15cm_1in100\")\n",
    "properties"
   ]
  },
  {
   "cell_type": "markdown",
   "metadata": {},
   "source": [
    "Alternatively, we can also explore the fields avaialble via the API fields endpoint:"
   ]
  },
  {
   "cell_type": "code",
   "execution_count": null,
   "metadata": {},
   "outputs": [],
   "source": [
    "fields = client.get_fields()\n",
    "fields"
   ]
  },
  {
   "cell_type": "markdown",
   "metadata": {},
   "source": [
    "## Extract H3 Data"
   ]
  },
  {
   "cell_type": "markdown",
   "metadata": {},
   "source": [
    "Let's work with the subset of fields from the flood exposure item: `['pop', 'pop_flood', 'pop_flood_pct']`"
   ]
  },
  {
   "cell_type": "code",
   "execution_count": null,
   "metadata": {},
   "outputs": [],
   "source": [
    "flood_vars = ['pop', 'pop_flood', 'pop_flood_pct']"
   ]
  },
  {
   "cell_type": "markdown",
   "metadata": {},
   "source": [
    "We will define our AOIs by fetching admin boundaries from the GeoBoundaries project."
   ]
  },
  {
   "cell_type": "code",
   "execution_count": null,
   "metadata": {},
   "outputs": [],
   "source": [
    "# Try fetching the boundaries\n",
    "ISO3 = \"UGA\" # Uganda\n",
    "ADM = \"ADM2\" # Level 2 administrative boundaries\n",
    "adm_boundaries = client.fetch_admin_boundaries(ISO3, ADM)\n",
    "adm_boundaries.plot()"
   ]
  },
  {
   "cell_type": "code",
   "execution_count": null,
   "metadata": {},
   "outputs": [],
   "source": [
    "client.get_summary?"
   ]
  },
  {
   "cell_type": "markdown",
   "metadata": {},
   "source": [
    "Run API Calls"
   ]
  },
  {
   "cell_type": "code",
   "execution_count": null,
   "metadata": {},
   "outputs": [],
   "source": [
    "df = client.get_summary(\n",
    "    gdf=adm_boundaries, \n",
    "    spatial_join_method=\"centroid\", \n",
    "    fields=flood_vars,\n",
    "    geometry=\"polygon\"\n",
    ")"
   ]
  },
  {
   "cell_type": "code",
   "execution_count": null,
   "metadata": {},
   "outputs": [],
   "source": [
    "pd.reset_option('display.max_colwidth')\n",
    "df.head()"
   ]
  },
  {
   "cell_type": "markdown",
   "metadata": {},
   "source": [
    "Check that there are no duplicate hexagon ids"
   ]
  },
  {
   "cell_type": "code",
   "execution_count": null,
   "metadata": {},
   "outputs": [],
   "source": [
    "df['hex_id'].duplicated().sum()"
   ]
  },
  {
   "cell_type": "markdown",
   "metadata": {},
   "source": [
    "Convert geometry column from geojson into shapely polygons"
   ]
  },
  {
   "cell_type": "code",
   "execution_count": null,
   "metadata": {},
   "outputs": [],
   "source": [
    "df[\"geometry\"] = df[\"geometry\"].apply(lambda geom: from_geojson(geom))\n",
    "gdf = gpd.GeoDataFrame(df, geometry=\"geometry\", crs=\"EPSG:4326\")\n",
    "gdf.head()"
   ]
  },
  {
   "cell_type": "markdown",
   "metadata": {},
   "source": [
    "Map hexagon data"
   ]
  },
  {
   "cell_type": "code",
   "execution_count": null,
   "metadata": {},
   "outputs": [],
   "source": [
    "fig, ax = plt.subplots(1, 1, figsize=(10, 10))\n",
    "gdf.plot(ax=ax, column=\"pop_flood_pct\", \n",
    "         legend=True, cmap=\"Reds\", alpha=0.75, \n",
    "         scheme=\"equal_interval\", k=5, \n",
    "         legend_kwds=dict(title='% Pop. Exposed', fmt=\"{:.0%}\"),\n",
    "         linewidth=0)\n",
    "ctx.add_basemap(ax, source=ctx.providers.Esri.WorldPhysical, crs=3857)\n",
    "plt.axis(\"off\")\n",
    "plt.show()"
   ]
  },
  {
   "cell_type": "markdown",
   "metadata": {},
   "source": [
    "## Extract Admin Summaries"
   ]
  },
  {
   "cell_type": "code",
   "execution_count": null,
   "metadata": {},
   "outputs": [],
   "source": [
    "adm_boundaries_zs = client.get_aggregate(\n",
    "    gdf=adm_boundaries, \n",
    "    spatial_join_method=\"centroid\", \n",
    "    fields=['pop', 'pop_flood'], \n",
    "    aggregation_type=\"sum\"\n",
    ")"
   ]
  },
  {
   "cell_type": "code",
   "execution_count": null,
   "metadata": {},
   "outputs": [],
   "source": [
    "adm_boundaries_zs.head()"
   ]
  },
  {
   "cell_type": "markdown",
   "metadata": {},
   "source": [
    "Recalculate share of population exposed with aggregate data"
   ]
  },
  {
   "cell_type": "code",
   "execution_count": null,
   "metadata": {},
   "outputs": [],
   "source": [
    "adm_boundaries_zs.loc[:, \"pop_flood_pct\"] = adm_boundaries_zs[\"pop_flood\"] / adm_boundaries_zs[\"pop\"]"
   ]
  },
  {
   "cell_type": "code",
   "execution_count": null,
   "metadata": {},
   "outputs": [],
   "source": [
    "fig, ax = plt.subplots(1, 1, figsize=(10, 10))\n",
    "adm_boundaries_zs.plot(\n",
    "    ax=ax, column=\"pop_flood_pct\", legend=True, \n",
    "    cmap=\"Reds\", scheme=\"natural_breaks\", \n",
    "    k=5, legend_kwds=dict(title='% Pop. Exposed', fmt=\"{:.0%}\"),\n",
    "    linewidth=0.2, edgecolor='black')\n",
    "ctx.add_basemap(ax, source=ctx.providers.Esri.WorldPhysical, crs='EPSG:4326')\n",
    "plt.axis(\"off\")\n",
    "plt.show()"
   ]
  },
  {
   "cell_type": "markdown",
   "metadata": {},
   "source": [
    "List top 20 provinces by population exposed"
   ]
  },
  {
   "cell_type": "code",
   "execution_count": null,
   "metadata": {},
   "outputs": [],
   "source": [
    "table = adm_boundaries_zs.sort_values('pop_flood_pct', ascending=False).head(20)[['shapeName', 'pop_flood', 'pop_flood_pct']].rename(\n",
    "    columns={\n",
    "        'shapeName': 'Province'\n",
    "        })\n",
    "table.loc[:, \"Population Exposed\"] = table.loc[:, \"pop_flood\"].apply(lambda x: f\"{x:,.0f}\")\n",
    "table.loc[:, \"Population Exposed (%)\"] = table.loc[:, \"pop_flood_pct\"].apply(lambda x: f\"{x:.2%}\")\n",
    "table.reset_index(drop=True, inplace=True)\n",
    "display(table[['Province', 'Population Exposed', 'Population Exposed (%)']])"
   ]
  }
 ],
 "metadata": {
  "kernelspec": {
   "display_name": "s2s_ingest",
   "language": "python",
   "name": "python3"
  },
  "language_info": {
   "codemirror_mode": {
    "name": "ipython",
    "version": 3
   },
   "file_extension": ".py",
   "mimetype": "text/x-python",
   "name": "python",
   "nbconvert_exporter": "python",
   "pygments_lexer": "ipython3",
   "version": "3.10.16"
  }
 },
 "nbformat": 4,
 "nbformat_minor": 4
}
