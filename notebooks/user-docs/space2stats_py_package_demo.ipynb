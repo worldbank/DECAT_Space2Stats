{
 "cells": [
  {
   "cell_type": "markdown",
   "metadata": {},
   "source": [
    "# Access S2S via Python Library"
   ]
  },
  {
   "cell_type": "code",
   "execution_count": 1,
   "metadata": {},
   "outputs": [],
   "source": [
    "%%capture\n",
    "%pip install \"git+https://github.com/worldbank/DECAT_Space2Stats.git#subdirectory=space2stats_api/src\""
   ]
  },
  {
   "cell_type": "code",
   "execution_count": 2,
   "metadata": {},
   "outputs": [],
   "source": [
    "from typing import Dict\n",
    "\n",
    "import numpy as np\n",
    "from dotenv import load_dotenv\n",
    "import pandas as pd\n",
    "import geopandas as gpd\n",
    "from shapely.geometry import shape\n",
    "from lonboard import Map, ScatterplotLayer\n",
    "from geojson_pydantic import Feature, Polygon\n",
    "\n",
    "from space2stats import StatsTable"
   ]
  },
  {
   "cell_type": "markdown",
   "metadata": {},
   "source": [
    "__Expected environment variables to be set__ from dotenv file\n",
    "\n",
    "\n",
    "```.env\n",
    "PGHOST=\n",
    "PGPORT=\n",
    "PGDATABASE=\n",
    "PGUSER=\n",
    "PGPASSWORD=\n",
    "PGTABLENAME=space2stats\n",
    "```"
   ]
  },
  {
   "cell_type": "code",
   "execution_count": 3,
   "metadata": {},
   "outputs": [
    {
     "data": {
      "text/plain": [
       "True"
      ]
     },
     "execution_count": 3,
     "metadata": {},
     "output_type": "execute_result"
    }
   ],
   "source": [
    "load_dotenv(\"../../db.env\")"
   ]
  },
  {
   "cell_type": "code",
   "execution_count": 4,
   "metadata": {},
   "outputs": [
    {
     "data": {
      "text/plain": [
       "['sum_pop_2020',\n",
       " 'ogc_fid',\n",
       " 'sum_pop_f_0_2020',\n",
       " 'sum_pop_f_10_2020',\n",
       " 'sum_pop_f_15_2020',\n",
       " 'sum_pop_f_1_2020',\n",
       " 'sum_pop_f_20_2020',\n",
       " 'sum_pop_f_25_2020',\n",
       " 'sum_pop_f_30_2020',\n",
       " 'sum_pop_f_35_2020',\n",
       " 'sum_pop_f_40_2020',\n",
       " 'sum_pop_f_45_2020',\n",
       " 'sum_pop_f_50_2020',\n",
       " 'sum_pop_f_55_2020',\n",
       " 'sum_pop_f_5_2020',\n",
       " 'sum_pop_f_60_2020',\n",
       " 'sum_pop_f_65_2020',\n",
       " 'sum_pop_f_70_2020',\n",
       " 'sum_pop_f_75_2020',\n",
       " 'sum_pop_f_80_2020',\n",
       " 'sum_pop_m_0_2020',\n",
       " 'sum_pop_m_10_2020',\n",
       " 'sum_pop_m_15_2020',\n",
       " 'sum_pop_m_1_2020',\n",
       " 'sum_pop_m_20_2020',\n",
       " 'sum_pop_m_25_2020',\n",
       " 'sum_pop_m_30_2020',\n",
       " 'sum_pop_m_35_2020',\n",
       " 'sum_pop_m_40_2020',\n",
       " 'sum_pop_m_45_2020',\n",
       " 'sum_pop_m_50_2020',\n",
       " 'sum_pop_m_55_2020',\n",
       " 'sum_pop_m_5_2020',\n",
       " 'sum_pop_m_60_2020',\n",
       " 'sum_pop_m_65_2020',\n",
       " 'sum_pop_m_70_2020',\n",
       " 'sum_pop_m_75_2020',\n",
       " 'sum_pop_m_80_2020',\n",
       " 'sum_pop_m_2020',\n",
       " 'sum_pop_f_2020']"
      ]
     },
     "execution_count": 4,
     "metadata": {},
     "output_type": "execute_result"
    }
   ],
   "source": [
    "with StatsTable.connect() as stats_table:\n",
    "    fields = stats_table.fields()\n",
    "\n",
    "fields"
   ]
  },
  {
   "cell_type": "code",
   "execution_count": 5,
   "metadata": {},
   "outputs": [],
   "source": [
    "AOIModel = Feature[Polygon, Dict]\n",
    "\n",
    "# ~kenya\n",
    "aoi = {\n",
    "    \"type\": \"Feature\",\n",
    "    \"geometry\": {\n",
    "        \"type\": \"Polygon\",\n",
    "        \"coordinates\": [\n",
    "            [\n",
    "                [33.78593974945852, 5.115816884114494],\n",
    "                [33.78593974945852, -4.725410543134203],\n",
    "                [41.94362577283266, -4.725410543134203],\n",
    "                [41.94362577283266, 5.115816884114494],\n",
    "                [33.78593974945852, 5.115816884114494]\n",
    "            ]\n",
    "        ]\n",
    "    },\n",
    "    \"properties\": {\n",
    "        \"name\": \"Updated AOI\"\n",
    "    }\n",
    "}\n",
    "          \n",
    "  \n",
    "\n",
    "feat = AOIModel(**aoi)"
   ]
  },
  {
   "cell_type": "code",
   "execution_count": 6,
   "metadata": {},
   "outputs": [
    {
     "ename": "AttributeError",
     "evalue": "module 'h3' has no attribute 'polyfill'",
     "output_type": "error",
     "traceback": [
      "\u001b[1;31m---------------------------------------------------------------------------\u001b[0m",
      "\u001b[1;31mAttributeError\u001b[0m                            Traceback (most recent call last)",
      "Cell \u001b[1;32mIn[6], line 2\u001b[0m\n\u001b[0;32m      1\u001b[0m \u001b[38;5;28;01mwith\u001b[39;00m StatsTable\u001b[38;5;241m.\u001b[39mconnect() \u001b[38;5;28;01mas\u001b[39;00m stats_table:\n\u001b[1;32m----> 2\u001b[0m     data \u001b[38;5;241m=\u001b[39m stats_table\u001b[38;5;241m.\u001b[39msummaries(aoi\u001b[38;5;241m=\u001b[39mfeat, spatial_join_method\u001b[38;5;241m=\u001b[39m\u001b[38;5;124m\"\u001b[39m\u001b[38;5;124mcentroid\u001b[39m\u001b[38;5;124m\"\u001b[39m, fields\u001b[38;5;241m=\u001b[39mfields, geometry\u001b[38;5;241m=\u001b[39m\u001b[38;5;124m\"\u001b[39m\u001b[38;5;124mpoint\u001b[39m\u001b[38;5;124m\"\u001b[39m)\n\u001b[0;32m      3\u001b[0m     df \u001b[38;5;241m=\u001b[39m pd\u001b[38;5;241m.\u001b[39mDataFrame(data)\n\u001b[0;32m      5\u001b[0m df\u001b[38;5;241m.\u001b[39mhead()\n",
      "File \u001b[1;32mC:\\wbg\\Anaconda3\\envs\\gn\\Lib\\site-packages\\space2stats\\lib.py:77\u001b[0m, in \u001b[0;36mStatsTable.summaries\u001b[1;34m(self, aoi, spatial_join_method, fields, geometry)\u001b[0m\n\u001b[0;32m     75\u001b[0m \u001b[38;5;66;03m# Get H3 ids from geometry\u001b[39;00m\n\u001b[0;32m     76\u001b[0m resolution \u001b[38;5;241m=\u001b[39m \u001b[38;5;241m6\u001b[39m\n\u001b[1;32m---> 77\u001b[0m h3_ids \u001b[38;5;241m=\u001b[39m generate_h3_ids(\n\u001b[0;32m     78\u001b[0m     aoi\u001b[38;5;241m.\u001b[39mgeometry\u001b[38;5;241m.\u001b[39mmodel_dump(exclude_none\u001b[38;5;241m=\u001b[39m\u001b[38;5;28;01mTrue\u001b[39;00m),\n\u001b[0;32m     79\u001b[0m     resolution,\n\u001b[0;32m     80\u001b[0m     spatial_join_method,\n\u001b[0;32m     81\u001b[0m )\n\u001b[0;32m     83\u001b[0m \u001b[38;5;28;01mif\u001b[39;00m \u001b[38;5;129;01mnot\u001b[39;00m h3_ids:\n\u001b[0;32m     84\u001b[0m     \u001b[38;5;28;01mreturn\u001b[39;00m []\n",
      "File \u001b[1;32mC:\\wbg\\Anaconda3\\envs\\gn\\Lib\\site-packages\\space2stats\\h3_utils.py:113\u001b[0m, in \u001b[0;36mgenerate_h3_ids\u001b[1;34m(aoi_geojson, resolution, spatial_join_method)\u001b[0m\n\u001b[0;32m    108\u001b[0m         h3_ids\u001b[38;5;241m.\u001b[39mupdate(\n\u001b[0;32m    109\u001b[0m             _generate_h3_ids(geom_geojson, resolution, spatial_join_method)\n\u001b[0;32m    110\u001b[0m         )\n\u001b[0;32m    111\u001b[0m \u001b[38;5;28;01melse\u001b[39;00m:\n\u001b[0;32m    112\u001b[0m     \u001b[38;5;66;03m# Single polygon case\u001b[39;00m\n\u001b[1;32m--> 113\u001b[0m     h3_ids \u001b[38;5;241m=\u001b[39m _generate_h3_ids(aoi_geojson, resolution, spatial_join_method)\n\u001b[0;32m    115\u001b[0m \u001b[38;5;28;01mreturn\u001b[39;00m h3_ids\n",
      "File \u001b[1;32mC:\\wbg\\Anaconda3\\envs\\gn\\Lib\\site-packages\\space2stats\\h3_utils.py:71\u001b[0m, in \u001b[0;36m_generate_h3_ids\u001b[1;34m(aoi_geojson, resolution, spatial_join_method)\u001b[0m\n\u001b[0;32m     66\u001b[0m     \u001b[38;5;28;01mraise\u001b[39;00m \u001b[38;5;167;01mValueError\u001b[39;00m(\u001b[38;5;124mf\u001b[39m\u001b[38;5;124m\"\u001b[39m\u001b[38;5;124mInvalid spatial join method: \u001b[39m\u001b[38;5;132;01m{\u001b[39;00mspatial_join_method\u001b[38;5;132;01m}\u001b[39;00m\u001b[38;5;124m\"\u001b[39m)\n\u001b[0;32m     68\u001b[0m \u001b[38;5;66;03m# Generate H3 hexagons covering the AOI\u001b[39;00m\n\u001b[0;32m     69\u001b[0m \u001b[38;5;66;03m# Polyfill defines containment based on centroid:\u001b[39;00m\n\u001b[0;32m     70\u001b[0m \u001b[38;5;66;03m# https://h3geo.org/docs/3.x/api/regions/#polyfill\u001b[39;00m\n\u001b[1;32m---> 71\u001b[0m h3_ids \u001b[38;5;241m=\u001b[39m _recursive_polyfill(aoi_geojson, resolution, resolution)\n\u001b[0;32m     73\u001b[0m \u001b[38;5;28;01mif\u001b[39;00m spatial_join_method \u001b[38;5;241m==\u001b[39m \u001b[38;5;124m\"\u001b[39m\u001b[38;5;124mwithin\u001b[39m\u001b[38;5;124m\"\u001b[39m:\n\u001b[0;32m     74\u001b[0m     h3_ids \u001b[38;5;241m=\u001b[39m _find_within(aoi_geojson, h3_ids)\n",
      "File \u001b[1;32mC:\\wbg\\Anaconda3\\envs\\gn\\Lib\\site-packages\\space2stats\\h3_utils.py:14\u001b[0m, in \u001b[0;36m_recursive_polyfill\u001b[1;34m(aoi_geojson, resolution, original_resolution)\u001b[0m\n\u001b[0;32m     10\u001b[0m \u001b[38;5;28;01mdef\u001b[39;00m \u001b[38;5;21m_recursive_polyfill\u001b[39m(\n\u001b[0;32m     11\u001b[0m     aoi_geojson: Dict[\u001b[38;5;28mstr\u001b[39m, Any], resolution: \u001b[38;5;28mint\u001b[39m, original_resolution: \u001b[38;5;28mint\u001b[39m\n\u001b[0;32m     12\u001b[0m ) \u001b[38;5;241m-\u001b[39m\u001b[38;5;241m>\u001b[39m Set[\u001b[38;5;28mstr\u001b[39m]:\n\u001b[0;32m     13\u001b[0m     \u001b[38;5;66;03m# Attempt to get H3 IDs at the current resolution\u001b[39;00m\n\u001b[1;32m---> 14\u001b[0m     h3_ids \u001b[38;5;241m=\u001b[39m h3\u001b[38;5;241m.\u001b[39mpolyfill(aoi_geojson, resolution, geo_json_conformant\u001b[38;5;241m=\u001b[39m\u001b[38;5;28;01mTrue\u001b[39;00m)\n\u001b[0;32m     16\u001b[0m     \u001b[38;5;66;03m# If valid H3 IDs are found, return them\u001b[39;00m\n\u001b[0;32m     17\u001b[0m     \u001b[38;5;28;01mif\u001b[39;00m h3_ids:\n",
      "\u001b[1;31mAttributeError\u001b[0m: module 'h3' has no attribute 'polyfill'"
     ]
    }
   ],
   "source": [
    "with StatsTable.connect() as stats_table:\n",
    "    data = stats_table.summaries(aoi=feat, spatial_join_method=\"centroid\", fields=fields, geometry=\"point\")\n",
    "    df = pd.DataFrame(data)\n",
    "\n",
    "df.head()"
   ]
  },
  {
   "cell_type": "code",
   "execution_count": null,
   "metadata": {},
   "outputs": [],
   "source": [
    "df['geometry'] = df['geometry'].apply(lambda geom: shape(geom))\n",
    "gdf = gpd.GeoDataFrame(df, geometry='geometry', crs='EPSG:4326')\n",
    "gdf"
   ]
  },
  {
   "cell_type": "code",
   "execution_count": null,
   "metadata": {},
   "outputs": [],
   "source": [
    "# Define custom breaks and corresponding RGBA colors\n",
    "breaks = [0, 1, 1000, 10000, 50000, 100000, 200000, gdf[\"sum_pop_2020\"].max()]\n",
    "colors = np.array([\n",
    "    [211, 211, 211, 255],  # Light gray for 0\n",
    "    [255, 255, 0, 255],    # Yellow for 1-1000\n",
    "    [255, 165, 0, 255],    # Orange for 1000-10000\n",
    "    [255, 0, 0, 255],      # Red for 10000-50000\n",
    "    [128, 0, 128, 255],    # Purple for 50000-100000\n",
    "    [0, 0, 255, 255],      # Blue for 100000-200000\n",
    "    [0, 0, 139, 255],      # Dark blue for 200000+\n",
    "])\n",
    "\n",
    "# Function to assign colors based on custom bins\n",
    "def assign_color(value, breaks, colors):\n",
    "    for i in range(len(breaks) - 1):\n",
    "        if breaks[i] <= value < breaks[i + 1]:\n",
    "            return colors[i]\n",
    "    return colors[-1]  # In case value exceeds all breaks\n",
    "\n",
    "# Map sum_pop_2020 values to colors using the custom function\n",
    "gdf['color'] = gdf[\"sum_pop_2020\"].apply(lambda x: assign_color(x, breaks, colors))\n",
    "colors = np.uint8(gdf['color'].tolist())\n",
    "\n",
    "# Create the scatterplot layer with the assigned colors\n",
    "layer = ScatterplotLayer.from_geopandas(gdf, get_radius=2000, get_fill_color=colors)\n",
    "\n",
    "m = Map(layer)\n",
    "m"
   ]
  }
 ],
 "metadata": {
  "kernelspec": {
   "display_name": "gn",
   "language": "python",
   "name": "gn"
  },
  "language_info": {
   "codemirror_mode": {
    "name": "ipython",
    "version": 3
   },
   "file_extension": ".py",
   "mimetype": "text/x-python",
   "name": "python",
   "nbconvert_exporter": "python",
   "pygments_lexer": "ipython3",
   "version": "3.12.7"
  }
 },
 "nbformat": 4,
 "nbformat_minor": 4
}
