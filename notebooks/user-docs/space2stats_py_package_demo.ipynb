{
 "cells": [
  {
   "cell_type": "code",
   "execution_count": 1,
   "metadata": {},
   "outputs": [
    {
     "name": "stdout",
     "output_type": "stream",
     "text": [
      "Requirement already satisfied: geopandas in /Users/zacdez/Library/Caches/pypoetry/virtualenvs/space2stats-PM9A6h4E-py3.12/lib/python3.12/site-packages (1.0.1)\n",
      "Requirement already satisfied: lonboard in /Users/zacdez/Library/Caches/pypoetry/virtualenvs/space2stats-PM9A6h4E-py3.12/lib/python3.12/site-packages (0.10.1)\n",
      "Requirement already satisfied: numpy>=1.22 in /Users/zacdez/Library/Caches/pypoetry/virtualenvs/space2stats-PM9A6h4E-py3.12/lib/python3.12/site-packages (from geopandas) (1.26.4)\n",
      "Requirement already satisfied: pyogrio>=0.7.2 in /Users/zacdez/Library/Caches/pypoetry/virtualenvs/space2stats-PM9A6h4E-py3.12/lib/python3.12/site-packages (from geopandas) (0.10.0)\n",
      "Requirement already satisfied: packaging in /Users/zacdez/Library/Caches/pypoetry/virtualenvs/space2stats-PM9A6h4E-py3.12/lib/python3.12/site-packages (from geopandas) (24.1)\n",
      "Requirement already satisfied: pandas>=1.4.0 in /Users/zacdez/Library/Caches/pypoetry/virtualenvs/space2stats-PM9A6h4E-py3.12/lib/python3.12/site-packages (from geopandas) (2.2.3)\n",
      "Requirement already satisfied: pyproj>=3.3.0 in /Users/zacdez/Library/Caches/pypoetry/virtualenvs/space2stats-PM9A6h4E-py3.12/lib/python3.12/site-packages (from geopandas) (3.7.0)\n",
      "Requirement already satisfied: shapely>=2.0.0 in /Users/zacdez/Library/Caches/pypoetry/virtualenvs/space2stats-PM9A6h4E-py3.12/lib/python3.12/site-packages (from geopandas) (2.0.6)\n",
      "Requirement already satisfied: anywidget<0.10.0,>=0.9.0 in /Users/zacdez/Library/Caches/pypoetry/virtualenvs/space2stats-PM9A6h4E-py3.12/lib/python3.12/site-packages (from lonboard) (0.9.13)\n",
      "Requirement already satisfied: arro3-compute>=0.4.1 in /Users/zacdez/Library/Caches/pypoetry/virtualenvs/space2stats-PM9A6h4E-py3.12/lib/python3.12/site-packages (from lonboard) (0.4.1)\n",
      "Requirement already satisfied: arro3-core>=0.4.1 in /Users/zacdez/Library/Caches/pypoetry/virtualenvs/space2stats-PM9A6h4E-py3.12/lib/python3.12/site-packages (from lonboard) (0.4.1)\n",
      "Requirement already satisfied: arro3-io>=0.4.1 in /Users/zacdez/Library/Caches/pypoetry/virtualenvs/space2stats-PM9A6h4E-py3.12/lib/python3.12/site-packages (from lonboard) (0.4.1)\n",
      "Requirement already satisfied: ipywidgets>=7.6.0 in /Users/zacdez/Library/Caches/pypoetry/virtualenvs/space2stats-PM9A6h4E-py3.12/lib/python3.12/site-packages (from lonboard) (8.1.5)\n",
      "Requirement already satisfied: traitlets>=5.10 in /Users/zacdez/Library/Caches/pypoetry/virtualenvs/space2stats-PM9A6h4E-py3.12/lib/python3.12/site-packages (from lonboard) (5.14.3)\n",
      "Requirement already satisfied: psygnal>=0.8.1 in /Users/zacdez/Library/Caches/pypoetry/virtualenvs/space2stats-PM9A6h4E-py3.12/lib/python3.12/site-packages (from anywidget<0.10.0,>=0.9.0->lonboard) (0.11.1)\n",
      "Requirement already satisfied: typing-extensions>=4.2.0 in /Users/zacdez/Library/Caches/pypoetry/virtualenvs/space2stats-PM9A6h4E-py3.12/lib/python3.12/site-packages (from anywidget<0.10.0,>=0.9.0->lonboard) (4.12.2)\n",
      "Requirement already satisfied: comm>=0.1.3 in /Users/zacdez/Library/Caches/pypoetry/virtualenvs/space2stats-PM9A6h4E-py3.12/lib/python3.12/site-packages (from ipywidgets>=7.6.0->lonboard) (0.2.2)\n",
      "Requirement already satisfied: ipython>=6.1.0 in /Users/zacdez/Library/Caches/pypoetry/virtualenvs/space2stats-PM9A6h4E-py3.12/lib/python3.12/site-packages (from ipywidgets>=7.6.0->lonboard) (8.12.3)\n",
      "Requirement already satisfied: widgetsnbextension~=4.0.12 in /Users/zacdez/Library/Caches/pypoetry/virtualenvs/space2stats-PM9A6h4E-py3.12/lib/python3.12/site-packages (from ipywidgets>=7.6.0->lonboard) (4.0.13)\n",
      "Requirement already satisfied: jupyterlab-widgets~=3.0.12 in /Users/zacdez/Library/Caches/pypoetry/virtualenvs/space2stats-PM9A6h4E-py3.12/lib/python3.12/site-packages (from ipywidgets>=7.6.0->lonboard) (3.0.13)\n",
      "Requirement already satisfied: python-dateutil>=2.8.2 in /Users/zacdez/Library/Caches/pypoetry/virtualenvs/space2stats-PM9A6h4E-py3.12/lib/python3.12/site-packages (from pandas>=1.4.0->geopandas) (2.9.0.post0)\n",
      "Requirement already satisfied: pytz>=2020.1 in /Users/zacdez/Library/Caches/pypoetry/virtualenvs/space2stats-PM9A6h4E-py3.12/lib/python3.12/site-packages (from pandas>=1.4.0->geopandas) (2024.2)\n",
      "Requirement already satisfied: tzdata>=2022.7 in /Users/zacdez/Library/Caches/pypoetry/virtualenvs/space2stats-PM9A6h4E-py3.12/lib/python3.12/site-packages (from pandas>=1.4.0->geopandas) (2024.2)\n",
      "Requirement already satisfied: certifi in /Users/zacdez/Library/Caches/pypoetry/virtualenvs/space2stats-PM9A6h4E-py3.12/lib/python3.12/site-packages (from pyogrio>=0.7.2->geopandas) (2024.8.30)\n",
      "Requirement already satisfied: backcall in /Users/zacdez/Library/Caches/pypoetry/virtualenvs/space2stats-PM9A6h4E-py3.12/lib/python3.12/site-packages (from ipython>=6.1.0->ipywidgets>=7.6.0->lonboard) (0.2.0)\n",
      "Requirement already satisfied: decorator in /Users/zacdez/Library/Caches/pypoetry/virtualenvs/space2stats-PM9A6h4E-py3.12/lib/python3.12/site-packages (from ipython>=6.1.0->ipywidgets>=7.6.0->lonboard) (5.1.1)\n",
      "Requirement already satisfied: jedi>=0.16 in /Users/zacdez/Library/Caches/pypoetry/virtualenvs/space2stats-PM9A6h4E-py3.12/lib/python3.12/site-packages (from ipython>=6.1.0->ipywidgets>=7.6.0->lonboard) (0.19.1)\n",
      "Requirement already satisfied: matplotlib-inline in /Users/zacdez/Library/Caches/pypoetry/virtualenvs/space2stats-PM9A6h4E-py3.12/lib/python3.12/site-packages (from ipython>=6.1.0->ipywidgets>=7.6.0->lonboard) (0.1.7)\n",
      "Requirement already satisfied: pickleshare in /Users/zacdez/Library/Caches/pypoetry/virtualenvs/space2stats-PM9A6h4E-py3.12/lib/python3.12/site-packages (from ipython>=6.1.0->ipywidgets>=7.6.0->lonboard) (0.7.5)\n",
      "Requirement already satisfied: prompt-toolkit!=3.0.37,<3.1.0,>=3.0.30 in /Users/zacdez/Library/Caches/pypoetry/virtualenvs/space2stats-PM9A6h4E-py3.12/lib/python3.12/site-packages (from ipython>=6.1.0->ipywidgets>=7.6.0->lonboard) (3.0.48)\n",
      "Requirement already satisfied: pygments>=2.4.0 in /Users/zacdez/Library/Caches/pypoetry/virtualenvs/space2stats-PM9A6h4E-py3.12/lib/python3.12/site-packages (from ipython>=6.1.0->ipywidgets>=7.6.0->lonboard) (2.18.0)\n",
      "Requirement already satisfied: stack-data in /Users/zacdez/Library/Caches/pypoetry/virtualenvs/space2stats-PM9A6h4E-py3.12/lib/python3.12/site-packages (from ipython>=6.1.0->ipywidgets>=7.6.0->lonboard) (0.6.3)\n",
      "Requirement already satisfied: pexpect>4.3 in /Users/zacdez/Library/Caches/pypoetry/virtualenvs/space2stats-PM9A6h4E-py3.12/lib/python3.12/site-packages (from ipython>=6.1.0->ipywidgets>=7.6.0->lonboard) (4.9.0)\n",
      "Requirement already satisfied: appnope in /Users/zacdez/Library/Caches/pypoetry/virtualenvs/space2stats-PM9A6h4E-py3.12/lib/python3.12/site-packages (from ipython>=6.1.0->ipywidgets>=7.6.0->lonboard) (0.1.4)\n",
      "Requirement already satisfied: six>=1.5 in /Users/zacdez/Library/Caches/pypoetry/virtualenvs/space2stats-PM9A6h4E-py3.12/lib/python3.12/site-packages (from python-dateutil>=2.8.2->pandas>=1.4.0->geopandas) (1.16.0)\n",
      "Requirement already satisfied: parso<0.9.0,>=0.8.3 in /Users/zacdez/Library/Caches/pypoetry/virtualenvs/space2stats-PM9A6h4E-py3.12/lib/python3.12/site-packages (from jedi>=0.16->ipython>=6.1.0->ipywidgets>=7.6.0->lonboard) (0.8.4)\n",
      "Requirement already satisfied: ptyprocess>=0.5 in /Users/zacdez/Library/Caches/pypoetry/virtualenvs/space2stats-PM9A6h4E-py3.12/lib/python3.12/site-packages (from pexpect>4.3->ipython>=6.1.0->ipywidgets>=7.6.0->lonboard) (0.7.0)\n",
      "Requirement already satisfied: wcwidth in /Users/zacdez/Library/Caches/pypoetry/virtualenvs/space2stats-PM9A6h4E-py3.12/lib/python3.12/site-packages (from prompt-toolkit!=3.0.37,<3.1.0,>=3.0.30->ipython>=6.1.0->ipywidgets>=7.6.0->lonboard) (0.2.13)\n",
      "Requirement already satisfied: executing>=1.2.0 in /Users/zacdez/Library/Caches/pypoetry/virtualenvs/space2stats-PM9A6h4E-py3.12/lib/python3.12/site-packages (from stack-data->ipython>=6.1.0->ipywidgets>=7.6.0->lonboard) (2.1.0)\n",
      "Requirement already satisfied: asttokens>=2.1.0 in /Users/zacdez/Library/Caches/pypoetry/virtualenvs/space2stats-PM9A6h4E-py3.12/lib/python3.12/site-packages (from stack-data->ipython>=6.1.0->ipywidgets>=7.6.0->lonboard) (2.4.1)\n",
      "Requirement already satisfied: pure-eval in /Users/zacdez/Library/Caches/pypoetry/virtualenvs/space2stats-PM9A6h4E-py3.12/lib/python3.12/site-packages (from stack-data->ipython>=6.1.0->ipywidgets>=7.6.0->lonboard) (0.2.3)\n"
     ]
    }
   ],
   "source": [
    "!pip install geopandas lonboard"
   ]
  },
  {
   "cell_type": "code",
   "execution_count": 2,
   "metadata": {},
   "outputs": [],
   "source": [
    "from typing import Dict\n",
    "\n",
    "import numpy as np\n",
    "from dotenv import load_dotenv\n",
    "import pandas as pd\n",
    "import geopandas as gpd\n",
    "from shapely.geometry import shape\n",
    "from shapely import from_geojson\n",
    "from lonboard import Map, ScatterplotLayer\n",
    "from geojson_pydantic import Feature, Polygon\n",
    "\n",
    "from space2stats import StatsTable"
   ]
  },
  {
   "cell_type": "markdown",
   "metadata": {},
   "source": [
    "#### Expected environment variables to be set\n",
    "\n",
    "\n",
    "```.env\n",
    "PGHOST=\n",
    "PGPORT=\n",
    "PGDATABASE=\n",
    "PGUSER=\n",
    "PGPASSWORD=\n",
    "PGTABLENAME=space2stats\n",
    "```"
   ]
  },
  {
   "cell_type": "code",
   "execution_count": 3,
   "metadata": {},
   "outputs": [
    {
     "data": {
      "text/plain": [
       "True"
      ]
     },
     "execution_count": 3,
     "metadata": {},
     "output_type": "execute_result"
    }
   ],
   "source": [
    "load_dotenv(\"../../space2stats_api/db.env\")"
   ]
  },
  {
   "cell_type": "code",
   "execution_count": 4,
   "metadata": {},
   "outputs": [
    {
     "data": {
      "text/plain": [
       "['sum_pop_2020',\n",
       " 'ogc_fid',\n",
       " 'sum_pop_f_0_2020',\n",
       " 'sum_pop_f_10_2020',\n",
       " 'sum_pop_f_15_2020',\n",
       " 'sum_pop_f_1_2020',\n",
       " 'sum_pop_f_20_2020',\n",
       " 'sum_pop_f_25_2020',\n",
       " 'sum_pop_f_30_2020',\n",
       " 'sum_pop_f_35_2020',\n",
       " 'sum_pop_f_40_2020',\n",
       " 'sum_pop_f_45_2020',\n",
       " 'sum_pop_f_50_2020',\n",
       " 'sum_pop_f_55_2020',\n",
       " 'sum_pop_f_5_2020',\n",
       " 'sum_pop_f_60_2020',\n",
       " 'sum_pop_f_65_2020',\n",
       " 'sum_pop_f_70_2020',\n",
       " 'sum_pop_f_75_2020',\n",
       " 'sum_pop_f_80_2020',\n",
       " 'sum_pop_m_0_2020',\n",
       " 'sum_pop_m_10_2020',\n",
       " 'sum_pop_m_15_2020',\n",
       " 'sum_pop_m_1_2020',\n",
       " 'sum_pop_m_20_2020',\n",
       " 'sum_pop_m_25_2020',\n",
       " 'sum_pop_m_30_2020',\n",
       " 'sum_pop_m_35_2020',\n",
       " 'sum_pop_m_40_2020',\n",
       " 'sum_pop_m_45_2020',\n",
       " 'sum_pop_m_50_2020',\n",
       " 'sum_pop_m_55_2020',\n",
       " 'sum_pop_m_5_2020',\n",
       " 'sum_pop_m_60_2020',\n",
       " 'sum_pop_m_65_2020',\n",
       " 'sum_pop_m_70_2020',\n",
       " 'sum_pop_m_75_2020',\n",
       " 'sum_pop_m_80_2020',\n",
       " 'sum_pop_m_2020',\n",
       " 'sum_pop_f_2020']"
      ]
     },
     "execution_count": 4,
     "metadata": {},
     "output_type": "execute_result"
    }
   ],
   "source": [
    "with StatsTable.connect() as stats_table:\n",
    "    fields = stats_table.fields()\n",
    "\n",
    "fields"
   ]
  },
  {
   "cell_type": "code",
   "execution_count": 5,
   "metadata": {},
   "outputs": [],
   "source": [
    "AOIModel = Feature[Polygon, Dict]\n",
    "\n",
    "# ~kenya\n",
    "aoi = {\n",
    "    \"type\": \"Feature\",\n",
    "    \"geometry\": {\n",
    "        \"type\": \"Polygon\",\n",
    "        \"coordinates\": [\n",
    "            [\n",
    "                [33.78593974945852, 5.115816884114494],\n",
    "                [33.78593974945852, -4.725410543134203],\n",
    "                [41.94362577283266, -4.725410543134203],\n",
    "                [41.94362577283266, 5.115816884114494],\n",
    "                [33.78593974945852, 5.115816884114494]\n",
    "            ]\n",
    "        ]\n",
    "    },\n",
    "    \"properties\": {\n",
    "        \"name\": \"Updated AOI\"\n",
    "    }\n",
    "}\n",
    "          \n",
    "  \n",
    "\n",
    "feat = AOIModel(**aoi)"
   ]
  },
  {
   "cell_type": "code",
   "execution_count": 6,
   "metadata": {},
   "outputs": [],
   "source": [
    "with StatsTable.connect() as stats_table:\n",
    "    data = stats_table.summaries(aoi=feat, spatial_join_method=\"touches\", \n",
    "                                 fields=[\"sum_pop_2020\"], geometry=\"point\")\n",
    "    df = pd.DataFrame(data)\n",
    "\n",
    "df.head()"
   ]
  },
  {
   "cell_type": "code",
   "execution_count": 9,
   "metadata": {},
   "outputs": [
    {
     "data": {
      "text/plain": [
       "{'hex_id': '866a4a00fffffff',\n",
       " 'geometry': {'type': 'Point',\n",
       "  'coordinates': (41.551352179775094, -3.61239000140461)},\n",
       " 'sum_pop_2020': 476.538184762001}"
      ]
     },
     "execution_count": 9,
     "metadata": {},
     "output_type": "execute_result"
    }
   ],
   "source": [
    "data[0]"
   ]
  },
  {
   "cell_type": "code",
   "execution_count": 11,
   "metadata": {},
   "outputs": [
    {
     "data": {
      "text/html": [
       "<div>\n",
       "<style scoped>\n",
       "    .dataframe tbody tr th:only-of-type {\n",
       "        vertical-align: middle;\n",
       "    }\n",
       "\n",
       "    .dataframe tbody tr th {\n",
       "        vertical-align: top;\n",
       "    }\n",
       "\n",
       "    .dataframe thead th {\n",
       "        text-align: right;\n",
       "    }\n",
       "</style>\n",
       "<table border=\"1\" class=\"dataframe\">\n",
       "  <thead>\n",
       "    <tr style=\"text-align: right;\">\n",
       "      <th></th>\n",
       "      <th>hex_id</th>\n",
       "      <th>geometry</th>\n",
       "      <th>sum_pop_2020</th>\n",
       "    </tr>\n",
       "  </thead>\n",
       "  <tbody>\n",
       "    <tr>\n",
       "      <th>0</th>\n",
       "      <td>866a4a00fffffff</td>\n",
       "      <td>POINT (41.55135 -3.61239)</td>\n",
       "      <td>476.538185</td>\n",
       "    </tr>\n",
       "    <tr>\n",
       "      <th>1</th>\n",
       "      <td>866a4a017ffffff</td>\n",
       "      <td>POINT (38.64795 1.85686)</td>\n",
       "      <td>676.912804</td>\n",
       "    </tr>\n",
       "    <tr>\n",
       "      <th>2</th>\n",
       "      <td>866a4a01fffffff</td>\n",
       "      <td>POINT (34.40842 -0.37534)</td>\n",
       "      <td>347.182722</td>\n",
       "    </tr>\n",
       "    <tr>\n",
       "      <th>3</th>\n",
       "      <td>866a4a047ffffff</td>\n",
       "      <td>POINT (39.94216 -4.66873)</td>\n",
       "      <td>380.988678</td>\n",
       "    </tr>\n",
       "    <tr>\n",
       "      <th>4</th>\n",
       "      <td>866a4a04fffffff</td>\n",
       "      <td>POINT (40.83229 -0.908)</td>\n",
       "      <td>285.943490</td>\n",
       "    </tr>\n",
       "    <tr>\n",
       "      <th>...</th>\n",
       "      <td>...</td>\n",
       "      <td>...</td>\n",
       "      <td>...</td>\n",
       "    </tr>\n",
       "    <tr>\n",
       "      <th>26127</th>\n",
       "      <td>86969ed97ffffff</td>\n",
       "      <td>POINT (34.69351 -1.78017)</td>\n",
       "      <td>196.448391</td>\n",
       "    </tr>\n",
       "    <tr>\n",
       "      <th>26128</th>\n",
       "      <td>86969ed9fffffff</td>\n",
       "      <td>POINT (41.00589 0.38198)</td>\n",
       "      <td>296.740893</td>\n",
       "    </tr>\n",
       "    <tr>\n",
       "      <th>26129</th>\n",
       "      <td>86969eda7ffffff</td>\n",
       "      <td>POINT (38.90363 3.30757)</td>\n",
       "      <td>154.818453</td>\n",
       "    </tr>\n",
       "    <tr>\n",
       "      <th>26130</th>\n",
       "      <td>86969edafffffff</td>\n",
       "      <td>POINT (35.05118 -1.97697)</td>\n",
       "      <td>157.875350</td>\n",
       "    </tr>\n",
       "    <tr>\n",
       "      <th>26131</th>\n",
       "      <td>86969edb7ffffff</td>\n",
       "      <td>POINT (39.71948 4.1955)</td>\n",
       "      <td>236.127331</td>\n",
       "    </tr>\n",
       "  </tbody>\n",
       "</table>\n",
       "<p>26132 rows × 3 columns</p>\n",
       "</div>"
      ],
      "text/plain": [
       "                hex_id                   geometry  sum_pop_2020\n",
       "0      866a4a00fffffff  POINT (41.55135 -3.61239)    476.538185\n",
       "1      866a4a017ffffff   POINT (38.64795 1.85686)    676.912804\n",
       "2      866a4a01fffffff  POINT (34.40842 -0.37534)    347.182722\n",
       "3      866a4a047ffffff  POINT (39.94216 -4.66873)    380.988678\n",
       "4      866a4a04fffffff    POINT (40.83229 -0.908)    285.943490\n",
       "...                ...                        ...           ...\n",
       "26127  86969ed97ffffff  POINT (34.69351 -1.78017)    196.448391\n",
       "26128  86969ed9fffffff   POINT (41.00589 0.38198)    296.740893\n",
       "26129  86969eda7ffffff   POINT (38.90363 3.30757)    154.818453\n",
       "26130  86969edafffffff  POINT (35.05118 -1.97697)    157.875350\n",
       "26131  86969edb7ffffff    POINT (39.71948 4.1955)    236.127331\n",
       "\n",
       "[26132 rows x 3 columns]"
      ]
     },
     "execution_count": 11,
     "metadata": {},
     "output_type": "execute_result"
    }
   ],
   "source": [
    "df['geometry'] = df['geometry'].apply(lambda geom: shape(geom))\n",
    "gdf = gpd.GeoDataFrame(df, geometry='geometry', crs='EPSG:4326')\n",
    "gdf"
   ]
  },
  {
   "cell_type": "code",
   "execution_count": 13,
   "metadata": {},
   "outputs": [
    {
     "data": {
      "application/vnd.jupyter.widget-view+json": {
       "model_id": "685a8cf3a52a47628626769f4a2ca013",
       "version_major": 2,
       "version_minor": 1
      },
      "text/plain": [
       "Map(custom_attribution='', layers=(ScatterplotLayer(get_fill_color=arro3.core.ChunkedArray<FixedSizeList(Field…"
      ]
     },
     "execution_count": 13,
     "metadata": {},
     "output_type": "execute_result"
    }
   ],
   "source": [
    "# Define custom breaks and corresponding RGBA colors\n",
    "breaks = [-36, 1, 1000, 10000, 50000, 100000, 200000, gdf[\"sum_pop_2020\"].max()]\n",
    "colors = np.array([\n",
    "    [211, 211, 211, 255],  # Light gray for 0\n",
    "    [255, 255, 0, 255],    # Yellow for 1-1000\n",
    "    [255, 165, 0, 255],    # Orange for 1000-10000\n",
    "    [255, 0, 0, 255],      # Red for 10000-50000\n",
    "    [128, 0, 128, 255],    # Purple for 50000-100000\n",
    "    [0, 0, 255, 255],      # Blue for 100000-200000\n",
    "    [0, 0, 139, 255],      # Dark blue for 200000+\n",
    "])\n",
    "\n",
    "# Function to assign colors based on custom bins\n",
    "def assign_color(value, breaks, colors):\n",
    "    for i in range(len(breaks) - 1):\n",
    "        if breaks[i] <= value < breaks[i + 1]:\n",
    "            return colors[i]\n",
    "    return colors[-1]  # In case value exceeds all breaks\n",
    "\n",
    "# Map sum_pop_2020 values to colors using the custom function\n",
    "gdf['color'] = gdf[\"sum_pop_2020\"].apply(lambda x: assign_color(x, breaks, colors))\n",
    "colors = np.uint8(gdf['color'].tolist())\n",
    "\n",
    "# Create the scatterplot layer with the assigned colors\n",
    "layer = ScatterplotLayer.from_geopandas(gdf, get_radius=2000, get_fill_color=colors)\n",
    "\n",
    "m = Map(layer)\n",
    "m"
   ]
  }
 ],
 "metadata": {
  "kernelspec": {
   "display_name": "Python 3 (ipykernel)",
   "language": "python",
   "name": "python3"
  },
  "language_info": {
   "codemirror_mode": {
    "name": "ipython",
    "version": 3
   },
   "file_extension": ".py",
   "mimetype": "text/x-python",
   "name": "python",
   "nbconvert_exporter": "python",
   "pygments_lexer": "ipython3",
   "version": "3.12.4"
  }
 },
 "nbformat": 4,
 "nbformat_minor": 4
}
