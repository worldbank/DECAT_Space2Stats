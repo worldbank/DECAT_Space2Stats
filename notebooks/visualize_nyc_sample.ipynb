{
 "cells": [
  {
   "cell_type": "code",
   "execution_count": 7,
   "metadata": {},
   "outputs": [
    {
     "name": "stderr",
     "output_type": "stream",
     "text": [
      "/Users/zacdez/Library/Caches/pypoetry/virtualenvs/notebooks-sNYx7QfP-py3.12/lib/python3.12/site-packages/lonboard/_geoarrow/ops/reproject.py:23: UserWarning: No CRS exists on data. If no data is shown on the map, double check that your CRS is WGS84.\n",
      "  warn(\n"
     ]
    },
    {
     "data": {
      "application/vnd.jupyter.widget-view+json": {
       "model_id": "81dba1b1828e4c129971956efea831f8",
       "version_major": 2,
       "version_minor": 0
      },
      "text/plain": [
       "Map(basemap_style=<CartoBasemap.DarkMatter: 'https://basemaps.cartocdn.com/gl/dark-matter-gl-style/style.json'…"
      ]
     },
     "execution_count": 7,
     "metadata": {},
     "output_type": "execute_result"
    }
   ],
   "source": [
    "import requests\n",
    "import geopandas as gpd\n",
    "from shapely.geometry import Polygon\n",
    "import h3\n",
    "from lonboard import viz\n",
    "\n",
    "api_url = \"http://localhost:8000/summary\"  \n",
    "\n",
    "aoi = {\n",
    "    \"type\": \"Polygon\",\n",
    "    \"coordinates\": [[\n",
    "        [-74.259090, 40.477399],  \n",
    "        [-73.700272, 40.477399],  \n",
    "        [-73.700272, 40.917577],  \n",
    "        [-74.259090, 40.917577], \n",
    "        [-74.259090, 40.477399]   \n",
    "    ]]\n",
    "}\n",
    "\n",
    "payload = {\n",
    "    \"aoi\": aoi,\n",
    "    \"spatial_join_method\": \"centroid\",\n",
    "    \"fields\": [\"sum_pop_f_0_2020\",]  \n",
    "}\n",
    "\n",
    "response = requests.post(api_url, json=payload)\n",
    "\n",
    "if response.status_code != 200:\n",
    "    raise Exception(f\"API request failed with status code {response.status_code}: {response.text}\")\n",
    "\n",
    "data = response.json()\n",
    "\n",
    "# Convert the response data to a GeoDataFrame\n",
    "geometries = []\n",
    "for item in data:\n",
    "    hex_id = item[\"hex_id\"]\n",
    "    polygon = Polygon(h3.h3_to_geo_boundary(hex_id, geo_json=True))\n",
    "    geometries.append(polygon)\n",
    "gdf = gpd.GeoDataFrame(data, geometry=geometries)\n",
    "\n",
    "viz(gdf)\n",
    "\n"
   ]
  }
 ],
 "metadata": {
  "kernelspec": {
   "display_name": "notebooks-sNYx7QfP-py3.12",
   "language": "python",
   "name": "python3"
  },
  "language_info": {
   "codemirror_mode": {
    "name": "ipython",
    "version": 3
   },
   "file_extension": ".py",
   "mimetype": "text/x-python",
   "name": "python",
   "nbconvert_exporter": "python",
   "pygments_lexer": "ipython3",
   "version": "3.12.4"
  }
 },
 "nbformat": 4,
 "nbformat_minor": 2
}
