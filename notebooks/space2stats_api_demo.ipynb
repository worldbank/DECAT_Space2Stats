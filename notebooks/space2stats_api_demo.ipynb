{
 "cells": [
  {
   "cell_type": "code",
   "execution_count": 14,
   "metadata": {},
   "outputs": [],
   "source": [
    "from typing import Dict\n",
    "\n",
    "import requests\n",
    "import pandas as pd\n",
    "import geopandas as gpd\n",
    "from shapely.geometry import shape\n",
    "\n",
    "from lonboard.colormap import apply_continuous_cmap\n",
    "from lonboard import Map, ScatterplotLayer\n",
    "from palettable.cartocolors.sequential import BurgYl_2\n",
    "from geojson_pydantic import Feature, Polygon"
   ]
  },
  {
   "cell_type": "code",
   "execution_count": 15,
   "metadata": {},
   "outputs": [],
   "source": [
    "BASE_URL = \"https://space2stats.ds.io\"\n",
    "FIELDS_ENDPOINT = f\"{BASE_URL}/fields\"\n",
    "SUMMARY_ENDPOINT = f\"{BASE_URL}/summary\""
   ]
  },
  {
   "cell_type": "code",
   "execution_count": 16,
   "metadata": {},
   "outputs": [
    {
     "name": "stdout",
     "output_type": "stream",
     "text": [
      "Available Fields: ['sum_pop_2020', 'ogc_fid', 'sum_pop_f_0_2020', 'sum_pop_f_10_2020', 'sum_pop_f_15_2020', 'sum_pop_f_1_2020', 'sum_pop_f_20_2020', 'sum_pop_f_25_2020', 'sum_pop_f_30_2020', 'sum_pop_f_35_2020', 'sum_pop_f_40_2020', 'sum_pop_f_45_2020', 'sum_pop_f_50_2020', 'sum_pop_f_55_2020', 'sum_pop_f_5_2020', 'sum_pop_f_60_2020', 'sum_pop_f_65_2020', 'sum_pop_f_70_2020', 'sum_pop_f_75_2020', 'sum_pop_f_80_2020', 'sum_pop_m_0_2020', 'sum_pop_m_10_2020', 'sum_pop_m_15_2020', 'sum_pop_m_1_2020', 'sum_pop_m_20_2020', 'sum_pop_m_25_2020', 'sum_pop_m_30_2020', 'sum_pop_m_35_2020', 'sum_pop_m_40_2020', 'sum_pop_m_45_2020', 'sum_pop_m_50_2020', 'sum_pop_m_55_2020', 'sum_pop_m_5_2020', 'sum_pop_m_60_2020', 'sum_pop_m_65_2020', 'sum_pop_m_70_2020', 'sum_pop_m_75_2020', 'sum_pop_m_80_2020', 'sum_pop_m_2020', 'sum_pop_f_2020']\n"
     ]
    }
   ],
   "source": [
    "response = requests.get(FIELDS_ENDPOINT)\n",
    "if response.status_code != 200:\n",
    "    raise Exception(f\"Failed to get fields: {response.text}\")\n",
    "\n",
    "available_fields = response.json()\n",
    "print(\"Available Fields:\", available_fields)"
   ]
  },
  {
   "cell_type": "code",
   "execution_count": 17,
   "metadata": {},
   "outputs": [],
   "source": [
    "AOIModel = Feature[Polygon, Dict]\n",
    "\n",
    "# kenya\n",
    "aoi = {\n",
    "      \"type\": \"Feature\",\n",
    "      \"geometry\": {\n",
    "        \"type\": \"Polygon\",\n",
    "        \"coordinates\": [\n",
    "          [\n",
    "            [41.85508309264397, -1.68325],\n",
    "            [40.98105, -2.49979],\n",
    "            [40.993, -3.444],\n",
    "            [41.58513, -3.91909],\n",
    "            [40.88477, -4.95913],\n",
    "            [39.55938425876585, -4.437641590288629],\n",
    "            [39.25451, -3.42206],\n",
    "            [37.7669, -3.67712],\n",
    "            [37.69869, -3.09699],\n",
    "            [34.07262, -1.05982],\n",
    "            [33.90371119710453, -0.95],\n",
    "            [33.893568969666944, 0.109813537861896],\n",
    "            [34.18, 0.515],\n",
    "            [34.6721, 1.17694],\n",
    "            [35.03599, 1.90584],\n",
    "            [34.59607, 3.05374],\n",
    "            [34.47913, 3.5556],\n",
    "            [35.298007118232946, 4.77696566346189],\n",
    "            [35.817447662353516, 4.77696566346189],\n",
    "            [36.159078632855646, 4.447864127672769],\n",
    "            [36.85509323800812, 4.447864127672769],\n",
    "            [38.120915, 3.598605],\n",
    "            [38.43697, 3.58851],\n",
    "            [38.67114, 3.61607],\n",
    "            [38.89251, 3.50074],\n",
    "            [39.55938425876585, 3.42206],\n",
    "            [39.85494, 3.83879],\n",
    "            [40.76848, 4.25702],\n",
    "            [41.1718, 3.91909],\n",
    "            [41.85508309264397, 2.97959],\n",
    "            [41.58513, 2.09],\n",
    "            [40.993, 1.657],\n",
    "            [40.98105, 1.002],\n",
    "            [41.85508309264397, -1.68325]\n",
    "          ]\n",
    "        ]\n",
    "      },\n",
    "      \"properties\": {\n",
    "        \"name\": \"Kenya\"\n",
    "      }\n",
    "    }\n",
    "\n",
    "\n",
    "feat = AOIModel(**aoi)"
   ]
  },
  {
   "cell_type": "code",
   "execution_count": 18,
   "metadata": {},
   "outputs": [],
   "source": [
    "# Define the Request Payload\n",
    "request_payload = {\n",
    "    \"aoi\": aoi,\n",
    "    \"spatial_join_method\": \"centroid\",\n",
    "    \"fields\": [\"sum_pop_2020\"], \n",
    "    \"geometry\": \"point\"\n",
    "}\n",
    "\n",
    "# Get Summary Data\n",
    "response = requests.post(SUMMARY_ENDPOINT, json=request_payload)\n",
    "if response.status_code != 200:\n",
    "    raise Exception(f\"Failed to get summary: {response.text}\")\n",
    "\n",
    "summary_data = response.json()\n",
    "df = pd.DataFrame(summary_data)"
   ]
  },
  {
   "cell_type": "code",
   "execution_count": 19,
   "metadata": {},
   "outputs": [
    {
     "data": {
      "text/html": [
       "<div>\n",
       "<style scoped>\n",
       "    .dataframe tbody tr th:only-of-type {\n",
       "        vertical-align: middle;\n",
       "    }\n",
       "\n",
       "    .dataframe tbody tr th {\n",
       "        vertical-align: top;\n",
       "    }\n",
       "\n",
       "    .dataframe thead th {\n",
       "        text-align: right;\n",
       "    }\n",
       "</style>\n",
       "<table border=\"1\" class=\"dataframe\">\n",
       "  <thead>\n",
       "    <tr style=\"text-align: right;\">\n",
       "      <th></th>\n",
       "      <th>hex_id</th>\n",
       "      <th>geometry</th>\n",
       "      <th>sum_pop_2020</th>\n",
       "    </tr>\n",
       "  </thead>\n",
       "  <tbody>\n",
       "    <tr>\n",
       "      <th>0</th>\n",
       "      <td>866a4a48fffffff</td>\n",
       "      <td>POINT (39.87766 1.69187)</td>\n",
       "      <td>399.860905</td>\n",
       "    </tr>\n",
       "    <tr>\n",
       "      <th>1</th>\n",
       "      <td>866a4a497ffffff</td>\n",
       "      <td>POINT (37.18818 -2.47520)</td>\n",
       "      <td>582.555159</td>\n",
       "    </tr>\n",
       "    <tr>\n",
       "      <th>2</th>\n",
       "      <td>866a4a49fffffff</td>\n",
       "      <td>POINT (36.94975 4.02855)</td>\n",
       "      <td>749.911237</td>\n",
       "    </tr>\n",
       "    <tr>\n",
       "      <th>3</th>\n",
       "      <td>866a4a4d7ffffff</td>\n",
       "      <td>POINT (37.92927 -3.32703)</td>\n",
       "      <td>863.888290</td>\n",
       "    </tr>\n",
       "    <tr>\n",
       "      <th>4</th>\n",
       "      <td>866a5820fffffff</td>\n",
       "      <td>POINT (39.96057 -0.72907)</td>\n",
       "      <td>525.085147</td>\n",
       "    </tr>\n",
       "    <tr>\n",
       "      <th>...</th>\n",
       "      <td>...</td>\n",
       "      <td>...</td>\n",
       "      <td>...</td>\n",
       "    </tr>\n",
       "    <tr>\n",
       "      <th>16212</th>\n",
       "      <td>867b5dd77ffffff</td>\n",
       "      <td>POINT (37.04080 2.92349)</td>\n",
       "      <td>-36.000000</td>\n",
       "    </tr>\n",
       "    <tr>\n",
       "      <th>16213</th>\n",
       "      <td>867b5dd87ffffff</td>\n",
       "      <td>POINT (39.46713 -3.53058)</td>\n",
       "      <td>-36.000000</td>\n",
       "    </tr>\n",
       "    <tr>\n",
       "      <th>16214</th>\n",
       "      <td>867b5dd8fffffff</td>\n",
       "      <td>POINT (36.52175 -2.04593)</td>\n",
       "      <td>-36.000000</td>\n",
       "    </tr>\n",
       "    <tr>\n",
       "      <th>16215</th>\n",
       "      <td>867b5dd9fffffff</td>\n",
       "      <td>POINT (36.12156 1.22229)</td>\n",
       "      <td>-36.000000</td>\n",
       "    </tr>\n",
       "    <tr>\n",
       "      <th>16216</th>\n",
       "      <td>867b5ddafffffff</td>\n",
       "      <td>POINT (37.25642 1.10361)</td>\n",
       "      <td>-36.000000</td>\n",
       "    </tr>\n",
       "  </tbody>\n",
       "</table>\n",
       "<p>16217 rows × 3 columns</p>\n",
       "</div>"
      ],
      "text/plain": [
       "                hex_id                   geometry  sum_pop_2020\n",
       "0      866a4a48fffffff   POINT (39.87766 1.69187)    399.860905\n",
       "1      866a4a497ffffff  POINT (37.18818 -2.47520)    582.555159\n",
       "2      866a4a49fffffff   POINT (36.94975 4.02855)    749.911237\n",
       "3      866a4a4d7ffffff  POINT (37.92927 -3.32703)    863.888290\n",
       "4      866a5820fffffff  POINT (39.96057 -0.72907)    525.085147\n",
       "...                ...                        ...           ...\n",
       "16212  867b5dd77ffffff   POINT (37.04080 2.92349)    -36.000000\n",
       "16213  867b5dd87ffffff  POINT (39.46713 -3.53058)    -36.000000\n",
       "16214  867b5dd8fffffff  POINT (36.52175 -2.04593)    -36.000000\n",
       "16215  867b5dd9fffffff   POINT (36.12156 1.22229)    -36.000000\n",
       "16216  867b5ddafffffff   POINT (37.25642 1.10361)    -36.000000\n",
       "\n",
       "[16217 rows x 3 columns]"
      ]
     },
     "execution_count": 19,
     "metadata": {},
     "output_type": "execute_result"
    }
   ],
   "source": [
    "df['geometry'] = df['geometry'].apply(lambda geom: shape(geom))\n",
    "gdf = gpd.GeoDataFrame(df, geometry='geometry', crs='EPSG:4326')\n",
    "gdf"
   ]
  },
  {
   "cell_type": "code",
   "execution_count": 13,
   "metadata": {},
   "outputs": [
    {
     "data": {
      "application/vnd.jupyter.widget-view+json": {
       "model_id": "d8817abae9f54705b2b7966fd24a82e6",
       "version_major": 2,
       "version_minor": 0
      },
      "text/plain": [
       "Map(layers=[ScatterplotLayer(get_fill_color=<pyarrow.lib.FixedSizeListArray object at 0x169bf7e20>\n",
       "[\n",
       "  [\n",
       "    2…"
      ]
     },
     "execution_count": 13,
     "metadata": {},
     "output_type": "execute_result"
    }
   ],
   "source": [
    "max = gdf[\"sum_pop_2020\"].max()\n",
    "min = gdf[\"sum_pop_2020\"].min()\n",
    "normalized_sum_pop_2020 = (gdf[\"sum_pop_2020\"] - min) / (max - min)\n",
    "normalized_sum_pop_2020\n",
    "\n",
    "layer = ScatterplotLayer.from_geopandas(gdf, get_radius=2000, get_fill_color=apply_continuous_cmap(normalized_sum_pop_2020, BurgYl_2, alpha=0.7))\n",
    "m = Map(layer)\n",
    "m\n"
   ]
  }
 ],
 "metadata": {
  "kernelspec": {
   "display_name": "Python 3 (ipykernel)",
   "language": "python",
   "name": "python3"
  },
  "language_info": {
   "codemirror_mode": {
    "name": "ipython",
    "version": 3
   },
   "file_extension": ".py",
   "mimetype": "text/x-python",
   "name": "python",
   "nbconvert_exporter": "python",
   "pygments_lexer": "ipython3",
   "version": "3.12.4"
  }
 },
 "nbformat": 4,
 "nbformat_minor": 4
}
