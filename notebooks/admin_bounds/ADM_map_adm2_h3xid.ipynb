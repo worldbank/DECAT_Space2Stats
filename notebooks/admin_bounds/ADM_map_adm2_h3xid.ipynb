{
 "cells": [
  {
   "cell_type": "markdown",
   "metadata": {},
   "source": [
    "# Comparing h3 cells to administrative divisions\n",
    "\n",
    "While most of our work has focused on the consistent, global, hexagon grid, the ultimate goal of the S2S work program is to generate a database of geospatial aggregates at the administrative level 2. **We are still in the process of acquiring the admin bounds we are going to publish.**\n",
    "\n",
    "This notebook focuses on identifying percentage overlap between our official administrative divisions and our gobal hexagonal grid."
   ]
  },
  {
   "cell_type": "code",
   "execution_count": 2,
   "metadata": {},
   "outputs": [],
   "source": [
    "import sys, os, multiprocessing\n",
    "import h3ronpy, h3\n",
    "\n",
    "import pandas as pd\n",
    "import geopandas as gpd\n",
    "\n",
    "\n",
    "from tqdm.notebook import tqdm\n",
    "from h3ronpy.pandas.vector import geodataframe_to_cells, cells_dataframe_to_geodataframe\n",
    "from h3ronpy import ContainmentMode\n",
    "\n",
    "from GOSTrocks.misc import tPrint\n",
    "import GOSTrocks.mapMisc as mapMisc\n"
   ]
  },
  {
   "cell_type": "code",
   "execution_count": 3,
   "metadata": {},
   "outputs": [
    {
     "data": {
      "text/html": [
       "<div>\n",
       "<style scoped>\n",
       "    .dataframe tbody tr th:only-of-type {\n",
       "        vertical-align: middle;\n",
       "    }\n",
       "\n",
       "    .dataframe tbody tr th {\n",
       "        vertical-align: top;\n",
       "    }\n",
       "\n",
       "    .dataframe thead th {\n",
       "        text-align: right;\n",
       "    }\n",
       "</style>\n",
       "<table border=\"1\" class=\"dataframe\">\n",
       "  <thead>\n",
       "    <tr style=\"text-align: right;\">\n",
       "      <th></th>\n",
       "      <th>ISO_A3</th>\n",
       "      <th>ISO_A2</th>\n",
       "      <th>WB_A3</th>\n",
       "      <th>WB_REGION</th>\n",
       "      <th>WB_STATUS</th>\n",
       "      <th>NAM_0</th>\n",
       "      <th>NAM_1</th>\n",
       "      <th>ADM1CD_c</th>\n",
       "      <th>GEOM_SRCE</th>\n",
       "      <th>NAM_2</th>\n",
       "      <th>ADM2CD_c</th>\n",
       "      <th>geometry</th>\n",
       "    </tr>\n",
       "  </thead>\n",
       "  <tbody>\n",
       "    <tr>\n",
       "      <th>0</th>\n",
       "      <td>CHN</td>\n",
       "      <td>CN</td>\n",
       "      <td>CHN</td>\n",
       "      <td>EAP</td>\n",
       "      <td>Member State</td>\n",
       "      <td>China</td>\n",
       "      <td>Anhui Sheng</td>\n",
       "      <td>CHN001</td>\n",
       "      <td>WB GAD</td>\n",
       "      <td>Hefei</td>\n",
       "      <td>CHN001006</td>\n",
       "      <td>MULTIPOLYGON (((117.85668 32.02414, 117.76963 ...</td>\n",
       "    </tr>\n",
       "    <tr>\n",
       "      <th>1</th>\n",
       "      <td>CHN</td>\n",
       "      <td>CN</td>\n",
       "      <td>CHN</td>\n",
       "      <td>EAP</td>\n",
       "      <td>Member State</td>\n",
       "      <td>China</td>\n",
       "      <td>Anhui Sheng</td>\n",
       "      <td>CHN001</td>\n",
       "      <td>WB GAD</td>\n",
       "      <td>Bengbu</td>\n",
       "      <td>CHN001002</td>\n",
       "      <td>MULTIPOLYGON (((117.94735 33.3384, 117.95826 3...</td>\n",
       "    </tr>\n",
       "    <tr>\n",
       "      <th>2</th>\n",
       "      <td>CHN</td>\n",
       "      <td>CN</td>\n",
       "      <td>CHN</td>\n",
       "      <td>EAP</td>\n",
       "      <td>Member State</td>\n",
       "      <td>China</td>\n",
       "      <td>Anhui Sheng</td>\n",
       "      <td>CHN001</td>\n",
       "      <td>WB GAD</td>\n",
       "      <td>Huainan</td>\n",
       "      <td>CHN001008</td>\n",
       "      <td>MULTIPOLYGON (((117.20039 32.63284, 117.11077 ...</td>\n",
       "    </tr>\n",
       "    <tr>\n",
       "      <th>3</th>\n",
       "      <td>CHN</td>\n",
       "      <td>CN</td>\n",
       "      <td>CHN</td>\n",
       "      <td>EAP</td>\n",
       "      <td>Member State</td>\n",
       "      <td>China</td>\n",
       "      <td>Anhui Sheng</td>\n",
       "      <td>CHN001</td>\n",
       "      <td>WB GAD</td>\n",
       "      <td>Huaibei</td>\n",
       "      <td>CHN001007</td>\n",
       "      <td>MULTIPOLYGON (((116.88567 33.37158, 116.85864 ...</td>\n",
       "    </tr>\n",
       "    <tr>\n",
       "      <th>4</th>\n",
       "      <td>CHN</td>\n",
       "      <td>CN</td>\n",
       "      <td>CHN</td>\n",
       "      <td>EAP</td>\n",
       "      <td>Member State</td>\n",
       "      <td>China</td>\n",
       "      <td>Anhui Sheng</td>\n",
       "      <td>CHN001</td>\n",
       "      <td>WB GAD</td>\n",
       "      <td>Name Unknown</td>\n",
       "      <td>CHN001012</td>\n",
       "      <td>MULTIPOLYGON (((116.80599 33.30873, 116.81557 ...</td>\n",
       "    </tr>\n",
       "  </tbody>\n",
       "</table>\n",
       "</div>"
      ],
      "text/plain": [
       "  ISO_A3 ISO_A2 WB_A3 WB_REGION     WB_STATUS  NAM_0        NAM_1 ADM1CD_c  \\\n",
       "0    CHN     CN   CHN       EAP  Member State  China  Anhui Sheng   CHN001   \n",
       "1    CHN     CN   CHN       EAP  Member State  China  Anhui Sheng   CHN001   \n",
       "2    CHN     CN   CHN       EAP  Member State  China  Anhui Sheng   CHN001   \n",
       "3    CHN     CN   CHN       EAP  Member State  China  Anhui Sheng   CHN001   \n",
       "4    CHN     CN   CHN       EAP  Member State  China  Anhui Sheng   CHN001   \n",
       "\n",
       "  GEOM_SRCE         NAM_2   ADM2CD_c  \\\n",
       "0    WB GAD         Hefei  CHN001006   \n",
       "1    WB GAD        Bengbu  CHN001002   \n",
       "2    WB GAD       Huainan  CHN001008   \n",
       "3    WB GAD       Huaibei  CHN001007   \n",
       "4    WB GAD  Name Unknown  CHN001012   \n",
       "\n",
       "                                            geometry  \n",
       "0  MULTIPOLYGON (((117.85668 32.02414, 117.76963 ...  \n",
       "1  MULTIPOLYGON (((117.94735 33.3384, 117.95826 3...  \n",
       "2  MULTIPOLYGON (((117.20039 32.63284, 117.11077 ...  \n",
       "3  MULTIPOLYGON (((116.88567 33.37158, 116.85864 ...  \n",
       "4  MULTIPOLYGON (((116.80599 33.30873, 116.81557 ...  "
      ]
     },
     "execution_count": 3,
     "metadata": {},
     "output_type": "execute_result"
    }
   ],
   "source": [
    "base_folder = r\"C:\\WBG\\Work\\S2S\"\n",
    "admin_folder = r\"C:\\WBG\\Work\\data\\ADMIN\\BETTER_FORMATS\\simplified_output\"\n",
    "out_folder = os.path.join(base_folder, \"ADM_RESULTS\")\n",
    "\n",
    "if not os.path.exists(out_folder):\n",
    "    os.makedirs(out_folder)\n",
    "\n",
    "# Get the admin boundaries\n",
    "admin_id = 'ADM2CD_c'\n",
    "admin_file = os.path.join(admin_folder, \"WB_GAD_adm2_simplified.gpkg\")\n",
    "in_admin = gpd.read_file(admin_file)\n",
    "in_admin.head()"
   ]
  },
  {
   "cell_type": "code",
   "execution_count": 4,
   "metadata": {},
   "outputs": [
    {
     "data": {
      "text/html": [
       "<div>\n",
       "<style scoped>\n",
       "    .dataframe tbody tr th:only-of-type {\n",
       "        vertical-align: middle;\n",
       "    }\n",
       "\n",
       "    .dataframe tbody tr th {\n",
       "        vertical-align: top;\n",
       "    }\n",
       "\n",
       "    .dataframe thead th {\n",
       "        text-align: right;\n",
       "    }\n",
       "</style>\n",
       "<table border=\"1\" class=\"dataframe\">\n",
       "  <thead>\n",
       "    <tr style=\"text-align: right;\">\n",
       "      <th></th>\n",
       "      <th>ADM2CD_c</th>\n",
       "      <th>cell</th>\n",
       "      <th>overlap</th>\n",
       "    </tr>\n",
       "  </thead>\n",
       "  <tbody>\n",
       "    <tr>\n",
       "      <th>0</th>\n",
       "      <td>KEN001006</td>\n",
       "      <td>867a41217ffffff</td>\n",
       "      <td>0.232826</td>\n",
       "    </tr>\n",
       "    <tr>\n",
       "      <th>1</th>\n",
       "      <td>KEN001006</td>\n",
       "      <td>867a4121fffffff</td>\n",
       "      <td>0.229676</td>\n",
       "    </tr>\n",
       "    <tr>\n",
       "      <th>2</th>\n",
       "      <td>KEN001006</td>\n",
       "      <td>867a41287ffffff</td>\n",
       "      <td>1.000000</td>\n",
       "    </tr>\n",
       "    <tr>\n",
       "      <th>3</th>\n",
       "      <td>KEN001006</td>\n",
       "      <td>867a4128fffffff</td>\n",
       "      <td>1.000000</td>\n",
       "    </tr>\n",
       "    <tr>\n",
       "      <th>4</th>\n",
       "      <td>KEN001006</td>\n",
       "      <td>867a41297ffffff</td>\n",
       "      <td>1.000000</td>\n",
       "    </tr>\n",
       "    <tr>\n",
       "      <th>5</th>\n",
       "      <td>KEN001006</td>\n",
       "      <td>867a4129fffffff</td>\n",
       "      <td>1.000000</td>\n",
       "    </tr>\n",
       "    <tr>\n",
       "      <th>6</th>\n",
       "      <td>KEN001006</td>\n",
       "      <td>867a412a7ffffff</td>\n",
       "      <td>0.943661</td>\n",
       "    </tr>\n",
       "    <tr>\n",
       "      <th>7</th>\n",
       "      <td>KEN001006</td>\n",
       "      <td>867a412afffffff</td>\n",
       "      <td>1.000000</td>\n",
       "    </tr>\n",
       "    <tr>\n",
       "      <th>8</th>\n",
       "      <td>KEN001006</td>\n",
       "      <td>867a412b7ffffff</td>\n",
       "      <td>1.000000</td>\n",
       "    </tr>\n",
       "    <tr>\n",
       "      <th>9</th>\n",
       "      <td>KEN001006</td>\n",
       "      <td>867a412c7ffffff</td>\n",
       "      <td>0.982841</td>\n",
       "    </tr>\n",
       "  </tbody>\n",
       "</table>\n",
       "</div>"
      ],
      "text/plain": [
       "    ADM2CD_c             cell   overlap\n",
       "0  KEN001006  867a41217ffffff  0.232826\n",
       "1  KEN001006  867a4121fffffff  0.229676\n",
       "2  KEN001006  867a41287ffffff  1.000000\n",
       "3  KEN001006  867a4128fffffff  1.000000\n",
       "4  KEN001006  867a41297ffffff  1.000000\n",
       "5  KEN001006  867a4129fffffff  1.000000\n",
       "6  KEN001006  867a412a7ffffff  0.943661\n",
       "7  KEN001006  867a412afffffff  1.000000\n",
       "8  KEN001006  867a412b7ffffff  1.000000\n",
       "9  KEN001006  867a412c7ffffff  0.982841"
      ]
     },
     "execution_count": 4,
     "metadata": {},
     "output_type": "execute_result"
    }
   ],
   "source": [
    "def run_country_mp(cntry_label, in_data, out_folder, admin_id):\n",
    "    \"\"\" Iterate through the country and get intersecting hex_ids for each feature in in_data\n",
    "\n",
    "    Parameters\n",
    "    ----------\n",
    "    cntry_label : string\n",
    "        The country label to use for the output\n",
    "    in_data : geopandas.GeoDataFrame\n",
    "        The input data to process of admini features\n",
    "    out_folder : string\n",
    "        The output folder to save the results\n",
    "    \"\"\"    \n",
    "    out_file = os.path.join(out_folder, f'{cntry_label}_h3_intersect.csv')\n",
    "    if not os.path.exists(out_file):    \n",
    "        all_res = []\n",
    "        for idx, row in tqdm(in_data.iterrows(), total=in_data.shape[0], desc=f'Processing {cntry_label}'):\n",
    "            in_shape = gpd.GeoDataFrame(row.to_frame().T, geometry=\"geometry\", crs=in_data.crs)\n",
    "            in_shape['geometry'] = in_shape['geometry'].apply(lambda x: x.buffer(0))                                        \n",
    "            cur_res = get_bounds(in_shape, admin_id, 6)\n",
    "            cur_res['cntry'] = cntry_label\n",
    "            all_res.append(cur_res)\n",
    "        \n",
    "        country_res = pd.concat(all_res, ignore_index=True)\n",
    "        country_res.to_csv(out_file, index=False)\n",
    "    else:\n",
    "        country_res = pd.read_csv(out_file)\n",
    "    return(country_res)\n",
    "\n",
    "\n",
    "def get_bounds(in_shp, gID, h3_lvl=6):\n",
    "    \"\"\" Generate a geodataframe for the supplied in_shp with the H3 cells and % overlap\n",
    "\n",
    "    Parameters\n",
    "    ----------\n",
    "    in_shp : shapely.geometry.polygon.Polygon\n",
    "        The input shapely polygon\n",
    "    gID : string\n",
    "        The column name to use for the ID in the output\n",
    "    h3_lvl : int\n",
    "        The H3 level to use for the hexagons, default is 6\n",
    "    \"\"\"\n",
    "    # extract the H3 cells\n",
    "    cols_to_keep = [gID, 'cell', 'overlap']\n",
    "    cell_ax = cells_dataframe_to_geodataframe(geodataframe_to_cells(in_shp, 6, ContainmentMode.IntersectsBoundary))\n",
    "    cell_ax['cell'] = cell_ax['cell'].apply(lambda x: hex(x)[2:])    \n",
    "    # Identify contained and overlapping hexes with the admin bounds\n",
    "    contained_h3 = cell_ax.sjoin(in_shp, predicate='within')\n",
    "    missed_h3 = cell_ax[~cell_ax['cell'].isin(contained_h3['cell'])]\n",
    "    # calculate h3x overlap with feature\n",
    "    shp_area = in_shp.union_all()\n",
    "    cell_ax['overlap'] = 0.0\n",
    "    cell_ax.loc[contained_h3.index, 'overlap'] = 1.0\n",
    "    cell_ax.loc[missed_h3.index, 'overlap'] = cell_ax.loc[missed_h3.index,'geometry'].apply(lambda x: x.intersection(shp_area).area/x.area)\\\n",
    "    \n",
    "    return cell_ax.loc[:, cols_to_keep].reset_index(drop=True)\n",
    "\n",
    "\n",
    "sel_admin = in_admin.loc[in_admin['WB_A3'] == 'KEN']\n",
    "xx = get_bounds(gpd.GeoDataFrame(sel_admin.iloc[0].to_frame().T, geometry=\"geometry\", crs=sel_admin.crs), admin_id, 6)\n",
    "xx.head(10)\n",
    "\n"
   ]
  },
  {
   "cell_type": "code",
   "execution_count": 5,
   "metadata": {},
   "outputs": [
    {
     "data": {
      "text/plain": [
       "' This isn\\'t working \\n# Run multiprocessing\\ntPrint(\"Starting multiprocessing\")\\nwith multiprocessing.Pool(processes=multiprocessing.cpu_count() - 1) as pool:\\n    results = list(tqdm(pool.imap(run_country_mp, mp_args), total=len(mp_args), desc=\\'Processing countries\\'))\\n\\n'"
      ]
     },
     "execution_count": 5,
     "metadata": {},
     "output_type": "execute_result"
    }
   ],
   "source": [
    "mp_args = []\n",
    "for cntry, data in in_admin.groupby('WB_A3'):\n",
    "    mp_args.append([cntry, data, out_folder, admin_id])\n",
    "''' This isn't working \n",
    "# Run multiprocessing\n",
    "tPrint(\"Starting multiprocessing\")\n",
    "with multiprocessing.Pool(processes=multiprocessing.cpu_count() - 1) as pool:\n",
    "    results = list(tqdm(pool.imap(run_country_mp, mp_args), total=len(mp_args), desc='Processing countries'))\n",
    "\n",
    "'''"
   ]
  },
  {
   "cell_type": "code",
   "execution_count": 6,
   "metadata": {},
   "outputs": [
    {
     "data": {
      "application/vnd.jupyter.widget-view+json": {
       "model_id": "edcd85b9ac1e46a2b0228f452f443017",
       "version_major": 2,
       "version_minor": 0
      },
      "text/plain": [
       "  0%|          | 0/235 [00:00<?, ?it/s]"
      ]
     },
     "metadata": {},
     "output_type": "display_data"
    },
    {
     "name": "stdout",
     "output_type": "stream",
     "text": [
      "Processing ABW\n"
     ]
    },
    {
     "data": {
      "application/vnd.jupyter.widget-view+json": {
       "model_id": "0309aade286a435f82cbfa60210a8620",
       "version_major": 2,
       "version_minor": 0
      },
      "text/plain": [
       "Processing ABW:   0%|          | 0/1 [00:00<?, ?it/s]"
      ]
     },
     "metadata": {},
     "output_type": "display_data"
    },
    {
     "name": "stdout",
     "output_type": "stream",
     "text": [
      "Processing ADO\n"
     ]
    },
    {
     "data": {
      "application/vnd.jupyter.widget-view+json": {
       "model_id": "73e8766dfc2b48709944be0e1e9dcdf0",
       "version_major": 2,
       "version_minor": 0
      },
      "text/plain": [
       "Processing ADO:   0%|          | 0/7 [00:00<?, ?it/s]"
      ]
     },
     "metadata": {},
     "output_type": "display_data"
    },
    {
     "name": "stdout",
     "output_type": "stream",
     "text": [
      "Processing AFG\n"
     ]
    },
    {
     "data": {
      "application/vnd.jupyter.widget-view+json": {
       "model_id": "13545c48739c469f8e63f2f443cfa6bd",
       "version_major": 2,
       "version_minor": 0
      },
      "text/plain": [
       "Processing AFG:   0%|          | 0/398 [00:00<?, ?it/s]"
      ]
     },
     "metadata": {},
     "output_type": "display_data"
    },
    {
     "name": "stdout",
     "output_type": "stream",
     "text": [
      "Processing AGO\n"
     ]
    },
    {
     "data": {
      "application/vnd.jupyter.widget-view+json": {
       "model_id": "68bf601a95074105b9ea7d5f3b31a59d",
       "version_major": 2,
       "version_minor": 0
      },
      "text/plain": [
       "Processing AGO:   0%|          | 0/164 [00:00<?, ?it/s]"
      ]
     },
     "metadata": {},
     "output_type": "display_data"
    },
    {
     "name": "stdout",
     "output_type": "stream",
     "text": [
      "Processing AIA\n"
     ]
    },
    {
     "data": {
      "application/vnd.jupyter.widget-view+json": {
       "model_id": "479b37eda6c84870a988f68d84773260",
       "version_major": 2,
       "version_minor": 0
      },
      "text/plain": [
       "Processing AIA:   0%|          | 0/10 [00:00<?, ?it/s]"
      ]
     },
     "metadata": {},
     "output_type": "display_data"
    },
    {
     "name": "stdout",
     "output_type": "stream",
     "text": [
      "Processing ALB\n"
     ]
    },
    {
     "data": {
      "application/vnd.jupyter.widget-view+json": {
       "model_id": "63dd359d213c4f9fb9f9e5eff02f068d",
       "version_major": 2,
       "version_minor": 0
      },
      "text/plain": [
       "Processing ALB:   0%|          | 0/374 [00:00<?, ?it/s]"
      ]
     },
     "metadata": {},
     "output_type": "display_data"
    },
    {
     "name": "stdout",
     "output_type": "stream",
     "text": [
      "Processing ARE\n"
     ]
    },
    {
     "data": {
      "application/vnd.jupyter.widget-view+json": {
       "model_id": "f47096214775452f8c7c8d6982f3e779",
       "version_major": 2,
       "version_minor": 0
      },
      "text/plain": [
       "Processing ARE:   0%|          | 0/7 [00:00<?, ?it/s]"
      ]
     },
     "metadata": {},
     "output_type": "display_data"
    },
    {
     "name": "stdout",
     "output_type": "stream",
     "text": [
      "Processing ARG\n"
     ]
    },
    {
     "data": {
      "application/vnd.jupyter.widget-view+json": {
       "model_id": "ddbaa93582984229a934fffe960d0129",
       "version_major": 2,
       "version_minor": 0
      },
      "text/plain": [
       "Processing ARG:   0%|          | 0/525 [00:00<?, ?it/s]"
      ]
     },
     "metadata": {},
     "output_type": "display_data"
    },
    {
     "name": "stdout",
     "output_type": "stream",
     "text": [
      "Processing ARM\n"
     ]
    },
    {
     "data": {
      "application/vnd.jupyter.widget-view+json": {
       "model_id": "c0a44624977f4489a0aaf839dc446018",
       "version_major": 2,
       "version_minor": 0
      },
      "text/plain": [
       "Processing ARM:   0%|          | 0/40 [00:00<?, ?it/s]"
      ]
     },
     "metadata": {},
     "output_type": "display_data"
    },
    {
     "name": "stdout",
     "output_type": "stream",
     "text": [
      "Processing ASM\n"
     ]
    },
    {
     "data": {
      "application/vnd.jupyter.widget-view+json": {
       "model_id": "573d68eba46843e3b61f41bc8f286454",
       "version_major": 2,
       "version_minor": 0
      },
      "text/plain": [
       "Processing ASM:   0%|          | 0/1 [00:00<?, ?it/s]"
      ]
     },
     "metadata": {},
     "output_type": "display_data"
    },
    {
     "name": "stdout",
     "output_type": "stream",
     "text": [
      "Processing ATF\n"
     ]
    },
    {
     "data": {
      "application/vnd.jupyter.widget-view+json": {
       "model_id": "d8c072623da3425d9b53ec1bdc1c5d13",
       "version_major": 2,
       "version_minor": 0
      },
      "text/plain": [
       "Processing ATF:   0%|          | 0/6 [00:00<?, ?it/s]"
      ]
     },
     "metadata": {},
     "output_type": "display_data"
    },
    {
     "name": "stdout",
     "output_type": "stream",
     "text": [
      "Processing ATG\n"
     ]
    },
    {
     "data": {
      "application/vnd.jupyter.widget-view+json": {
       "model_id": "a37279eabab44779896fe30aff4eecff",
       "version_major": 2,
       "version_minor": 0
      },
      "text/plain": [
       "Processing ATG:   0%|          | 0/8 [00:00<?, ?it/s]"
      ]
     },
     "metadata": {},
     "output_type": "display_data"
    },
    {
     "name": "stdout",
     "output_type": "stream",
     "text": [
      "Processing AUS\n"
     ]
    },
    {
     "data": {
      "application/vnd.jupyter.widget-view+json": {
       "model_id": "503324256f554708a34aff7dd661369a",
       "version_major": 2,
       "version_minor": 0
      },
      "text/plain": [
       "Processing AUS:   0%|          | 0/566 [00:00<?, ?it/s]"
      ]
     },
     "metadata": {},
     "output_type": "display_data"
    },
    {
     "name": "stdout",
     "output_type": "stream",
     "text": [
      "Processing AUT\n"
     ]
    },
    {
     "data": {
      "application/vnd.jupyter.widget-view+json": {
       "model_id": "c42a7feb59204ca9b8ab684a25d35b13",
       "version_major": 2,
       "version_minor": 0
      },
      "text/plain": [
       "Processing AUT:   0%|          | 0/100 [00:00<?, ?it/s]"
      ]
     },
     "metadata": {},
     "output_type": "display_data"
    },
    {
     "name": "stdout",
     "output_type": "stream",
     "text": [
      "Processing AZE\n"
     ]
    },
    {
     "data": {
      "application/vnd.jupyter.widget-view+json": {
       "model_id": "5e60ff8adb6b4157b5d08ddf88e4c039",
       "version_major": 2,
       "version_minor": 0
      },
      "text/plain": [
       "Processing AZE:   0%|          | 0/74 [00:00<?, ?it/s]"
      ]
     },
     "metadata": {},
     "output_type": "display_data"
    },
    {
     "name": "stdout",
     "output_type": "stream",
     "text": [
      "Processing BDI\n"
     ]
    },
    {
     "data": {
      "application/vnd.jupyter.widget-view+json": {
       "model_id": "146bc3e5e0904edcb5d28bd42bfd5157",
       "version_major": 2,
       "version_minor": 0
      },
      "text/plain": [
       "Processing BDI:   0%|          | 0/119 [00:00<?, ?it/s]"
      ]
     },
     "metadata": {},
     "output_type": "display_data"
    },
    {
     "name": "stdout",
     "output_type": "stream",
     "text": [
      "Processing BEL\n"
     ]
    },
    {
     "data": {
      "application/vnd.jupyter.widget-view+json": {
       "model_id": "d8058b8ee3ee4f388ad3d9696cfd88cf",
       "version_major": 2,
       "version_minor": 0
      },
      "text/plain": [
       "Processing BEL:   0%|          | 0/11 [00:00<?, ?it/s]"
      ]
     },
     "metadata": {},
     "output_type": "display_data"
    },
    {
     "name": "stdout",
     "output_type": "stream",
     "text": [
      "Processing BEN\n"
     ]
    },
    {
     "data": {
      "application/vnd.jupyter.widget-view+json": {
       "model_id": "e40d809efd7945dc9eeec698e7134ab2",
       "version_major": 2,
       "version_minor": 0
      },
      "text/plain": [
       "Processing BEN:   0%|          | 0/77 [00:00<?, ?it/s]"
      ]
     },
     "metadata": {},
     "output_type": "display_data"
    },
    {
     "name": "stdout",
     "output_type": "stream",
     "text": [
      "Processing BES\n"
     ]
    },
    {
     "data": {
      "application/vnd.jupyter.widget-view+json": {
       "model_id": "d9acf71583f54950af39fae7967523c7",
       "version_major": 2,
       "version_minor": 0
      },
      "text/plain": [
       "Processing BES:   0%|          | 0/3 [00:00<?, ?it/s]"
      ]
     },
     "metadata": {},
     "output_type": "display_data"
    },
    {
     "name": "stdout",
     "output_type": "stream",
     "text": [
      "Processing BFA\n"
     ]
    },
    {
     "data": {
      "application/vnd.jupyter.widget-view+json": {
       "model_id": "cc70fd12cd19452b9c9412d582b3b98a",
       "version_major": 2,
       "version_minor": 0
      },
      "text/plain": [
       "Processing BFA:   0%|          | 0/45 [00:00<?, ?it/s]"
      ]
     },
     "metadata": {},
     "output_type": "display_data"
    },
    {
     "name": "stdout",
     "output_type": "stream",
     "text": [
      "Processing BGD\n"
     ]
    },
    {
     "data": {
      "application/vnd.jupyter.widget-view+json": {
       "model_id": "5029fda959614971b875d2e4249d8a86",
       "version_major": 2,
       "version_minor": 0
      },
      "text/plain": [
       "Processing BGD:   0%|          | 0/64 [00:00<?, ?it/s]"
      ]
     },
     "metadata": {},
     "output_type": "display_data"
    },
    {
     "name": "stdout",
     "output_type": "stream",
     "text": [
      "Processing BGR\n"
     ]
    },
    {
     "data": {
      "application/vnd.jupyter.widget-view+json": {
       "model_id": "1d074f901b74417b9eea84afe4f67d30",
       "version_major": 2,
       "version_minor": 0
      },
      "text/plain": [
       "Processing BGR:   0%|          | 0/262 [00:00<?, ?it/s]"
      ]
     },
     "metadata": {},
     "output_type": "display_data"
    },
    {
     "name": "stdout",
     "output_type": "stream",
     "text": [
      "Processing BHR\n"
     ]
    },
    {
     "data": {
      "application/vnd.jupyter.widget-view+json": {
       "model_id": "de5f40e095994452aab870eab76ad7bc",
       "version_major": 2,
       "version_minor": 0
      },
      "text/plain": [
       "Processing BHR:   0%|          | 0/12 [00:00<?, ?it/s]"
      ]
     },
     "metadata": {},
     "output_type": "display_data"
    },
    {
     "name": "stdout",
     "output_type": "stream",
     "text": [
      "Processing BHS\n"
     ]
    },
    {
     "data": {
      "application/vnd.jupyter.widget-view+json": {
       "model_id": "373056712aed405ba079cc231ffa0145",
       "version_major": 2,
       "version_minor": 0
      },
      "text/plain": [
       "Processing BHS:   0%|          | 0/1 [00:00<?, ?it/s]"
      ]
     },
     "metadata": {},
     "output_type": "display_data"
    },
    {
     "name": "stdout",
     "output_type": "stream",
     "text": [
      "Processing BIH\n"
     ]
    },
    {
     "data": {
      "application/vnd.jupyter.widget-view+json": {
       "model_id": "9fd4960f95024e6e8477dc5767098926",
       "version_major": 2,
       "version_minor": 0
      },
      "text/plain": [
       "Processing BIH:   0%|          | 0/81 [00:00<?, ?it/s]"
      ]
     },
     "metadata": {},
     "output_type": "display_data"
    },
    {
     "name": "stdout",
     "output_type": "stream",
     "text": [
      "Processing BLM\n"
     ]
    },
    {
     "data": {
      "application/vnd.jupyter.widget-view+json": {
       "model_id": "f43f5ab8209b46289308670bd68a3031",
       "version_major": 2,
       "version_minor": 0
      },
      "text/plain": [
       "Processing BLM:   0%|          | 0/1 [00:00<?, ?it/s]"
      ]
     },
     "metadata": {},
     "output_type": "display_data"
    },
    {
     "name": "stdout",
     "output_type": "stream",
     "text": [
      "Processing BLR\n"
     ]
    },
    {
     "data": {
      "application/vnd.jupyter.widget-view+json": {
       "model_id": "f144391ae2084a9d89dc672a7f1f9925",
       "version_major": 2,
       "version_minor": 0
      },
      "text/plain": [
       "Processing BLR:   0%|          | 0/119 [00:00<?, ?it/s]"
      ]
     },
     "metadata": {},
     "output_type": "display_data"
    },
    {
     "name": "stdout",
     "output_type": "stream",
     "text": [
      "Processing BLZ\n"
     ]
    },
    {
     "data": {
      "application/vnd.jupyter.widget-view+json": {
       "model_id": "db26da9a5cff468ba9405d86e5607452",
       "version_major": 2,
       "version_minor": 0
      },
      "text/plain": [
       "Processing BLZ:   0%|          | 0/6 [00:00<?, ?it/s]"
      ]
     },
     "metadata": {},
     "output_type": "display_data"
    },
    {
     "name": "stdout",
     "output_type": "stream",
     "text": [
      "Processing BMU\n"
     ]
    },
    {
     "data": {
      "application/vnd.jupyter.widget-view+json": {
       "model_id": "616577636359444ab12765c7461c081e",
       "version_major": 2,
       "version_minor": 0
      },
      "text/plain": [
       "Processing BMU:   0%|          | 0/1 [00:00<?, ?it/s]"
      ]
     },
     "metadata": {},
     "output_type": "display_data"
    },
    {
     "name": "stdout",
     "output_type": "stream",
     "text": [
      "Processing BOL\n"
     ]
    },
    {
     "data": {
      "application/vnd.jupyter.widget-view+json": {
       "model_id": "6fe10055b39849e48de698d6616b29b6",
       "version_major": 2,
       "version_minor": 0
      },
      "text/plain": [
       "Processing BOL:   0%|          | 0/113 [00:00<?, ?it/s]"
      ]
     },
     "metadata": {},
     "output_type": "display_data"
    },
    {
     "name": "stdout",
     "output_type": "stream",
     "text": [
      "Processing BRA\n"
     ]
    },
    {
     "data": {
      "application/vnd.jupyter.widget-view+json": {
       "model_id": "8cbd684fb9844cb381ac96bc7aefd7fa",
       "version_major": 2,
       "version_minor": 0
      },
      "text/plain": [
       "Processing BRA:   0%|          | 0/5510 [00:00<?, ?it/s]"
      ]
     },
     "metadata": {},
     "output_type": "display_data"
    },
    {
     "name": "stdout",
     "output_type": "stream",
     "text": [
      "Processing BRB\n"
     ]
    },
    {
     "data": {
      "application/vnd.jupyter.widget-view+json": {
       "model_id": "d2aee489adbb48429e25c5c1d7cd9d31",
       "version_major": 2,
       "version_minor": 0
      },
      "text/plain": [
       "Processing BRB:   0%|          | 0/11 [00:00<?, ?it/s]"
      ]
     },
     "metadata": {},
     "output_type": "display_data"
    },
    {
     "name": "stdout",
     "output_type": "stream",
     "text": [
      "Processing BRN\n"
     ]
    },
    {
     "data": {
      "application/vnd.jupyter.widget-view+json": {
       "model_id": "7efcc346a5ca46feb8c01949578105c8",
       "version_major": 2,
       "version_minor": 0
      },
      "text/plain": [
       "Processing BRN:   0%|          | 0/38 [00:00<?, ?it/s]"
      ]
     },
     "metadata": {},
     "output_type": "display_data"
    },
    {
     "name": "stdout",
     "output_type": "stream",
     "text": [
      "Processing BTN\n"
     ]
    },
    {
     "data": {
      "application/vnd.jupyter.widget-view+json": {
       "model_id": "b8de4ae7b1db4e90af97ddb7188787e3",
       "version_major": 2,
       "version_minor": 0
      },
      "text/plain": [
       "Processing BTN:   0%|          | 0/205 [00:00<?, ?it/s]"
      ]
     },
     "metadata": {},
     "output_type": "display_data"
    },
    {
     "name": "stdout",
     "output_type": "stream",
     "text": [
      "Processing BVT\n"
     ]
    },
    {
     "data": {
      "application/vnd.jupyter.widget-view+json": {
       "model_id": "b4ee905df4d04cbca38db02b5c8b6b17",
       "version_major": 2,
       "version_minor": 0
      },
      "text/plain": [
       "Processing BVT:   0%|          | 0/1 [00:00<?, ?it/s]"
      ]
     },
     "metadata": {},
     "output_type": "display_data"
    },
    {
     "name": "stdout",
     "output_type": "stream",
     "text": [
      "Processing BWA\n"
     ]
    },
    {
     "data": {
      "application/vnd.jupyter.widget-view+json": {
       "model_id": "fa920244dd494c0ea390a35130c40bfc",
       "version_major": 2,
       "version_minor": 0
      },
      "text/plain": [
       "Processing BWA:   0%|          | 0/10 [00:00<?, ?it/s]"
      ]
     },
     "metadata": {},
     "output_type": "display_data"
    },
    {
     "name": "stdout",
     "output_type": "stream",
     "text": [
      "Processing CAF\n"
     ]
    },
    {
     "data": {
      "application/vnd.jupyter.widget-view+json": {
       "model_id": "b7455277398e4dc5af4759dfe3177ba7",
       "version_major": 2,
       "version_minor": 0
      },
      "text/plain": [
       "Processing CAF:   0%|          | 0/17 [00:00<?, ?it/s]"
      ]
     },
     "metadata": {},
     "output_type": "display_data"
    },
    {
     "name": "stdout",
     "output_type": "stream",
     "text": [
      "Processing CAN\n"
     ]
    },
    {
     "data": {
      "application/vnd.jupyter.widget-view+json": {
       "model_id": "5b195bbe595b4a36afd83543ff99585f",
       "version_major": 2,
       "version_minor": 0
      },
      "text/plain": [
       "Processing CAN:   0%|          | 0/295 [00:00<?, ?it/s]"
      ]
     },
     "metadata": {},
     "output_type": "display_data"
    },
    {
     "name": "stdout",
     "output_type": "stream",
     "text": [
      "Processing CCK\n"
     ]
    },
    {
     "data": {
      "application/vnd.jupyter.widget-view+json": {
       "model_id": "d48de3ba7bba42d5bf7df6f254909a8d",
       "version_major": 2,
       "version_minor": 0
      },
      "text/plain": [
       "Processing CCK:   0%|          | 0/1 [00:00<?, ?it/s]"
      ]
     },
     "metadata": {},
     "output_type": "display_data"
    },
    {
     "name": "stdout",
     "output_type": "stream",
     "text": [
      "Processing CHE\n"
     ]
    },
    {
     "data": {
      "application/vnd.jupyter.widget-view+json": {
       "model_id": "bca3cb264bed49a2907ffa18cb449c5e",
       "version_major": 2,
       "version_minor": 0
      },
      "text/plain": [
       "Processing CHE:   0%|          | 0/26 [00:00<?, ?it/s]"
      ]
     },
     "metadata": {},
     "output_type": "display_data"
    },
    {
     "name": "stdout",
     "output_type": "stream",
     "text": [
      "Processing CHL\n"
     ]
    },
    {
     "data": {
      "application/vnd.jupyter.widget-view+json": {
       "model_id": "3464d78d59f0468194ff6e98bf1ed3f7",
       "version_major": 2,
       "version_minor": 0
      },
      "text/plain": [
       "Processing CHL:   0%|          | 0/52 [00:00<?, ?it/s]"
      ]
     },
     "metadata": {},
     "output_type": "display_data"
    },
    {
     "name": "stdout",
     "output_type": "stream",
     "text": [
      "Processing CHN\n"
     ]
    },
    {
     "data": {
      "application/vnd.jupyter.widget-view+json": {
       "model_id": "2c8f96f0bd3346caa4548fffd5491ad0",
       "version_major": 2,
       "version_minor": 0
      },
      "text/plain": [
       "Processing CHN:   0%|          | 0/345 [00:00<?, ?it/s]"
      ]
     },
     "metadata": {},
     "output_type": "display_data"
    },
    {
     "name": "stdout",
     "output_type": "stream",
     "text": [
      "Processing CIV\n"
     ]
    },
    {
     "data": {
      "application/vnd.jupyter.widget-view+json": {
       "model_id": "b7d35a30dbe5484cabb1cebf1da21a2f",
       "version_major": 2,
       "version_minor": 0
      },
      "text/plain": [
       "Processing CIV:   0%|          | 0/33 [00:00<?, ?it/s]"
      ]
     },
     "metadata": {},
     "output_type": "display_data"
    },
    {
     "name": "stdout",
     "output_type": "stream",
     "text": [
      "Processing CMR\n"
     ]
    },
    {
     "data": {
      "application/vnd.jupyter.widget-view+json": {
       "model_id": "e5d6dea1a58e456abedeca9042e3c703",
       "version_major": 2,
       "version_minor": 0
      },
      "text/plain": [
       "Processing CMR:   0%|          | 0/58 [00:00<?, ?it/s]"
      ]
     },
     "metadata": {},
     "output_type": "display_data"
    },
    {
     "name": "stdout",
     "output_type": "stream",
     "text": [
      "Processing COG\n"
     ]
    },
    {
     "data": {
      "application/vnd.jupyter.widget-view+json": {
       "model_id": "d4cb7bf65ae74fd2895a389f3605348e",
       "version_major": 2,
       "version_minor": 0
      },
      "text/plain": [
       "Processing COG:   0%|          | 0/89 [00:00<?, ?it/s]"
      ]
     },
     "metadata": {},
     "output_type": "display_data"
    },
    {
     "name": "stdout",
     "output_type": "stream",
     "text": [
      "Processing COK\n"
     ]
    },
    {
     "data": {
      "application/vnd.jupyter.widget-view+json": {
       "model_id": "49ada2bc2d084c33b5904e7e454def86",
       "version_major": 2,
       "version_minor": 0
      },
      "text/plain": [
       "Processing COK:   0%|          | 0/1 [00:00<?, ?it/s]"
      ]
     },
     "metadata": {},
     "output_type": "display_data"
    },
    {
     "name": "stdout",
     "output_type": "stream",
     "text": [
      "Processing COL\n"
     ]
    },
    {
     "data": {
      "application/vnd.jupyter.widget-view+json": {
       "model_id": "4bf2f289587b4c6b8cfa137fc2c9f46a",
       "version_major": 2,
       "version_minor": 0
      },
      "text/plain": [
       "Processing COL:   0%|          | 0/1122 [00:00<?, ?it/s]"
      ]
     },
     "metadata": {},
     "output_type": "display_data"
    },
    {
     "name": "stdout",
     "output_type": "stream",
     "text": [
      "Processing COM\n"
     ]
    },
    {
     "data": {
      "application/vnd.jupyter.widget-view+json": {
       "model_id": "843fd2d28c764fab8423b757f19123a2",
       "version_major": 2,
       "version_minor": 0
      },
      "text/plain": [
       "Processing COM:   0%|          | 0/3 [00:00<?, ?it/s]"
      ]
     },
     "metadata": {},
     "output_type": "display_data"
    },
    {
     "name": "stdout",
     "output_type": "stream",
     "text": [
      "Processing CPV\n"
     ]
    },
    {
     "data": {
      "application/vnd.jupyter.widget-view+json": {
       "model_id": "7d05a0d9ec294392b7aadd187f689fca",
       "version_major": 2,
       "version_minor": 0
      },
      "text/plain": [
       "Processing CPV:   0%|          | 0/32 [00:00<?, ?it/s]"
      ]
     },
     "metadata": {},
     "output_type": "display_data"
    },
    {
     "name": "stdout",
     "output_type": "stream",
     "text": [
      "Processing CRI\n"
     ]
    },
    {
     "data": {
      "application/vnd.jupyter.widget-view+json": {
       "model_id": "abf988296dcb4676ad5e27d40ae02b83",
       "version_major": 2,
       "version_minor": 0
      },
      "text/plain": [
       "Processing CRI:   0%|          | 0/82 [00:00<?, ?it/s]"
      ]
     },
     "metadata": {},
     "output_type": "display_data"
    },
    {
     "name": "stdout",
     "output_type": "stream",
     "text": [
      "Processing CUB\n"
     ]
    },
    {
     "data": {
      "application/vnd.jupyter.widget-view+json": {
       "model_id": "edef6699ad85445999da81c8b9ff6466",
       "version_major": 2,
       "version_minor": 0
      },
      "text/plain": [
       "Processing CUB:   0%|          | 0/169 [00:00<?, ?it/s]"
      ]
     },
     "metadata": {},
     "output_type": "display_data"
    },
    {
     "name": "stdout",
     "output_type": "stream",
     "text": [
      "Processing CUW\n"
     ]
    },
    {
     "data": {
      "application/vnd.jupyter.widget-view+json": {
       "model_id": "dae60a11a5d0419d89a096e0192e2a19",
       "version_major": 2,
       "version_minor": 0
      },
      "text/plain": [
       "Processing CUW:   0%|          | 0/1 [00:00<?, ?it/s]"
      ]
     },
     "metadata": {},
     "output_type": "display_data"
    },
    {
     "name": "stdout",
     "output_type": "stream",
     "text": [
      "Processing CXR\n"
     ]
    },
    {
     "data": {
      "application/vnd.jupyter.widget-view+json": {
       "model_id": "96f0b66a4e1b42e9b65272955f2f6f8a",
       "version_major": 2,
       "version_minor": 0
      },
      "text/plain": [
       "Processing CXR:   0%|          | 0/1 [00:00<?, ?it/s]"
      ]
     },
     "metadata": {},
     "output_type": "display_data"
    },
    {
     "name": "stdout",
     "output_type": "stream",
     "text": [
      "Processing CYM\n"
     ]
    },
    {
     "data": {
      "application/vnd.jupyter.widget-view+json": {
       "model_id": "8939411250c440d9a7acc7ec5976248f",
       "version_major": 2,
       "version_minor": 0
      },
      "text/plain": [
       "Processing CYM:   0%|          | 0/3 [00:00<?, ?it/s]"
      ]
     },
     "metadata": {},
     "output_type": "display_data"
    },
    {
     "name": "stdout",
     "output_type": "stream",
     "text": [
      "Processing CYP\n"
     ]
    },
    {
     "data": {
      "application/vnd.jupyter.widget-view+json": {
       "model_id": "cdbea98627ee48cea683de6e5c877c8c",
       "version_major": 2,
       "version_minor": 0
      },
      "text/plain": [
       "Processing CYP:   0%|          | 0/6 [00:00<?, ?it/s]"
      ]
     },
     "metadata": {},
     "output_type": "display_data"
    },
    {
     "name": "stdout",
     "output_type": "stream",
     "text": [
      "Processing CZE\n"
     ]
    },
    {
     "data": {
      "application/vnd.jupyter.widget-view+json": {
       "model_id": "971cdcf56d7d4552823cee3e2d7f1c72",
       "version_major": 2,
       "version_minor": 0
      },
      "text/plain": [
       "Processing CZE:   0%|          | 0/77 [00:00<?, ?it/s]"
      ]
     },
     "metadata": {},
     "output_type": "display_data"
    },
    {
     "name": "stdout",
     "output_type": "stream",
     "text": [
      "Processing DEU\n"
     ]
    },
    {
     "data": {
      "application/vnd.jupyter.widget-view+json": {
       "model_id": "9c2b58a7811549dfbf13192825ce36b8",
       "version_major": 2,
       "version_minor": 0
      },
      "text/plain": [
       "Processing DEU:   0%|          | 0/33 [00:00<?, ?it/s]"
      ]
     },
     "metadata": {},
     "output_type": "display_data"
    },
    {
     "name": "stdout",
     "output_type": "stream",
     "text": [
      "Processing DJI\n"
     ]
    },
    {
     "data": {
      "application/vnd.jupyter.widget-view+json": {
       "model_id": "d4db84fa3116449bb39da3a560d4b426",
       "version_major": 2,
       "version_minor": 0
      },
      "text/plain": [
       "Processing DJI:   0%|          | 0/12 [00:00<?, ?it/s]"
      ]
     },
     "metadata": {},
     "output_type": "display_data"
    },
    {
     "name": "stdout",
     "output_type": "stream",
     "text": [
      "Processing DMA\n"
     ]
    },
    {
     "data": {
      "application/vnd.jupyter.widget-view+json": {
       "model_id": "489a47c505a1481ea5e50d461c5121ed",
       "version_major": 2,
       "version_minor": 0
      },
      "text/plain": [
       "Processing DMA:   0%|          | 0/10 [00:00<?, ?it/s]"
      ]
     },
     "metadata": {},
     "output_type": "display_data"
    },
    {
     "name": "stdout",
     "output_type": "stream",
     "text": [
      "Processing DNK\n"
     ]
    },
    {
     "data": {
      "application/vnd.jupyter.widget-view+json": {
       "model_id": "f781e68a9ed64baf80e6151b689302a0",
       "version_major": 2,
       "version_minor": 0
      },
      "text/plain": [
       "Processing DNK:   0%|          | 0/99 [00:00<?, ?it/s]"
      ]
     },
     "metadata": {},
     "output_type": "display_data"
    },
    {
     "name": "stdout",
     "output_type": "stream",
     "text": [
      "Processing DOM\n"
     ]
    },
    {
     "data": {
      "application/vnd.jupyter.widget-view+json": {
       "model_id": "c5f3fc4d0f8a4ff8808639e7257cabbf",
       "version_major": 2,
       "version_minor": 0
      },
      "text/plain": [
       "Processing DOM:   0%|          | 0/162 [00:00<?, ?it/s]"
      ]
     },
     "metadata": {},
     "output_type": "display_data"
    },
    {
     "name": "stdout",
     "output_type": "stream",
     "text": [
      "Processing DRC\n"
     ]
    },
    {
     "data": {
      "application/vnd.jupyter.widget-view+json": {
       "model_id": "86459ae47f0b4838be69f800834298d2",
       "version_major": 2,
       "version_minor": 0
      },
      "text/plain": [
       "Processing DRC:   0%|          | 0/219 [00:00<?, ?it/s]"
      ]
     },
     "metadata": {},
     "output_type": "display_data"
    },
    {
     "name": "stdout",
     "output_type": "stream",
     "text": [
      "Processing DZA\n"
     ]
    },
    {
     "data": {
      "application/vnd.jupyter.widget-view+json": {
       "model_id": "b3e6e5b6b1554808a8a4d035a4eff07b",
       "version_major": 2,
       "version_minor": 0
      },
      "text/plain": [
       "Processing DZA:   0%|          | 0/1541 [00:00<?, ?it/s]"
      ]
     },
     "metadata": {},
     "output_type": "display_data"
    },
    {
     "name": "stdout",
     "output_type": "stream",
     "text": [
      "Processing ECU\n"
     ]
    },
    {
     "data": {
      "application/vnd.jupyter.widget-view+json": {
       "model_id": "e66456c7a9bf4042bd7c9c136f1077c9",
       "version_major": 2,
       "version_minor": 0
      },
      "text/plain": [
       "Processing ECU:   0%|          | 0/221 [00:00<?, ?it/s]"
      ]
     },
     "metadata": {},
     "output_type": "display_data"
    },
    {
     "name": "stdout",
     "output_type": "stream",
     "text": [
      "Processing EGY\n"
     ]
    },
    {
     "data": {
      "application/vnd.jupyter.widget-view+json": {
       "model_id": "08c2e5c40882490ab253c5f944db0e08",
       "version_major": 2,
       "version_minor": 0
      },
      "text/plain": [
       "Processing EGY:   0%|          | 0/342 [00:00<?, ?it/s]"
      ]
     },
     "metadata": {},
     "output_type": "display_data"
    },
    {
     "name": "stdout",
     "output_type": "stream",
     "text": [
      "Processing ERI\n"
     ]
    },
    {
     "data": {
      "application/vnd.jupyter.widget-view+json": {
       "model_id": "0a02e27eb7654de985cfcd6ad753541b",
       "version_major": 2,
       "version_minor": 0
      },
      "text/plain": [
       "Processing ERI:   0%|          | 0/58 [00:00<?, ?it/s]"
      ]
     },
     "metadata": {},
     "output_type": "display_data"
    },
    {
     "name": "stdout",
     "output_type": "stream",
     "text": [
      "Processing ESP\n"
     ]
    },
    {
     "data": {
      "application/vnd.jupyter.widget-view+json": {
       "model_id": "0b43ca21d9654316a8e614060ad9eb1d",
       "version_major": 2,
       "version_minor": 0
      },
      "text/plain": [
       "Processing ESP:   0%|          | 0/55 [00:00<?, ?it/s]"
      ]
     },
     "metadata": {},
     "output_type": "display_data"
    },
    {
     "name": "stdout",
     "output_type": "stream",
     "text": [
      "Processing EST\n"
     ]
    },
    {
     "data": {
      "application/vnd.jupyter.widget-view+json": {
       "model_id": "59104a9e4c0247678c9e5c275021213a",
       "version_major": 2,
       "version_minor": 0
      },
      "text/plain": [
       "Processing EST:   0%|          | 0/228 [00:00<?, ?it/s]"
      ]
     },
     "metadata": {},
     "output_type": "display_data"
    },
    {
     "name": "stdout",
     "output_type": "stream",
     "text": [
      "Processing ETH\n"
     ]
    },
    {
     "data": {
      "application/vnd.jupyter.widget-view+json": {
       "model_id": "525be4b4b89a48faa2369a5b89310ff4",
       "version_major": 2,
       "version_minor": 0
      },
      "text/plain": [
       "Processing ETH:   0%|          | 0/92 [00:00<?, ?it/s]"
      ]
     },
     "metadata": {},
     "output_type": "display_data"
    },
    {
     "name": "stdout",
     "output_type": "stream",
     "text": [
      "Processing FIN\n"
     ]
    },
    {
     "data": {
      "application/vnd.jupyter.widget-view+json": {
       "model_id": "7afc6b568ef444a6953dc0851d4bb38d",
       "version_major": 2,
       "version_minor": 0
      },
      "text/plain": [
       "Processing FIN:   0%|          | 0/20 [00:00<?, ?it/s]"
      ]
     },
     "metadata": {},
     "output_type": "display_data"
    },
    {
     "name": "stdout",
     "output_type": "stream",
     "text": [
      "Processing FJI\n",
      "Processing FRA\n"
     ]
    },
    {
     "data": {
      "application/vnd.jupyter.widget-view+json": {
       "model_id": "d726bba4f2fc4aafbc6a425d705aed3c",
       "version_major": 2,
       "version_minor": 0
      },
      "text/plain": [
       "Processing FRA:   0%|          | 0/107 [00:00<?, ?it/s]"
      ]
     },
     "metadata": {},
     "output_type": "display_data"
    },
    {
     "name": "stdout",
     "output_type": "stream",
     "text": [
      "Processing FRO\n"
     ]
    },
    {
     "data": {
      "application/vnd.jupyter.widget-view+json": {
       "model_id": "9307ebe77bad4a8eae0dae9553c1392a",
       "version_major": 2,
       "version_minor": 0
      },
      "text/plain": [
       "Processing FRO:   0%|          | 0/1 [00:00<?, ?it/s]"
      ]
     },
     "metadata": {},
     "output_type": "display_data"
    },
    {
     "name": "stdout",
     "output_type": "stream",
     "text": [
      "Processing FSM\n"
     ]
    },
    {
     "data": {
      "application/vnd.jupyter.widget-view+json": {
       "model_id": "7add21c614f34c87884478a8a9945837",
       "version_major": 2,
       "version_minor": 0
      },
      "text/plain": [
       "Processing FSM:   0%|          | 0/1 [00:00<?, ?it/s]"
      ]
     },
     "metadata": {},
     "output_type": "display_data"
    },
    {
     "name": "stdout",
     "output_type": "stream",
     "text": [
      "Processing GAB\n"
     ]
    },
    {
     "data": {
      "application/vnd.jupyter.widget-view+json": {
       "model_id": "a6413757cb46431abe094dcc54988637",
       "version_major": 2,
       "version_minor": 0
      },
      "text/plain": [
       "Processing GAB:   0%|          | 0/48 [00:00<?, ?it/s]"
      ]
     },
     "metadata": {},
     "output_type": "display_data"
    },
    {
     "name": "stdout",
     "output_type": "stream",
     "text": [
      "Processing GBR\n"
     ]
    },
    {
     "data": {
      "application/vnd.jupyter.widget-view+json": {
       "model_id": "0551b054d98f45a89b1802de437cada0",
       "version_major": 2,
       "version_minor": 0
      },
      "text/plain": [
       "Processing GBR:   0%|          | 0/95 [00:00<?, ?it/s]"
      ]
     },
     "metadata": {},
     "output_type": "display_data"
    },
    {
     "name": "stdout",
     "output_type": "stream",
     "text": [
      "Processing GEO\n"
     ]
    },
    {
     "data": {
      "application/vnd.jupyter.widget-view+json": {
       "model_id": "f0800a70e4634033b3b9e6a8ca4ae59e",
       "version_major": 2,
       "version_minor": 0
      },
      "text/plain": [
       "Processing GEO:   0%|          | 0/74 [00:00<?, ?it/s]"
      ]
     },
     "metadata": {},
     "output_type": "display_data"
    },
    {
     "name": "stdout",
     "output_type": "stream",
     "text": [
      "Processing GGY\n"
     ]
    },
    {
     "data": {
      "application/vnd.jupyter.widget-view+json": {
       "model_id": "5908987a891a4eb99998e0a3b55729be",
       "version_major": 2,
       "version_minor": 0
      },
      "text/plain": [
       "Processing GGY:   0%|          | 0/17 [00:00<?, ?it/s]"
      ]
     },
     "metadata": {},
     "output_type": "display_data"
    },
    {
     "name": "stdout",
     "output_type": "stream",
     "text": [
      "Processing GHA\n"
     ]
    },
    {
     "data": {
      "application/vnd.jupyter.widget-view+json": {
       "model_id": "2113e2139d024a58967ea8bf1e843a58",
       "version_major": 2,
       "version_minor": 0
      },
      "text/plain": [
       "Processing GHA:   0%|          | 0/260 [00:00<?, ?it/s]"
      ]
     },
     "metadata": {},
     "output_type": "display_data"
    },
    {
     "name": "stdout",
     "output_type": "stream",
     "text": [
      "Processing GIN\n"
     ]
    },
    {
     "data": {
      "application/vnd.jupyter.widget-view+json": {
       "model_id": "bdc1e5679db34d7ca5fb2131e63aa088",
       "version_major": 2,
       "version_minor": 0
      },
      "text/plain": [
       "Processing GIN:   0%|          | 0/38 [00:00<?, ?it/s]"
      ]
     },
     "metadata": {},
     "output_type": "display_data"
    },
    {
     "name": "stdout",
     "output_type": "stream",
     "text": [
      "Processing GMB\n"
     ]
    },
    {
     "data": {
      "application/vnd.jupyter.widget-view+json": {
       "model_id": "1590fbe808ef49cbaa8874a3aa559b5c",
       "version_major": 2,
       "version_minor": 0
      },
      "text/plain": [
       "Processing GMB:   0%|          | 0/49 [00:00<?, ?it/s]"
      ]
     },
     "metadata": {},
     "output_type": "display_data"
    },
    {
     "name": "stdout",
     "output_type": "stream",
     "text": [
      "Processing GNB\n"
     ]
    },
    {
     "data": {
      "application/vnd.jupyter.widget-view+json": {
       "model_id": "585d714effff462599c47689e71908b7",
       "version_major": 2,
       "version_minor": 0
      },
      "text/plain": [
       "Processing GNB:   0%|          | 0/39 [00:00<?, ?it/s]"
      ]
     },
     "metadata": {},
     "output_type": "display_data"
    },
    {
     "name": "stdout",
     "output_type": "stream",
     "text": [
      "Processing GNQ\n"
     ]
    },
    {
     "data": {
      "application/vnd.jupyter.widget-view+json": {
       "model_id": "9a4294dc156645a0930643454d96abbc",
       "version_major": 2,
       "version_minor": 0
      },
      "text/plain": [
       "Processing GNQ:   0%|          | 0/7 [00:00<?, ?it/s]"
      ]
     },
     "metadata": {},
     "output_type": "display_data"
    },
    {
     "name": "stdout",
     "output_type": "stream",
     "text": [
      "Processing GRC\n"
     ]
    },
    {
     "data": {
      "application/vnd.jupyter.widget-view+json": {
       "model_id": "7572326dceeb4f0bae40ae261af7ff11",
       "version_major": 2,
       "version_minor": 0
      },
      "text/plain": [
       "Processing GRC:   0%|          | 0/56 [00:00<?, ?it/s]"
      ]
     },
     "metadata": {},
     "output_type": "display_data"
    },
    {
     "name": "stdout",
     "output_type": "stream",
     "text": [
      "Processing GRD\n"
     ]
    },
    {
     "data": {
      "application/vnd.jupyter.widget-view+json": {
       "model_id": "5a92cea1248546d081f8dee27887171b",
       "version_major": 2,
       "version_minor": 0
      },
      "text/plain": [
       "Processing GRD:   0%|          | 0/7 [00:00<?, ?it/s]"
      ]
     },
     "metadata": {},
     "output_type": "display_data"
    },
    {
     "name": "stdout",
     "output_type": "stream",
     "text": [
      "Processing GRL\n"
     ]
    },
    {
     "data": {
      "application/vnd.jupyter.widget-view+json": {
       "model_id": "c2cfb2f8aea0494492ea3af4da82a6ed",
       "version_major": 2,
       "version_minor": 0
      },
      "text/plain": [
       "Processing GRL:   0%|          | 0/3 [00:00<?, ?it/s]"
      ]
     },
     "metadata": {},
     "output_type": "display_data"
    },
    {
     "name": "stdout",
     "output_type": "stream",
     "text": [
      "Processing GTM\n"
     ]
    },
    {
     "data": {
      "application/vnd.jupyter.widget-view+json": {
       "model_id": "1bfe4c9387c04a7c9df38c0bb51e0ceb",
       "version_major": 2,
       "version_minor": 0
      },
      "text/plain": [
       "Processing GTM:   0%|          | 0/336 [00:00<?, ?it/s]"
      ]
     },
     "metadata": {},
     "output_type": "display_data"
    },
    {
     "name": "stdout",
     "output_type": "stream",
     "text": [
      "Processing GUM\n"
     ]
    },
    {
     "data": {
      "application/vnd.jupyter.widget-view+json": {
       "model_id": "4799a940510945978d9a54d18485e2fb",
       "version_major": 2,
       "version_minor": 0
      },
      "text/plain": [
       "Processing GUM:   0%|          | 0/1 [00:00<?, ?it/s]"
      ]
     },
     "metadata": {},
     "output_type": "display_data"
    },
    {
     "name": "stdout",
     "output_type": "stream",
     "text": [
      "Processing GUY\n"
     ]
    },
    {
     "data": {
      "application/vnd.jupyter.widget-view+json": {
       "model_id": "29b8d98a9048418bb439134146801d23",
       "version_major": 2,
       "version_minor": 0
      },
      "text/plain": [
       "Processing GUY:   0%|          | 0/26 [00:00<?, ?it/s]"
      ]
     },
     "metadata": {},
     "output_type": "display_data"
    },
    {
     "name": "stdout",
     "output_type": "stream",
     "text": [
      "Processing HKG\n"
     ]
    },
    {
     "data": {
      "application/vnd.jupyter.widget-view+json": {
       "model_id": "ab6e4b0a1a04484f974a235114ae4ef6",
       "version_major": 2,
       "version_minor": 0
      },
      "text/plain": [
       "Processing HKG:   0%|          | 0/1 [00:00<?, ?it/s]"
      ]
     },
     "metadata": {},
     "output_type": "display_data"
    },
    {
     "name": "stdout",
     "output_type": "stream",
     "text": [
      "Processing HMD\n"
     ]
    },
    {
     "data": {
      "application/vnd.jupyter.widget-view+json": {
       "model_id": "31f775fe64d44dd48e0ed1e9ebc6b3b6",
       "version_major": 2,
       "version_minor": 0
      },
      "text/plain": [
       "Processing HMD:   0%|          | 0/1 [00:00<?, ?it/s]"
      ]
     },
     "metadata": {},
     "output_type": "display_data"
    },
    {
     "name": "stdout",
     "output_type": "stream",
     "text": [
      "Processing HND\n"
     ]
    },
    {
     "data": {
      "application/vnd.jupyter.widget-view+json": {
       "model_id": "48942774fd9e4cc1995f76728a26291f",
       "version_major": 2,
       "version_minor": 0
      },
      "text/plain": [
       "Processing HND:   0%|          | 0/291 [00:00<?, ?it/s]"
      ]
     },
     "metadata": {},
     "output_type": "display_data"
    },
    {
     "name": "stdout",
     "output_type": "stream",
     "text": [
      "Processing HRV\n"
     ]
    },
    {
     "data": {
      "application/vnd.jupyter.widget-view+json": {
       "model_id": "cf6ba67772a84409a25ea0b4c781a259",
       "version_major": 2,
       "version_minor": 0
      },
      "text/plain": [
       "Processing HRV:   0%|          | 0/21 [00:00<?, ?it/s]"
      ]
     },
     "metadata": {},
     "output_type": "display_data"
    },
    {
     "name": "stdout",
     "output_type": "stream",
     "text": [
      "Processing HUN\n"
     ]
    },
    {
     "data": {
      "application/vnd.jupyter.widget-view+json": {
       "model_id": "0e7068ba19eb4371b2a4efe8b6b5427e",
       "version_major": 2,
       "version_minor": 0
      },
      "text/plain": [
       "Processing HUN:   0%|          | 0/20 [00:00<?, ?it/s]"
      ]
     },
     "metadata": {},
     "output_type": "display_data"
    },
    {
     "name": "stdout",
     "output_type": "stream",
     "text": [
      "Processing IDN\n"
     ]
    },
    {
     "data": {
      "application/vnd.jupyter.widget-view+json": {
       "model_id": "a65bb428cca348cca0269747a9338659",
       "version_major": 2,
       "version_minor": 0
      },
      "text/plain": [
       "Processing IDN:   0%|          | 0/519 [00:00<?, ?it/s]"
      ]
     },
     "metadata": {},
     "output_type": "display_data"
    },
    {
     "name": "stdout",
     "output_type": "stream",
     "text": [
      "Processing IMY\n"
     ]
    },
    {
     "data": {
      "application/vnd.jupyter.widget-view+json": {
       "model_id": "833a2e0c231e466b93644f460156833f",
       "version_major": 2,
       "version_minor": 0
      },
      "text/plain": [
       "Processing IMY:   0%|          | 0/24 [00:00<?, ?it/s]"
      ]
     },
     "metadata": {},
     "output_type": "display_data"
    },
    {
     "name": "stdout",
     "output_type": "stream",
     "text": [
      "Processing IND\n"
     ]
    },
    {
     "data": {
      "application/vnd.jupyter.widget-view+json": {
       "model_id": "c5a00e722de144bcb6fbd5658a168247",
       "version_major": 2,
       "version_minor": 0
      },
      "text/plain": [
       "Processing IND:   0%|          | 0/683 [00:00<?, ?it/s]"
      ]
     },
     "metadata": {},
     "output_type": "display_data"
    },
    {
     "name": "stdout",
     "output_type": "stream",
     "text": [
      "Processing IRL\n"
     ]
    },
    {
     "data": {
      "application/vnd.jupyter.widget-view+json": {
       "model_id": "b3a4d6f6ebc547a3a89110ba694a2a5d",
       "version_major": 2,
       "version_minor": 0
      },
      "text/plain": [
       "Processing IRL:   0%|          | 0/26 [00:00<?, ?it/s]"
      ]
     },
     "metadata": {},
     "output_type": "display_data"
    },
    {
     "name": "stdout",
     "output_type": "stream",
     "text": [
      "Processing IRN\n"
     ]
    },
    {
     "data": {
      "application/vnd.jupyter.widget-view+json": {
       "model_id": "d881c736665e45db87c1871b55c8fc37",
       "version_major": 2,
       "version_minor": 0
      },
      "text/plain": [
       "Processing IRN:   0%|          | 0/280 [00:00<?, ?it/s]"
      ]
     },
     "metadata": {},
     "output_type": "display_data"
    },
    {
     "name": "stdout",
     "output_type": "stream",
     "text": [
      "Processing ISL\n"
     ]
    },
    {
     "data": {
      "application/vnd.jupyter.widget-view+json": {
       "model_id": "6ed6cd7444174f4a9b3981433fd9ff19",
       "version_major": 2,
       "version_minor": 0
      },
      "text/plain": [
       "Processing ISL:   0%|          | 0/23 [00:00<?, ?it/s]"
      ]
     },
     "metadata": {},
     "output_type": "display_data"
    },
    {
     "name": "stdout",
     "output_type": "stream",
     "text": [
      "Processing ISR\n"
     ]
    },
    {
     "data": {
      "application/vnd.jupyter.widget-view+json": {
       "model_id": "333dabc73984471988c12379cdc54cf2",
       "version_major": 2,
       "version_minor": 0
      },
      "text/plain": [
       "Processing ISR:   0%|          | 0/6 [00:00<?, ?it/s]"
      ]
     },
     "metadata": {},
     "output_type": "display_data"
    },
    {
     "name": "stdout",
     "output_type": "stream",
     "text": [
      "Processing ITA\n"
     ]
    },
    {
     "data": {
      "application/vnd.jupyter.widget-view+json": {
       "model_id": "25ee5d1320f642e0acffe5355d2fe17f",
       "version_major": 2,
       "version_minor": 0
      },
      "text/plain": [
       "Processing ITA:   0%|          | 0/103 [00:00<?, ?it/s]"
      ]
     },
     "metadata": {},
     "output_type": "display_data"
    },
    {
     "name": "stdout",
     "output_type": "stream",
     "text": [
      "Processing JAM\n"
     ]
    },
    {
     "data": {
      "application/vnd.jupyter.widget-view+json": {
       "model_id": "656057b7114247859aa2268767ff8e87",
       "version_major": 2,
       "version_minor": 0
      },
      "text/plain": [
       "Processing JAM:   0%|          | 0/14 [00:00<?, ?it/s]"
      ]
     },
     "metadata": {},
     "output_type": "display_data"
    },
    {
     "name": "stdout",
     "output_type": "stream",
     "text": [
      "Processing JEY\n"
     ]
    },
    {
     "data": {
      "application/vnd.jupyter.widget-view+json": {
       "model_id": "c593c3b5279541b3b771471d143cce91",
       "version_major": 2,
       "version_minor": 0
      },
      "text/plain": [
       "Processing JEY:   0%|          | 0/12 [00:00<?, ?it/s]"
      ]
     },
     "metadata": {},
     "output_type": "display_data"
    },
    {
     "name": "stdout",
     "output_type": "stream",
     "text": [
      "Processing JOR\n"
     ]
    },
    {
     "data": {
      "application/vnd.jupyter.widget-view+json": {
       "model_id": "ea5a9044faec4e17af8b38e407561c2d",
       "version_major": 2,
       "version_minor": 0
      },
      "text/plain": [
       "Processing JOR:   0%|          | 0/58 [00:00<?, ?it/s]"
      ]
     },
     "metadata": {},
     "output_type": "display_data"
    },
    {
     "name": "stdout",
     "output_type": "stream",
     "text": [
      "Processing JPN\n"
     ]
    },
    {
     "data": {
      "application/vnd.jupyter.widget-view+json": {
       "model_id": "39df53db0b964c2cbf1b8ed212bae901",
       "version_major": 2,
       "version_minor": 0
      },
      "text/plain": [
       "Processing JPN:   0%|          | 0/3346 [00:00<?, ?it/s]"
      ]
     },
     "metadata": {},
     "output_type": "display_data"
    },
    {
     "name": "stdout",
     "output_type": "stream",
     "text": [
      "Processing KAZ\n"
     ]
    },
    {
     "data": {
      "application/vnd.jupyter.widget-view+json": {
       "model_id": "2307c6c09b414fccb6621e038c8838d3",
       "version_major": 2,
       "version_minor": 0
      },
      "text/plain": [
       "Processing KAZ:   0%|          | 0/173 [00:00<?, ?it/s]"
      ]
     },
     "metadata": {},
     "output_type": "display_data"
    },
    {
     "name": "stdout",
     "output_type": "stream",
     "text": [
      "Processing KEN\n"
     ]
    },
    {
     "data": {
      "application/vnd.jupyter.widget-view+json": {
       "model_id": "51ee99cd7eee476e882e01fcfd236d3b",
       "version_major": 2,
       "version_minor": 0
      },
      "text/plain": [
       "Processing KEN:   0%|          | 0/290 [00:00<?, ?it/s]"
      ]
     },
     "metadata": {},
     "output_type": "display_data"
    },
    {
     "name": "stdout",
     "output_type": "stream",
     "text": [
      "Processing KGZ\n"
     ]
    },
    {
     "data": {
      "application/vnd.jupyter.widget-view+json": {
       "model_id": "2c6c8100c3f848eb88068798f424354c",
       "version_major": 2,
       "version_minor": 0
      },
      "text/plain": [
       "Processing KGZ:   0%|          | 0/40 [00:00<?, ?it/s]"
      ]
     },
     "metadata": {},
     "output_type": "display_data"
    },
    {
     "name": "stdout",
     "output_type": "stream",
     "text": [
      "Processing KHM\n"
     ]
    },
    {
     "data": {
      "application/vnd.jupyter.widget-view+json": {
       "model_id": "61370a6d3f6a460cb2e9ab36f5485d25",
       "version_major": 2,
       "version_minor": 0
      },
      "text/plain": [
       "Processing KHM:   0%|          | 0/198 [00:00<?, ?it/s]"
      ]
     },
     "metadata": {},
     "output_type": "display_data"
    },
    {
     "name": "stdout",
     "output_type": "stream",
     "text": [
      "Processing KIR\n"
     ]
    },
    {
     "data": {
      "application/vnd.jupyter.widget-view+json": {
       "model_id": "f9585630c0874661bb852c0250555e76",
       "version_major": 2,
       "version_minor": 0
      },
      "text/plain": [
       "Processing KIR:   0%|          | 0/1 [00:00<?, ?it/s]"
      ]
     },
     "metadata": {},
     "output_type": "display_data"
    },
    {
     "name": "stdout",
     "output_type": "stream",
     "text": [
      "Processing KNA\n"
     ]
    },
    {
     "data": {
      "application/vnd.jupyter.widget-view+json": {
       "model_id": "5d5d7231aa3c4ac2ab4446d675e9422b",
       "version_major": 2,
       "version_minor": 0
      },
      "text/plain": [
       "Processing KNA:   0%|          | 0/14 [00:00<?, ?it/s]"
      ]
     },
     "metadata": {},
     "output_type": "display_data"
    },
    {
     "name": "stdout",
     "output_type": "stream",
     "text": [
      "Processing KOR\n"
     ]
    },
    {
     "data": {
      "application/vnd.jupyter.widget-view+json": {
       "model_id": "e636a56798cc411abe003b33b70d0628",
       "version_major": 2,
       "version_minor": 0
      },
      "text/plain": [
       "Processing KOR:   0%|          | 0/15 [00:00<?, ?it/s]"
      ]
     },
     "metadata": {},
     "output_type": "display_data"
    },
    {
     "name": "stdout",
     "output_type": "stream",
     "text": [
      "Processing KWT\n"
     ]
    },
    {
     "data": {
      "application/vnd.jupyter.widget-view+json": {
       "model_id": "e549bc25c999436dac2077aed1d507bd",
       "version_major": 2,
       "version_minor": 0
      },
      "text/plain": [
       "Processing KWT:   0%|          | 0/5 [00:00<?, ?it/s]"
      ]
     },
     "metadata": {},
     "output_type": "display_data"
    },
    {
     "name": "stdout",
     "output_type": "stream",
     "text": [
      "Processing LAO\n"
     ]
    },
    {
     "data": {
      "application/vnd.jupyter.widget-view+json": {
       "model_id": "da15b8b427994b499a1cbd6b8fa4310c",
       "version_major": 2,
       "version_minor": 0
      },
      "text/plain": [
       "Processing LAO:   0%|          | 0/148 [00:00<?, ?it/s]"
      ]
     },
     "metadata": {},
     "output_type": "display_data"
    },
    {
     "name": "stdout",
     "output_type": "stream",
     "text": [
      "Processing LBN\n"
     ]
    },
    {
     "data": {
      "application/vnd.jupyter.widget-view+json": {
       "model_id": "6fcb1e2d401b4b2b9e459bf043f80e6b",
       "version_major": 2,
       "version_minor": 0
      },
      "text/plain": [
       "Processing LBN:   0%|          | 0/26 [00:00<?, ?it/s]"
      ]
     },
     "metadata": {},
     "output_type": "display_data"
    },
    {
     "name": "stdout",
     "output_type": "stream",
     "text": [
      "Processing LBR\n"
     ]
    },
    {
     "data": {
      "application/vnd.jupyter.widget-view+json": {
       "model_id": "cf4c189e1db9464dbc9c999da2fb2426",
       "version_major": 2,
       "version_minor": 0
      },
      "text/plain": [
       "Processing LBR:   0%|          | 0/136 [00:00<?, ?it/s]"
      ]
     },
     "metadata": {},
     "output_type": "display_data"
    },
    {
     "name": "stdout",
     "output_type": "stream",
     "text": [
      "Processing LBY\n"
     ]
    },
    {
     "data": {
      "application/vnd.jupyter.widget-view+json": {
       "model_id": "3ec2f12f319541898f6b0357d52b029c",
       "version_major": 2,
       "version_minor": 0
      },
      "text/plain": [
       "Processing LBY:   0%|          | 0/25 [00:00<?, ?it/s]"
      ]
     },
     "metadata": {},
     "output_type": "display_data"
    },
    {
     "name": "stdout",
     "output_type": "stream",
     "text": [
      "Processing LCA\n"
     ]
    },
    {
     "data": {
      "application/vnd.jupyter.widget-view+json": {
       "model_id": "7b586e4a24d24d8884e9beaab3fcecef",
       "version_major": 2,
       "version_minor": 0
      },
      "text/plain": [
       "Processing LCA:   0%|          | 0/9 [00:00<?, ?it/s]"
      ]
     },
     "metadata": {},
     "output_type": "display_data"
    },
    {
     "name": "stdout",
     "output_type": "stream",
     "text": [
      "Processing LIE\n"
     ]
    },
    {
     "data": {
      "application/vnd.jupyter.widget-view+json": {
       "model_id": "c19408b815784a108109096f8b2c82e1",
       "version_major": 2,
       "version_minor": 0
      },
      "text/plain": [
       "Processing LIE:   0%|          | 0/11 [00:00<?, ?it/s]"
      ]
     },
     "metadata": {},
     "output_type": "display_data"
    },
    {
     "name": "stdout",
     "output_type": "stream",
     "text": [
      "Processing LKA\n"
     ]
    },
    {
     "data": {
      "application/vnd.jupyter.widget-view+json": {
       "model_id": "4918cb8223044cb1bfd92a0a30124b3a",
       "version_major": 2,
       "version_minor": 0
      },
      "text/plain": [
       "Processing LKA:   0%|          | 0/25 [00:00<?, ?it/s]"
      ]
     },
     "metadata": {},
     "output_type": "display_data"
    },
    {
     "name": "stdout",
     "output_type": "stream",
     "text": [
      "Processing LSO\n"
     ]
    },
    {
     "data": {
      "application/vnd.jupyter.widget-view+json": {
       "model_id": "9731ff83758349ba82ba4032c3802c95",
       "version_major": 2,
       "version_minor": 0
      },
      "text/plain": [
       "Processing LSO:   0%|          | 0/10 [00:00<?, ?it/s]"
      ]
     },
     "metadata": {},
     "output_type": "display_data"
    },
    {
     "name": "stdout",
     "output_type": "stream",
     "text": [
      "Processing LTU\n"
     ]
    },
    {
     "data": {
      "application/vnd.jupyter.widget-view+json": {
       "model_id": "f4cb5315889b4353bea673fa2ceaf840",
       "version_major": 2,
       "version_minor": 0
      },
      "text/plain": [
       "Processing LTU:   0%|          | 0/55 [00:00<?, ?it/s]"
      ]
     },
     "metadata": {},
     "output_type": "display_data"
    },
    {
     "name": "stdout",
     "output_type": "stream",
     "text": [
      "Processing LUX\n"
     ]
    },
    {
     "data": {
      "application/vnd.jupyter.widget-view+json": {
       "model_id": "06d6bdcbf4184d2bbb8d906841df22ab",
       "version_major": 2,
       "version_minor": 0
      },
      "text/plain": [
       "Processing LUX:   0%|          | 0/12 [00:00<?, ?it/s]"
      ]
     },
     "metadata": {},
     "output_type": "display_data"
    },
    {
     "name": "stdout",
     "output_type": "stream",
     "text": [
      "Processing LVA\n"
     ]
    },
    {
     "data": {
      "application/vnd.jupyter.widget-view+json": {
       "model_id": "cbf38fe706974e3e827f98df42187ec3",
       "version_major": 2,
       "version_minor": 0
      },
      "text/plain": [
       "Processing LVA:   0%|          | 0/587 [00:00<?, ?it/s]"
      ]
     },
     "metadata": {},
     "output_type": "display_data"
    },
    {
     "name": "stdout",
     "output_type": "stream",
     "text": [
      "Processing MAC\n"
     ]
    },
    {
     "data": {
      "application/vnd.jupyter.widget-view+json": {
       "model_id": "273bf208acff4fe98476d03fa44cbfce",
       "version_major": 2,
       "version_minor": 0
      },
      "text/plain": [
       "Processing MAC:   0%|          | 0/1 [00:00<?, ?it/s]"
      ]
     },
     "metadata": {},
     "output_type": "display_data"
    },
    {
     "name": "stdout",
     "output_type": "stream",
     "text": [
      "Processing MAF\n"
     ]
    },
    {
     "data": {
      "application/vnd.jupyter.widget-view+json": {
       "model_id": "356701ecbc9a4eacbc7d3a8145367dcc",
       "version_major": 2,
       "version_minor": 0
      },
      "text/plain": [
       "Processing MAF:   0%|          | 0/1 [00:00<?, ?it/s]"
      ]
     },
     "metadata": {},
     "output_type": "display_data"
    },
    {
     "name": "stdout",
     "output_type": "stream",
     "text": [
      "Processing MAR\n"
     ]
    },
    {
     "data": {
      "application/vnd.jupyter.widget-view+json": {
       "model_id": "a6ae2cc581f44a04bb73f64f7701ebab",
       "version_major": 2,
       "version_minor": 0
      },
      "text/plain": [
       "Processing MAR:   0%|          | 0/71 [00:00<?, ?it/s]"
      ]
     },
     "metadata": {},
     "output_type": "display_data"
    },
    {
     "name": "stdout",
     "output_type": "stream",
     "text": [
      "Processing MCO\n"
     ]
    },
    {
     "data": {
      "application/vnd.jupyter.widget-view+json": {
       "model_id": "763fd9161dcc44d0bd4418c208efceea",
       "version_major": 2,
       "version_minor": 0
      },
      "text/plain": [
       "Processing MCO:   0%|          | 0/1 [00:00<?, ?it/s]"
      ]
     },
     "metadata": {},
     "output_type": "display_data"
    },
    {
     "name": "stdout",
     "output_type": "stream",
     "text": [
      "Processing MDA\n"
     ]
    },
    {
     "data": {
      "application/vnd.jupyter.widget-view+json": {
       "model_id": "0b6c1bdd17ea45dd99e40a45d9227b80",
       "version_major": 2,
       "version_minor": 0
      },
      "text/plain": [
       "Processing MDA:   0%|          | 0/37 [00:00<?, ?it/s]"
      ]
     },
     "metadata": {},
     "output_type": "display_data"
    },
    {
     "name": "stdout",
     "output_type": "stream",
     "text": [
      "Processing MDG\n"
     ]
    },
    {
     "data": {
      "application/vnd.jupyter.widget-view+json": {
       "model_id": "8ea13208bd4f4c07840fb17890f0e81d",
       "version_major": 2,
       "version_minor": 0
      },
      "text/plain": [
       "Processing MDG:   0%|          | 0/24 [00:00<?, ?it/s]"
      ]
     },
     "metadata": {},
     "output_type": "display_data"
    },
    {
     "name": "stdout",
     "output_type": "stream",
     "text": [
      "Processing MDV\n"
     ]
    },
    {
     "data": {
      "application/vnd.jupyter.widget-view+json": {
       "model_id": "b149003cd477422b9e2590df199be3e3",
       "version_major": 2,
       "version_minor": 0
      },
      "text/plain": [
       "Processing MDV:   0%|          | 0/20 [00:00<?, ?it/s]"
      ]
     },
     "metadata": {},
     "output_type": "display_data"
    },
    {
     "name": "stdout",
     "output_type": "stream",
     "text": [
      "Processing MEX\n"
     ]
    },
    {
     "data": {
      "application/vnd.jupyter.widget-view+json": {
       "model_id": "edadfa7d15744ec7a18422b83b5f03a4",
       "version_major": 2,
       "version_minor": 0
      },
      "text/plain": [
       "Processing MEX:   0%|          | 0/2463 [00:00<?, ?it/s]"
      ]
     },
     "metadata": {},
     "output_type": "display_data"
    },
    {
     "name": "stdout",
     "output_type": "stream",
     "text": [
      "Processing MHL\n"
     ]
    },
    {
     "data": {
      "application/vnd.jupyter.widget-view+json": {
       "model_id": "2889b9d33ad24ff79c6caae364810380",
       "version_major": 2,
       "version_minor": 0
      },
      "text/plain": [
       "Processing MHL:   0%|          | 0/1 [00:00<?, ?it/s]"
      ]
     },
     "metadata": {},
     "output_type": "display_data"
    },
    {
     "name": "stdout",
     "output_type": "stream",
     "text": [
      "Processing MKD\n"
     ]
    },
    {
     "data": {
      "application/vnd.jupyter.widget-view+json": {
       "model_id": "b239c06a3f4947639bf37a8552f2f397",
       "version_major": 2,
       "version_minor": 0
      },
      "text/plain": [
       "Processing MKD:   0%|          | 0/84 [00:00<?, ?it/s]"
      ]
     },
     "metadata": {},
     "output_type": "display_data"
    },
    {
     "name": "stdout",
     "output_type": "stream",
     "text": [
      "Processing MLI\n"
     ]
    },
    {
     "data": {
      "application/vnd.jupyter.widget-view+json": {
       "model_id": "37c3f570ca75435f8f2108af25320c07",
       "version_major": 2,
       "version_minor": 0
      },
      "text/plain": [
       "Processing MLI:   0%|          | 0/50 [00:00<?, ?it/s]"
      ]
     },
     "metadata": {},
     "output_type": "display_data"
    },
    {
     "name": "stdout",
     "output_type": "stream",
     "text": [
      "Processing MLT\n",
      "Processing MMR\n"
     ]
    },
    {
     "data": {
      "application/vnd.jupyter.widget-view+json": {
       "model_id": "ba9784ae9dc94670b0ec3b28254ea040",
       "version_major": 2,
       "version_minor": 0
      },
      "text/plain": [
       "Processing MMR:   0%|          | 0/70 [00:00<?, ?it/s]"
      ]
     },
     "metadata": {},
     "output_type": "display_data"
    },
    {
     "name": "stdout",
     "output_type": "stream",
     "text": [
      "Processing MNE\n"
     ]
    },
    {
     "data": {
      "application/vnd.jupyter.widget-view+json": {
       "model_id": "5908eb300a89436c9a263f516af9210d",
       "version_major": 2,
       "version_minor": 0
      },
      "text/plain": [
       "Processing MNE:   0%|          | 0/21 [00:00<?, ?it/s]"
      ]
     },
     "metadata": {},
     "output_type": "display_data"
    },
    {
     "name": "stdout",
     "output_type": "stream",
     "text": [
      "Processing MNG\n"
     ]
    },
    {
     "data": {
      "application/vnd.jupyter.widget-view+json": {
       "model_id": "2fb7d15cd18a43ef8c96cf156a8022be",
       "version_major": 2,
       "version_minor": 0
      },
      "text/plain": [
       "Processing MNG:   0%|          | 0/337 [00:00<?, ?it/s]"
      ]
     },
     "metadata": {},
     "output_type": "display_data"
    },
    {
     "name": "stdout",
     "output_type": "stream",
     "text": [
      "Processing MNP\n"
     ]
    },
    {
     "data": {
      "application/vnd.jupyter.widget-view+json": {
       "model_id": "024dacaeea4843aeb3ec5e38ca6b9e53",
       "version_major": 2,
       "version_minor": 0
      },
      "text/plain": [
       "Processing MNP:   0%|          | 0/1 [00:00<?, ?it/s]"
      ]
     },
     "metadata": {},
     "output_type": "display_data"
    },
    {
     "name": "stdout",
     "output_type": "stream",
     "text": [
      "Processing MOZ\n"
     ]
    },
    {
     "data": {
      "application/vnd.jupyter.widget-view+json": {
       "model_id": "84fde1c898c24e20bdbbc280c951e517",
       "version_major": 2,
       "version_minor": 0
      },
      "text/plain": [
       "Processing MOZ:   0%|          | 0/156 [00:00<?, ?it/s]"
      ]
     },
     "metadata": {},
     "output_type": "display_data"
    },
    {
     "name": "stdout",
     "output_type": "stream",
     "text": [
      "Processing MRT\n"
     ]
    },
    {
     "data": {
      "application/vnd.jupyter.widget-view+json": {
       "model_id": "d3c3a493730a423faf767ed75ce77ea9",
       "version_major": 2,
       "version_minor": 0
      },
      "text/plain": [
       "Processing MRT:   0%|          | 0/63 [00:00<?, ?it/s]"
      ]
     },
     "metadata": {},
     "output_type": "display_data"
    },
    {
     "name": "stdout",
     "output_type": "stream",
     "text": [
      "Processing MSR\n"
     ]
    },
    {
     "data": {
      "application/vnd.jupyter.widget-view+json": {
       "model_id": "1007dc45e99f45709eeb7362d3f1e1ea",
       "version_major": 2,
       "version_minor": 0
      },
      "text/plain": [
       "Processing MSR:   0%|          | 0/7 [00:00<?, ?it/s]"
      ]
     },
     "metadata": {},
     "output_type": "display_data"
    },
    {
     "name": "stdout",
     "output_type": "stream",
     "text": [
      "Processing MUS\n"
     ]
    },
    {
     "data": {
      "application/vnd.jupyter.widget-view+json": {
       "model_id": "ac7f3b8d82374da7be0dd88449452e3c",
       "version_major": 2,
       "version_minor": 0
      },
      "text/plain": [
       "Processing MUS:   0%|          | 0/10 [00:00<?, ?it/s]"
      ]
     },
     "metadata": {},
     "output_type": "display_data"
    },
    {
     "name": "stdout",
     "output_type": "stream",
     "text": [
      "Processing MWI\n"
     ]
    },
    {
     "data": {
      "application/vnd.jupyter.widget-view+json": {
       "model_id": "c94545791a444d149fa0715aab9ee71b",
       "version_major": 2,
       "version_minor": 0
      },
      "text/plain": [
       "Processing MWI:   0%|          | 0/29 [00:00<?, ?it/s]"
      ]
     },
     "metadata": {},
     "output_type": "display_data"
    },
    {
     "name": "stdout",
     "output_type": "stream",
     "text": [
      "Processing MYS\n"
     ]
    },
    {
     "data": {
      "application/vnd.jupyter.widget-view+json": {
       "model_id": "ad736fc0136444f2b50724fbe0d02916",
       "version_major": 2,
       "version_minor": 0
      },
      "text/plain": [
       "Processing MYS:   0%|          | 0/133 [00:00<?, ?it/s]"
      ]
     },
     "metadata": {},
     "output_type": "display_data"
    },
    {
     "name": "stdout",
     "output_type": "stream",
     "text": [
      "Processing NAM\n"
     ]
    },
    {
     "data": {
      "application/vnd.jupyter.widget-view+json": {
       "model_id": "0ddbc553a99847f8a16022d7895ab136",
       "version_major": 2,
       "version_minor": 0
      },
      "text/plain": [
       "Processing NAM:   0%|          | 0/107 [00:00<?, ?it/s]"
      ]
     },
     "metadata": {},
     "output_type": "display_data"
    },
    {
     "name": "stdout",
     "output_type": "stream",
     "text": [
      "Processing NCL\n"
     ]
    },
    {
     "data": {
      "application/vnd.jupyter.widget-view+json": {
       "model_id": "136417817505457d892a490f907b625f",
       "version_major": 2,
       "version_minor": 0
      },
      "text/plain": [
       "Processing NCL:   0%|          | 0/1 [00:00<?, ?it/s]"
      ]
     },
     "metadata": {},
     "output_type": "display_data"
    },
    {
     "name": "stdout",
     "output_type": "stream",
     "text": [
      "Processing NER\n"
     ]
    },
    {
     "data": {
      "application/vnd.jupyter.widget-view+json": {
       "model_id": "6cf4fbca38fb432a83755e896764628b",
       "version_major": 2,
       "version_minor": 0
      },
      "text/plain": [
       "Processing NER:   0%|          | 0/64 [00:00<?, ?it/s]"
      ]
     },
     "metadata": {},
     "output_type": "display_data"
    },
    {
     "name": "stdout",
     "output_type": "stream",
     "text": [
      "Processing NFK\n"
     ]
    },
    {
     "data": {
      "application/vnd.jupyter.widget-view+json": {
       "model_id": "dcd901ca4a634b5a92c3a0b16b372a41",
       "version_major": 2,
       "version_minor": 0
      },
      "text/plain": [
       "Processing NFK:   0%|          | 0/1 [00:00<?, ?it/s]"
      ]
     },
     "metadata": {},
     "output_type": "display_data"
    },
    {
     "name": "stdout",
     "output_type": "stream",
     "text": [
      "Processing NGA\n"
     ]
    },
    {
     "data": {
      "application/vnd.jupyter.widget-view+json": {
       "model_id": "56516c4da68345c4bd21eb1e49f88c5f",
       "version_major": 2,
       "version_minor": 0
      },
      "text/plain": [
       "Processing NGA:   0%|          | 0/774 [00:00<?, ?it/s]"
      ]
     },
     "metadata": {},
     "output_type": "display_data"
    },
    {
     "name": "stdout",
     "output_type": "stream",
     "text": [
      "Processing NIC\n"
     ]
    },
    {
     "data": {
      "application/vnd.jupyter.widget-view+json": {
       "model_id": "bc07018582a74a33b92f168438d42c13",
       "version_major": 2,
       "version_minor": 0
      },
      "text/plain": [
       "Processing NIC:   0%|          | 0/153 [00:00<?, ?it/s]"
      ]
     },
     "metadata": {},
     "output_type": "display_data"
    },
    {
     "name": "stdout",
     "output_type": "stream",
     "text": [
      "Processing NIU\n"
     ]
    },
    {
     "data": {
      "application/vnd.jupyter.widget-view+json": {
       "model_id": "2b846c46ac634eb78ba55efae400fbd5",
       "version_major": 2,
       "version_minor": 0
      },
      "text/plain": [
       "Processing NIU:   0%|          | 0/1 [00:00<?, ?it/s]"
      ]
     },
     "metadata": {},
     "output_type": "display_data"
    },
    {
     "name": "stdout",
     "output_type": "stream",
     "text": [
      "Processing NLD\n"
     ]
    },
    {
     "data": {
      "application/vnd.jupyter.widget-view+json": {
       "model_id": "7012517682424b1fa97f95238e067293",
       "version_major": 2,
       "version_minor": 0
      },
      "text/plain": [
       "Processing NLD:   0%|          | 0/12 [00:00<?, ?it/s]"
      ]
     },
     "metadata": {},
     "output_type": "display_data"
    },
    {
     "name": "stdout",
     "output_type": "stream",
     "text": [
      "Processing NOR\n"
     ]
    },
    {
     "data": {
      "application/vnd.jupyter.widget-view+json": {
       "model_id": "76129d2f897e4953812c2df23a7704d7",
       "version_major": 2,
       "version_minor": 0
      },
      "text/plain": [
       "Processing NOR:   0%|          | 0/435 [00:00<?, ?it/s]"
      ]
     },
     "metadata": {},
     "output_type": "display_data"
    },
    {
     "name": "stdout",
     "output_type": "stream",
     "text": [
      "Processing NPL\n"
     ]
    },
    {
     "data": {
      "application/vnd.jupyter.widget-view+json": {
       "model_id": "a47e5f8671c44acab0c0fbefbb156dbf",
       "version_major": 2,
       "version_minor": 0
      },
      "text/plain": [
       "Processing NPL:   0%|          | 0/77 [00:00<?, ?it/s]"
      ]
     },
     "metadata": {},
     "output_type": "display_data"
    },
    {
     "name": "stdout",
     "output_type": "stream",
     "text": [
      "Processing NRU\n"
     ]
    },
    {
     "data": {
      "application/vnd.jupyter.widget-view+json": {
       "model_id": "bcc5ad53a1e6458d8b69b211374b788a",
       "version_major": 2,
       "version_minor": 0
      },
      "text/plain": [
       "Processing NRU:   0%|          | 0/1 [00:00<?, ?it/s]"
      ]
     },
     "metadata": {},
     "output_type": "display_data"
    },
    {
     "name": "stdout",
     "output_type": "stream",
     "text": [
      "Processing NZL\n"
     ]
    },
    {
     "data": {
      "application/vnd.jupyter.widget-view+json": {
       "model_id": "1eff5d8c13be4a9e911ce80801223f5d",
       "version_major": 2,
       "version_minor": 0
      },
      "text/plain": [
       "Processing NZL:   0%|          | 0/77 [00:00<?, ?it/s]"
      ]
     },
     "metadata": {},
     "output_type": "display_data"
    },
    {
     "name": "stdout",
     "output_type": "stream",
     "text": [
      "Processing OMN\n"
     ]
    },
    {
     "data": {
      "application/vnd.jupyter.widget-view+json": {
       "model_id": "63be3a6fd2024905a7325e839a43e3a0",
       "version_major": 2,
       "version_minor": 0
      },
      "text/plain": [
       "Processing OMN:   0%|          | 0/50 [00:00<?, ?it/s]"
      ]
     },
     "metadata": {},
     "output_type": "display_data"
    },
    {
     "name": "stdout",
     "output_type": "stream",
     "text": [
      "Processing PAK\n"
     ]
    },
    {
     "data": {
      "application/vnd.jupyter.widget-view+json": {
       "model_id": "64b5cfdb373c4d229d7c25b71b261bd4",
       "version_major": 2,
       "version_minor": 0
      },
      "text/plain": [
       "Processing PAK:   0%|          | 0/138 [00:00<?, ?it/s]"
      ]
     },
     "metadata": {},
     "output_type": "display_data"
    },
    {
     "name": "stdout",
     "output_type": "stream",
     "text": [
      "Processing PAN\n"
     ]
    },
    {
     "data": {
      "application/vnd.jupyter.widget-view+json": {
       "model_id": "4b1f6df5cd16473f80b1cce7a05ddf20",
       "version_major": 2,
       "version_minor": 0
      },
      "text/plain": [
       "Processing PAN:   0%|          | 0/76 [00:00<?, ?it/s]"
      ]
     },
     "metadata": {},
     "output_type": "display_data"
    },
    {
     "name": "stdout",
     "output_type": "stream",
     "text": [
      "Processing PCN\n"
     ]
    },
    {
     "data": {
      "application/vnd.jupyter.widget-view+json": {
       "model_id": "b3810d9a6a3940669bcadfd34686f822",
       "version_major": 2,
       "version_minor": 0
      },
      "text/plain": [
       "Processing PCN:   0%|          | 0/1 [00:00<?, ?it/s]"
      ]
     },
     "metadata": {},
     "output_type": "display_data"
    },
    {
     "name": "stdout",
     "output_type": "stream",
     "text": [
      "Processing PER\n"
     ]
    },
    {
     "data": {
      "application/vnd.jupyter.widget-view+json": {
       "model_id": "b400e207a2ac426caccaa6e01f596587",
       "version_major": 2,
       "version_minor": 0
      },
      "text/plain": [
       "Processing PER:   0%|          | 0/195 [00:00<?, ?it/s]"
      ]
     },
     "metadata": {},
     "output_type": "display_data"
    },
    {
     "name": "stdout",
     "output_type": "stream",
     "text": [
      "Processing PHL\n"
     ]
    },
    {
     "data": {
      "application/vnd.jupyter.widget-view+json": {
       "model_id": "6254bb4a2d954ad7b1684f117f096572",
       "version_major": 2,
       "version_minor": 0
      },
      "text/plain": [
       "Processing PHL:   0%|          | 0/85 [00:00<?, ?it/s]"
      ]
     },
     "metadata": {},
     "output_type": "display_data"
    },
    {
     "name": "stdout",
     "output_type": "stream",
     "text": [
      "Processing PLW\n"
     ]
    },
    {
     "data": {
      "application/vnd.jupyter.widget-view+json": {
       "model_id": "3ea4fc43ab5743d8a35283212effb5bf",
       "version_major": 2,
       "version_minor": 0
      },
      "text/plain": [
       "Processing PLW:   0%|          | 0/1 [00:00<?, ?it/s]"
      ]
     },
     "metadata": {},
     "output_type": "display_data"
    },
    {
     "name": "stdout",
     "output_type": "stream",
     "text": [
      "Processing PNG\n"
     ]
    },
    {
     "data": {
      "application/vnd.jupyter.widget-view+json": {
       "model_id": "51c095da49b54a2ba469af255d069aba",
       "version_major": 2,
       "version_minor": 0
      },
      "text/plain": [
       "Processing PNG:   0%|          | 0/87 [00:00<?, ?it/s]"
      ]
     },
     "metadata": {},
     "output_type": "display_data"
    },
    {
     "name": "stdout",
     "output_type": "stream",
     "text": [
      "Processing POL\n"
     ]
    },
    {
     "data": {
      "application/vnd.jupyter.widget-view+json": {
       "model_id": "f21aa18b6a0b43dc891d5fddbf3ae63a",
       "version_major": 2,
       "version_minor": 0
      },
      "text/plain": [
       "Processing POL:   0%|          | 0/377 [00:00<?, ?it/s]"
      ]
     },
     "metadata": {},
     "output_type": "display_data"
    },
    {
     "name": "stdout",
     "output_type": "stream",
     "text": [
      "Processing PRI\n"
     ]
    },
    {
     "data": {
      "application/vnd.jupyter.widget-view+json": {
       "model_id": "94ebad2698af4420abea515bb905f97b",
       "version_major": 2,
       "version_minor": 0
      },
      "text/plain": [
       "Processing PRI:   0%|          | 0/78 [00:00<?, ?it/s]"
      ]
     },
     "metadata": {},
     "output_type": "display_data"
    },
    {
     "name": "stdout",
     "output_type": "stream",
     "text": [
      "Processing PRK\n"
     ]
    },
    {
     "data": {
      "application/vnd.jupyter.widget-view+json": {
       "model_id": "b00190fc779b427887a9adbe9c501e27",
       "version_major": 2,
       "version_minor": 0
      },
      "text/plain": [
       "Processing PRK:   0%|          | 0/183 [00:00<?, ?it/s]"
      ]
     },
     "metadata": {},
     "output_type": "display_data"
    },
    {
     "name": "stdout",
     "output_type": "stream",
     "text": [
      "Processing PRT\n"
     ]
    },
    {
     "data": {
      "application/vnd.jupyter.widget-view+json": {
       "model_id": "48bd6884503f46159abc4255c67378de",
       "version_major": 2,
       "version_minor": 0
      },
      "text/plain": [
       "Processing PRT:   0%|          | 0/308 [00:00<?, ?it/s]"
      ]
     },
     "metadata": {},
     "output_type": "display_data"
    },
    {
     "name": "stdout",
     "output_type": "stream",
     "text": [
      "Processing PRY\n"
     ]
    },
    {
     "data": {
      "application/vnd.jupyter.widget-view+json": {
       "model_id": "9b0f8bc9e83b4c2f9050da6bdb900b1a",
       "version_major": 2,
       "version_minor": 0
      },
      "text/plain": [
       "Processing PRY:   0%|          | 0/219 [00:00<?, ?it/s]"
      ]
     },
     "metadata": {},
     "output_type": "display_data"
    },
    {
     "name": "stdout",
     "output_type": "stream",
     "text": [
      "Processing PYF\n"
     ]
    },
    {
     "data": {
      "application/vnd.jupyter.widget-view+json": {
       "model_id": "bb82e3190367451eaf20a347e3d5153d",
       "version_major": 2,
       "version_minor": 0
      },
      "text/plain": [
       "Processing PYF:   0%|          | 0/1 [00:00<?, ?it/s]"
      ]
     },
     "metadata": {},
     "output_type": "display_data"
    },
    {
     "name": "stdout",
     "output_type": "stream",
     "text": [
      "Processing QAT\n"
     ]
    },
    {
     "data": {
      "application/vnd.jupyter.widget-view+json": {
       "model_id": "04c4050167d845deaaf639b86f06a2dd",
       "version_major": 2,
       "version_minor": 0
      },
      "text/plain": [
       "Processing QAT:   0%|          | 0/9 [00:00<?, ?it/s]"
      ]
     },
     "metadata": {},
     "output_type": "display_data"
    },
    {
     "name": "stdout",
     "output_type": "stream",
     "text": [
      "Processing ROM\n"
     ]
    },
    {
     "data": {
      "application/vnd.jupyter.widget-view+json": {
       "model_id": "cc432978fb294055aae5b4438139a89a",
       "version_major": 2,
       "version_minor": 0
      },
      "text/plain": [
       "Processing ROM:   0%|          | 0/42 [00:00<?, ?it/s]"
      ]
     },
     "metadata": {},
     "output_type": "display_data"
    },
    {
     "name": "stdout",
     "output_type": "stream",
     "text": [
      "Processing RUS\n",
      "Processing RWA\n"
     ]
    },
    {
     "data": {
      "application/vnd.jupyter.widget-view+json": {
       "model_id": "c93319ee76814f37bb45ea8ce47b68fb",
       "version_major": 2,
       "version_minor": 0
      },
      "text/plain": [
       "Processing RWA:   0%|          | 0/30 [00:00<?, ?it/s]"
      ]
     },
     "metadata": {},
     "output_type": "display_data"
    },
    {
     "name": "stdout",
     "output_type": "stream",
     "text": [
      "Processing SAU\n"
     ]
    },
    {
     "data": {
      "application/vnd.jupyter.widget-view+json": {
       "model_id": "4b124719e8514440be7013949f4745a2",
       "version_major": 2,
       "version_minor": 0
      },
      "text/plain": [
       "Processing SAU:   0%|          | 0/13 [00:00<?, ?it/s]"
      ]
     },
     "metadata": {},
     "output_type": "display_data"
    },
    {
     "name": "stdout",
     "output_type": "stream",
     "text": [
      "Processing SDN\n"
     ]
    },
    {
     "data": {
      "application/vnd.jupyter.widget-view+json": {
       "model_id": "e17e73e2a2494ff9b095ec72fdf74a59",
       "version_major": 2,
       "version_minor": 0
      },
      "text/plain": [
       "Processing SDN:   0%|          | 0/87 [00:00<?, ?it/s]"
      ]
     },
     "metadata": {},
     "output_type": "display_data"
    },
    {
     "name": "stdout",
     "output_type": "stream",
     "text": [
      "Processing SEN\n"
     ]
    },
    {
     "data": {
      "application/vnd.jupyter.widget-view+json": {
       "model_id": "3b19599b397146f9b47a4c4e40a9132c",
       "version_major": 2,
       "version_minor": 0
      },
      "text/plain": [
       "Processing SEN:   0%|          | 0/46 [00:00<?, ?it/s]"
      ]
     },
     "metadata": {},
     "output_type": "display_data"
    },
    {
     "name": "stdout",
     "output_type": "stream",
     "text": [
      "Processing SGP\n"
     ]
    },
    {
     "data": {
      "application/vnd.jupyter.widget-view+json": {
       "model_id": "c9fa64f21ff44bc7a5e25079dce283a8",
       "version_major": 2,
       "version_minor": 0
      },
      "text/plain": [
       "Processing SGP:   0%|          | 0/9 [00:00<?, ?it/s]"
      ]
     },
     "metadata": {},
     "output_type": "display_data"
    },
    {
     "name": "stdout",
     "output_type": "stream",
     "text": [
      "Processing SHN\n"
     ]
    },
    {
     "data": {
      "application/vnd.jupyter.widget-view+json": {
       "model_id": "a345cfcb1b074ffba39dadf13daf38fe",
       "version_major": 2,
       "version_minor": 0
      },
      "text/plain": [
       "Processing SHN:   0%|          | 0/6 [00:00<?, ?it/s]"
      ]
     },
     "metadata": {},
     "output_type": "display_data"
    },
    {
     "name": "stdout",
     "output_type": "stream",
     "text": [
      "Processing SJM\n"
     ]
    },
    {
     "data": {
      "application/vnd.jupyter.widget-view+json": {
       "model_id": "54451fdddd834da5b060b5dcc48a65cc",
       "version_major": 2,
       "version_minor": 0
      },
      "text/plain": [
       "Processing SJM:   0%|          | 0/1 [00:00<?, ?it/s]"
      ]
     },
     "metadata": {},
     "output_type": "display_data"
    },
    {
     "name": "stdout",
     "output_type": "stream",
     "text": [
      "Processing SLB\n"
     ]
    },
    {
     "data": {
      "application/vnd.jupyter.widget-view+json": {
       "model_id": "cfd47ee158364ab2aa52be600fdf0304",
       "version_major": 2,
       "version_minor": 0
      },
      "text/plain": [
       "Processing SLB:   0%|          | 0/1 [00:00<?, ?it/s]"
      ]
     },
     "metadata": {},
     "output_type": "display_data"
    },
    {
     "name": "stdout",
     "output_type": "stream",
     "text": [
      "Processing SLE\n"
     ]
    },
    {
     "data": {
      "application/vnd.jupyter.widget-view+json": {
       "model_id": "c2bd65fc15cb4bd6a981b9c701e0d0a2",
       "version_major": 2,
       "version_minor": 0
      },
      "text/plain": [
       "Processing SLE:   0%|          | 0/16 [00:00<?, ?it/s]"
      ]
     },
     "metadata": {},
     "output_type": "display_data"
    },
    {
     "name": "stdout",
     "output_type": "stream",
     "text": [
      "Processing SLV\n"
     ]
    },
    {
     "data": {
      "application/vnd.jupyter.widget-view+json": {
       "model_id": "c54bd632c79245978475dbe71ac2540d",
       "version_major": 2,
       "version_minor": 0
      },
      "text/plain": [
       "Processing SLV:   0%|          | 0/262 [00:00<?, ?it/s]"
      ]
     },
     "metadata": {},
     "output_type": "display_data"
    },
    {
     "name": "stdout",
     "output_type": "stream",
     "text": [
      "Processing SMR\n"
     ]
    },
    {
     "data": {
      "application/vnd.jupyter.widget-view+json": {
       "model_id": "7c1b1232f0ba49d2a635469196ab127c",
       "version_major": 2,
       "version_minor": 0
      },
      "text/plain": [
       "Processing SMR:   0%|          | 0/1 [00:00<?, ?it/s]"
      ]
     },
     "metadata": {},
     "output_type": "display_data"
    },
    {
     "name": "stdout",
     "output_type": "stream",
     "text": [
      "Processing SOM\n"
     ]
    },
    {
     "data": {
      "application/vnd.jupyter.widget-view+json": {
       "model_id": "66d3f6de685749dda813571bb80bfe20",
       "version_major": 2,
       "version_minor": 0
      },
      "text/plain": [
       "Processing SOM:   0%|          | 0/74 [00:00<?, ?it/s]"
      ]
     },
     "metadata": {},
     "output_type": "display_data"
    },
    {
     "name": "stdout",
     "output_type": "stream",
     "text": [
      "Processing SPM\n"
     ]
    },
    {
     "data": {
      "application/vnd.jupyter.widget-view+json": {
       "model_id": "1df6090fd8eb4802baecac71642b6dea",
       "version_major": 2,
       "version_minor": 0
      },
      "text/plain": [
       "Processing SPM:   0%|          | 0/2 [00:00<?, ?it/s]"
      ]
     },
     "metadata": {},
     "output_type": "display_data"
    },
    {
     "name": "stdout",
     "output_type": "stream",
     "text": [
      "Processing SRB\n"
     ]
    },
    {
     "data": {
      "application/vnd.jupyter.widget-view+json": {
       "model_id": "f9a4bf05481042fab121c5435495466d",
       "version_major": 2,
       "version_minor": 0
      },
      "text/plain": [
       "Processing SRB:   0%|          | 0/25 [00:00<?, ?it/s]"
      ]
     },
     "metadata": {},
     "output_type": "display_data"
    },
    {
     "name": "stdout",
     "output_type": "stream",
     "text": [
      "Processing SSD\n"
     ]
    },
    {
     "data": {
      "application/vnd.jupyter.widget-view+json": {
       "model_id": "720581cb2620413cab5e2551aecdb291",
       "version_major": 2,
       "version_minor": 0
      },
      "text/plain": [
       "Processing SSD:   0%|          | 0/78 [00:00<?, ?it/s]"
      ]
     },
     "metadata": {},
     "output_type": "display_data"
    },
    {
     "name": "stdout",
     "output_type": "stream",
     "text": [
      "Processing STP\n"
     ]
    },
    {
     "data": {
      "application/vnd.jupyter.widget-view+json": {
       "model_id": "69488152835048daabd04ef5791c83dd",
       "version_major": 2,
       "version_minor": 0
      },
      "text/plain": [
       "Processing STP:   0%|          | 0/2 [00:00<?, ?it/s]"
      ]
     },
     "metadata": {},
     "output_type": "display_data"
    },
    {
     "name": "stdout",
     "output_type": "stream",
     "text": [
      "Processing SUR\n"
     ]
    },
    {
     "data": {
      "application/vnd.jupyter.widget-view+json": {
       "model_id": "901275485b21408496bd0aabb250b06a",
       "version_major": 2,
       "version_minor": 0
      },
      "text/plain": [
       "Processing SUR:   0%|          | 0/62 [00:00<?, ?it/s]"
      ]
     },
     "metadata": {},
     "output_type": "display_data"
    },
    {
     "name": "stdout",
     "output_type": "stream",
     "text": [
      "Processing SVK\n"
     ]
    },
    {
     "data": {
      "application/vnd.jupyter.widget-view+json": {
       "model_id": "c09abde8c1a74a6fbc02646b13b3afc5",
       "version_major": 2,
       "version_minor": 0
      },
      "text/plain": [
       "Processing SVK:   0%|          | 0/79 [00:00<?, ?it/s]"
      ]
     },
     "metadata": {},
     "output_type": "display_data"
    },
    {
     "name": "stdout",
     "output_type": "stream",
     "text": [
      "Processing SVN\n"
     ]
    },
    {
     "data": {
      "application/vnd.jupyter.widget-view+json": {
       "model_id": "5d2ede70fcbf4d25900d1f70d7df1a31",
       "version_major": 2,
       "version_minor": 0
      },
      "text/plain": [
       "Processing SVN:   0%|          | 0/145 [00:00<?, ?it/s]"
      ]
     },
     "metadata": {},
     "output_type": "display_data"
    },
    {
     "name": "stdout",
     "output_type": "stream",
     "text": [
      "Processing SWE\n"
     ]
    },
    {
     "data": {
      "application/vnd.jupyter.widget-view+json": {
       "model_id": "b64e90e28b464595b8c13eb8da581031",
       "version_major": 2,
       "version_minor": 0
      },
      "text/plain": [
       "Processing SWE:   0%|          | 0/289 [00:00<?, ?it/s]"
      ]
     },
     "metadata": {},
     "output_type": "display_data"
    },
    {
     "name": "stdout",
     "output_type": "stream",
     "text": [
      "Processing SWZ\n"
     ]
    },
    {
     "data": {
      "application/vnd.jupyter.widget-view+json": {
       "model_id": "7c7203bd96b04366bce5c7031ded7850",
       "version_major": 2,
       "version_minor": 0
      },
      "text/plain": [
       "Processing SWZ:   0%|          | 0/59 [00:00<?, ?it/s]"
      ]
     },
     "metadata": {},
     "output_type": "display_data"
    },
    {
     "name": "stdout",
     "output_type": "stream",
     "text": [
      "Processing SXM\n"
     ]
    },
    {
     "data": {
      "application/vnd.jupyter.widget-view+json": {
       "model_id": "fc0e39a5078e491d957dc18b89cc0977",
       "version_major": 2,
       "version_minor": 0
      },
      "text/plain": [
       "Processing SXM:   0%|          | 0/1 [00:00<?, ?it/s]"
      ]
     },
     "metadata": {},
     "output_type": "display_data"
    },
    {
     "name": "stdout",
     "output_type": "stream",
     "text": [
      "Processing SYC\n"
     ]
    },
    {
     "data": {
      "application/vnd.jupyter.widget-view+json": {
       "model_id": "d4c1f40bae5c454bbd44b3cfba4c05ef",
       "version_major": 2,
       "version_minor": 0
      },
      "text/plain": [
       "Processing SYC:   0%|          | 0/59 [00:00<?, ?it/s]"
      ]
     },
     "metadata": {},
     "output_type": "display_data"
    },
    {
     "name": "stdout",
     "output_type": "stream",
     "text": [
      "Processing SYR\n"
     ]
    },
    {
     "data": {
      "application/vnd.jupyter.widget-view+json": {
       "model_id": "00d33968c93b4912b21303f74a3936ec",
       "version_major": 2,
       "version_minor": 0
      },
      "text/plain": [
       "Processing SYR:   0%|          | 0/61 [00:00<?, ?it/s]"
      ]
     },
     "metadata": {},
     "output_type": "display_data"
    },
    {
     "name": "stdout",
     "output_type": "stream",
     "text": [
      "Processing TCA\n"
     ]
    },
    {
     "data": {
      "application/vnd.jupyter.widget-view+json": {
       "model_id": "0ece509c5c454702b6637e679d58fbe3",
       "version_major": 2,
       "version_minor": 0
      },
      "text/plain": [
       "Processing TCA:   0%|          | 0/6 [00:00<?, ?it/s]"
      ]
     },
     "metadata": {},
     "output_type": "display_data"
    },
    {
     "name": "stdout",
     "output_type": "stream",
     "text": [
      "Processing TCD\n"
     ]
    },
    {
     "data": {
      "application/vnd.jupyter.widget-view+json": {
       "model_id": "05cc4be4f1a949e19a3c26da0ee04e5a",
       "version_major": 2,
       "version_minor": 0
      },
      "text/plain": [
       "Processing TCD:   0%|          | 0/70 [00:00<?, ?it/s]"
      ]
     },
     "metadata": {},
     "output_type": "display_data"
    },
    {
     "name": "stdout",
     "output_type": "stream",
     "text": [
      "Processing TGO\n"
     ]
    },
    {
     "data": {
      "application/vnd.jupyter.widget-view+json": {
       "model_id": "d8f35e5dfb6e4e0fbb4444d13136c3e2",
       "version_major": 2,
       "version_minor": 0
      },
      "text/plain": [
       "Processing TGO:   0%|          | 0/39 [00:00<?, ?it/s]"
      ]
     },
     "metadata": {},
     "output_type": "display_data"
    },
    {
     "name": "stdout",
     "output_type": "stream",
     "text": [
      "Processing THA\n"
     ]
    },
    {
     "data": {
      "application/vnd.jupyter.widget-view+json": {
       "model_id": "3982c8dc8dcb4709bd793224168b84ab",
       "version_major": 2,
       "version_minor": 0
      },
      "text/plain": [
       "Processing THA:   0%|          | 0/813 [00:00<?, ?it/s]"
      ]
     },
     "metadata": {},
     "output_type": "display_data"
    },
    {
     "name": "stdout",
     "output_type": "stream",
     "text": [
      "Processing TJK\n"
     ]
    },
    {
     "data": {
      "application/vnd.jupyter.widget-view+json": {
       "model_id": "32a31420a0f74d5ea4960a6dd6eab749",
       "version_major": 2,
       "version_minor": 0
      },
      "text/plain": [
       "Processing TJK:   0%|          | 0/65 [00:00<?, ?it/s]"
      ]
     },
     "metadata": {},
     "output_type": "display_data"
    },
    {
     "name": "stdout",
     "output_type": "stream",
     "text": [
      "Processing TKL\n"
     ]
    },
    {
     "data": {
      "application/vnd.jupyter.widget-view+json": {
       "model_id": "3c7f50247caa484aad9be6ca04dc3652",
       "version_major": 2,
       "version_minor": 0
      },
      "text/plain": [
       "Processing TKL:   0%|          | 0/1 [00:00<?, ?it/s]"
      ]
     },
     "metadata": {},
     "output_type": "display_data"
    },
    {
     "name": "stdout",
     "output_type": "stream",
     "text": [
      "Processing TKM\n"
     ]
    },
    {
     "data": {
      "application/vnd.jupyter.widget-view+json": {
       "model_id": "6f54aa584ec540dba7ce484268f7ce38",
       "version_major": 2,
       "version_minor": 0
      },
      "text/plain": [
       "Processing TKM:   0%|          | 0/5 [00:00<?, ?it/s]"
      ]
     },
     "metadata": {},
     "output_type": "display_data"
    },
    {
     "name": "stdout",
     "output_type": "stream",
     "text": [
      "Processing TMP\n"
     ]
    },
    {
     "data": {
      "application/vnd.jupyter.widget-view+json": {
       "model_id": "be2f5400b71f4c938225e97ac2b6bda6",
       "version_major": 2,
       "version_minor": 0
      },
      "text/plain": [
       "Processing TMP:   0%|          | 0/65 [00:00<?, ?it/s]"
      ]
     },
     "metadata": {},
     "output_type": "display_data"
    },
    {
     "name": "stdout",
     "output_type": "stream",
     "text": [
      "Processing TON\n"
     ]
    },
    {
     "data": {
      "application/vnd.jupyter.widget-view+json": {
       "model_id": "13a1beffe7b847d4b2fbf09d28819643",
       "version_major": 2,
       "version_minor": 0
      },
      "text/plain": [
       "Processing TON:   0%|          | 0/1 [00:00<?, ?it/s]"
      ]
     },
     "metadata": {},
     "output_type": "display_data"
    },
    {
     "name": "stdout",
     "output_type": "stream",
     "text": [
      "Processing TTO\n"
     ]
    },
    {
     "data": {
      "application/vnd.jupyter.widget-view+json": {
       "model_id": "ff9c4cf1ade34318aaf594a54533e537",
       "version_major": 2,
       "version_minor": 0
      },
      "text/plain": [
       "Processing TTO:   0%|          | 0/15 [00:00<?, ?it/s]"
      ]
     },
     "metadata": {},
     "output_type": "display_data"
    },
    {
     "name": "stdout",
     "output_type": "stream",
     "text": [
      "Processing TUN\n"
     ]
    },
    {
     "data": {
      "application/vnd.jupyter.widget-view+json": {
       "model_id": "af0e25ac7d2048ad93a87c4a9ba1b6bf",
       "version_major": 2,
       "version_minor": 0
      },
      "text/plain": [
       "Processing TUN:   0%|          | 0/279 [00:00<?, ?it/s]"
      ]
     },
     "metadata": {},
     "output_type": "display_data"
    },
    {
     "name": "stdout",
     "output_type": "stream",
     "text": [
      "Processing TUR\n"
     ]
    },
    {
     "data": {
      "application/vnd.jupyter.widget-view+json": {
       "model_id": "01d45ff38c934cbf8a411ce9cac28193",
       "version_major": 2,
       "version_minor": 0
      },
      "text/plain": [
       "Processing TUR:   0%|          | 0/926 [00:00<?, ?it/s]"
      ]
     },
     "metadata": {},
     "output_type": "display_data"
    },
    {
     "name": "stdout",
     "output_type": "stream",
     "text": [
      "Processing TUV\n"
     ]
    },
    {
     "data": {
      "application/vnd.jupyter.widget-view+json": {
       "model_id": "36cfc5d9a6ba436e8596a4bac5201f80",
       "version_major": 2,
       "version_minor": 0
      },
      "text/plain": [
       "Processing TUV:   0%|          | 0/1 [00:00<?, ?it/s]"
      ]
     },
     "metadata": {},
     "output_type": "display_data"
    },
    {
     "name": "stdout",
     "output_type": "stream",
     "text": [
      "Processing TZA\n"
     ]
    },
    {
     "data": {
      "application/vnd.jupyter.widget-view+json": {
       "model_id": "e4d20d47c04f43158f7d8b91cbb18ecd",
       "version_major": 2,
       "version_minor": 0
      },
      "text/plain": [
       "Processing TZA:   0%|          | 0/177 [00:00<?, ?it/s]"
      ]
     },
     "metadata": {},
     "output_type": "display_data"
    },
    {
     "name": "stdout",
     "output_type": "stream",
     "text": [
      "Processing UGA\n"
     ]
    },
    {
     "data": {
      "application/vnd.jupyter.widget-view+json": {
       "model_id": "19bda55f112340d6b5721431b39ca79d",
       "version_major": 2,
       "version_minor": 0
      },
      "text/plain": [
       "Processing UGA:   0%|          | 0/170 [00:00<?, ?it/s]"
      ]
     },
     "metadata": {},
     "output_type": "display_data"
    },
    {
     "name": "stdout",
     "output_type": "stream",
     "text": [
      "Processing UKR\n"
     ]
    },
    {
     "data": {
      "application/vnd.jupyter.widget-view+json": {
       "model_id": "4e5fe9423eeb4aebaf6c585e8e00a955",
       "version_major": 2,
       "version_minor": 0
      },
      "text/plain": [
       "Processing UKR:   0%|          | 0/25 [00:00<?, ?it/s]"
      ]
     },
     "metadata": {},
     "output_type": "display_data"
    },
    {
     "name": "stdout",
     "output_type": "stream",
     "text": [
      "Processing UMI\n"
     ]
    },
    {
     "data": {
      "application/vnd.jupyter.widget-view+json": {
       "model_id": "478b728cf3c24550a308146cfe5a2d1d",
       "version_major": 2,
       "version_minor": 0
      },
      "text/plain": [
       "Processing UMI:   0%|          | 0/7 [00:00<?, ?it/s]"
      ]
     },
     "metadata": {},
     "output_type": "display_data"
    },
    {
     "name": "stdout",
     "output_type": "stream",
     "text": [
      "Processing URY\n"
     ]
    },
    {
     "data": {
      "application/vnd.jupyter.widget-view+json": {
       "model_id": "a2cdd1068be0478782ad0d1cacb006c5",
       "version_major": 2,
       "version_minor": 0
      },
      "text/plain": [
       "Processing URY:   0%|          | 0/19 [00:00<?, ?it/s]"
      ]
     },
     "metadata": {},
     "output_type": "display_data"
    },
    {
     "name": "stdout",
     "output_type": "stream",
     "text": [
      "Processing USA\n"
     ]
    },
    {
     "data": {
      "application/vnd.jupyter.widget-view+json": {
       "model_id": "5f768568e841400ab4e9307138f0322f",
       "version_major": 2,
       "version_minor": 0
      },
      "text/plain": [
       "Processing USA:   0%|          | 0/3144 [00:00<?, ?it/s]"
      ]
     },
     "metadata": {},
     "output_type": "display_data"
    },
    {
     "name": "stdout",
     "output_type": "stream",
     "text": [
      "Processing UZB\n"
     ]
    },
    {
     "data": {
      "application/vnd.jupyter.widget-view+json": {
       "model_id": "66785aa54a624f90bf6063d629cfa5d9",
       "version_major": 2,
       "version_minor": 0
      },
      "text/plain": [
       "Processing UZB:   0%|          | 0/199 [00:00<?, ?it/s]"
      ]
     },
     "metadata": {},
     "output_type": "display_data"
    },
    {
     "name": "stdout",
     "output_type": "stream",
     "text": [
      "Processing VAT\n"
     ]
    },
    {
     "data": {
      "application/vnd.jupyter.widget-view+json": {
       "model_id": "d3deb176223540db963c2cd73d640742",
       "version_major": 2,
       "version_minor": 0
      },
      "text/plain": [
       "Processing VAT:   0%|          | 0/1 [00:00<?, ?it/s]"
      ]
     },
     "metadata": {},
     "output_type": "display_data"
    },
    {
     "name": "stdout",
     "output_type": "stream",
     "text": [
      "Processing VCT\n"
     ]
    },
    {
     "data": {
      "application/vnd.jupyter.widget-view+json": {
       "model_id": "293046e5b0de4b5a817e0e94a424834e",
       "version_major": 2,
       "version_minor": 0
      },
      "text/plain": [
       "Processing VCT:   0%|          | 0/6 [00:00<?, ?it/s]"
      ]
     },
     "metadata": {},
     "output_type": "display_data"
    },
    {
     "name": "stdout",
     "output_type": "stream",
     "text": [
      "Processing VEN\n",
      "Processing VGB\n"
     ]
    },
    {
     "data": {
      "application/vnd.jupyter.widget-view+json": {
       "model_id": "0e8c20ffd7dc461b8e76d0b6166ce15a",
       "version_major": 2,
       "version_minor": 0
      },
      "text/plain": [
       "Processing VGB:   0%|          | 0/5 [00:00<?, ?it/s]"
      ]
     },
     "metadata": {},
     "output_type": "display_data"
    },
    {
     "name": "stdout",
     "output_type": "stream",
     "text": [
      "Processing VIR\n"
     ]
    },
    {
     "data": {
      "application/vnd.jupyter.widget-view+json": {
       "model_id": "48aafcffb38a454295b12149efc83318",
       "version_major": 2,
       "version_minor": 0
      },
      "text/plain": [
       "Processing VIR:   0%|          | 0/3 [00:00<?, ?it/s]"
      ]
     },
     "metadata": {},
     "output_type": "display_data"
    },
    {
     "name": "stdout",
     "output_type": "stream",
     "text": [
      "Processing VNM\n"
     ]
    },
    {
     "data": {
      "application/vnd.jupyter.widget-view+json": {
       "model_id": "f3aa006032ef443d9c2cd95bf7a97112",
       "version_major": 2,
       "version_minor": 0
      },
      "text/plain": [
       "Processing VNM:   0%|          | 0/681 [00:00<?, ?it/s]"
      ]
     },
     "metadata": {},
     "output_type": "display_data"
    },
    {
     "name": "stdout",
     "output_type": "stream",
     "text": [
      "Processing VUT\n"
     ]
    },
    {
     "data": {
      "application/vnd.jupyter.widget-view+json": {
       "model_id": "2659c28226cd465e94a4f098ef5d024c",
       "version_major": 2,
       "version_minor": 0
      },
      "text/plain": [
       "Processing VUT:   0%|          | 0/6 [00:00<?, ?it/s]"
      ]
     },
     "metadata": {},
     "output_type": "display_data"
    },
    {
     "name": "stdout",
     "output_type": "stream",
     "text": [
      "Processing WBG\n"
     ]
    },
    {
     "data": {
      "application/vnd.jupyter.widget-view+json": {
       "model_id": "8fe1751227a94e5bb22e6d8db895cb7b",
       "version_major": 2,
       "version_minor": 0
      },
      "text/plain": [
       "Processing WBG:   0%|          | 0/16 [00:00<?, ?it/s]"
      ]
     },
     "metadata": {},
     "output_type": "display_data"
    },
    {
     "name": "stdout",
     "output_type": "stream",
     "text": [
      "Processing WLF\n"
     ]
    },
    {
     "data": {
      "application/vnd.jupyter.widget-view+json": {
       "model_id": "742fcdcd398c46a8953aa48b7111b414",
       "version_major": 2,
       "version_minor": 0
      },
      "text/plain": [
       "Processing WLF:   0%|          | 0/1 [00:00<?, ?it/s]"
      ]
     },
     "metadata": {},
     "output_type": "display_data"
    },
    {
     "name": "stdout",
     "output_type": "stream",
     "text": [
      "Processing WSM\n"
     ]
    },
    {
     "data": {
      "application/vnd.jupyter.widget-view+json": {
       "model_id": "e3bbd4af760d4919a0d9231a67685727",
       "version_major": 2,
       "version_minor": 0
      },
      "text/plain": [
       "Processing WSM:   0%|          | 0/1 [00:00<?, ?it/s]"
      ]
     },
     "metadata": {},
     "output_type": "display_data"
    },
    {
     "name": "stdout",
     "output_type": "stream",
     "text": [
      "Processing XKX\n"
     ]
    },
    {
     "data": {
      "application/vnd.jupyter.widget-view+json": {
       "model_id": "06323b7ce28e4425964871ebf75d308d",
       "version_major": 2,
       "version_minor": 0
      },
      "text/plain": [
       "Processing XKX:   0%|          | 0/38 [00:00<?, ?it/s]"
      ]
     },
     "metadata": {},
     "output_type": "display_data"
    },
    {
     "name": "stdout",
     "output_type": "stream",
     "text": [
      "Processing YEM\n"
     ]
    },
    {
     "data": {
      "application/vnd.jupyter.widget-view+json": {
       "model_id": "758a80616f5d4d92836948c7b3f8bc53",
       "version_major": 2,
       "version_minor": 0
      },
      "text/plain": [
       "Processing YEM:   0%|          | 0/333 [00:00<?, ?it/s]"
      ]
     },
     "metadata": {},
     "output_type": "display_data"
    },
    {
     "name": "stdout",
     "output_type": "stream",
     "text": [
      "Processing ZAF\n"
     ]
    },
    {
     "data": {
      "application/vnd.jupyter.widget-view+json": {
       "model_id": "b6611e4af58a4361b8115a14b164b6c9",
       "version_major": 2,
       "version_minor": 0
      },
      "text/plain": [
       "Processing ZAF:   0%|          | 0/52 [00:00<?, ?it/s]"
      ]
     },
     "metadata": {},
     "output_type": "display_data"
    },
    {
     "name": "stdout",
     "output_type": "stream",
     "text": [
      "Processing ZMB\n"
     ]
    },
    {
     "data": {
      "application/vnd.jupyter.widget-view+json": {
       "model_id": "08fa55a7fa15494cb0cacb98a8fc4344",
       "version_major": 2,
       "version_minor": 0
      },
      "text/plain": [
       "Processing ZMB:   0%|          | 0/116 [00:00<?, ?it/s]"
      ]
     },
     "metadata": {},
     "output_type": "display_data"
    },
    {
     "name": "stdout",
     "output_type": "stream",
     "text": [
      "Processing ZWE\n"
     ]
    },
    {
     "data": {
      "application/vnd.jupyter.widget-view+json": {
       "model_id": "8766933eb44442b0a328e504a572fd89",
       "version_major": 2,
       "version_minor": 0
      },
      "text/plain": [
       "Processing ZWE:   0%|          | 0/63 [00:00<?, ?it/s]"
      ]
     },
     "metadata": {},
     "output_type": "display_data"
    }
   ],
   "source": [
    "for cntry, data, outFolder, adminID in tqdm(mp_args):\n",
    "    print(f'Processing {cntry}')\n",
    "    if not cntry in ['FJI', 'RUS', 'MLT', 'VEN']: # 'FJI','RUS There are topological errors current dataset\n",
    "        res = run_country_mp(cntry, data, outFolder, admin_id)"
   ]
  },
  {
   "cell_type": "markdown",
   "metadata": {},
   "source": [
    "# DEBNRURGGIGN"
   ]
  },
  {
   "cell_type": "code",
   "execution_count": null,
   "metadata": {},
   "outputs": [],
   "source": [
    "shape(h3.cells_to_geo([c['cell']])).__class__"
   ]
  },
  {
   "cell_type": "code",
   "execution_count": null,
   "metadata": {},
   "outputs": [],
   "source": [
    "sel_bounds = get_bounds(in_data.loc[in_data['NAM_2'] == \"Annapolis\"], admin_id)\n",
    "h3_geo = []\n",
    "\n",
    "for idx, c in sel_bounds.iterrows():\n",
    "    try:\n",
    "        h3_geo.append(shape(h3.cells_to_geo([c['cell']])))\n",
    "    except:\n",
    "        print(f'Error in {c[\"cell\"]}')\n",
    "        continue\n",
    "\n",
    "sel_bounds['geometry'] = h3_geo\n",
    "sel_bounds = gpd.GeoDataFrame(sel_bounds, geometry='geometry', crs=4326)"
   ]
  },
  {
   "cell_type": "code",
   "execution_count": null,
   "metadata": {},
   "outputs": [],
   "source": [
    "mapMisc.static_map_vector(sel_bounds, map_column = 'overlap')"
   ]
  },
  {
   "cell_type": "code",
   "execution_count": null,
   "metadata": {},
   "outputs": [],
   "source": [
    "sel_bounds.to_parquet(os.path.join(out_folder, f'{sel_iso3}_h3_intersect.parquet'))"
   ]
  },
  {
   "cell_type": "code",
   "execution_count": null,
   "metadata": {},
   "outputs": [],
   "source": []
  },
  {
   "cell_type": "code",
   "execution_count": null,
   "metadata": {},
   "outputs": [],
   "source": [
    "dir(h3)"
   ]
  },
  {
   "cell_type": "code",
   "execution_count": null,
   "metadata": {},
   "outputs": [],
   "source": [
    "cntry_label = 'RUS'\n",
    "in_data = in_admin.loc[in_admin['WB_A3'] == cntry_label]\n",
    "in_data.plot()"
   ]
  },
  {
   "cell_type": "code",
   "execution_count": null,
   "metadata": {},
   "outputs": [],
   "source": [
    "in_data.to_file(os.path.join(out_folder, f'{cntry_label}_h3_intersect.gpkg'), driver='GPKG')"
   ]
  },
  {
   "cell_type": "code",
   "execution_count": null,
   "metadata": {},
   "outputs": [],
   "source": [
    "all_res = []\n",
    "for idx, row in in_data.iterrows():\n",
    "    tPrint(idx)\n",
    "    in_shape = gpd.GeoDataFrame(row.to_frame().T, geometry=\"geometry\", crs=in_data.crs)\n",
    "    in_shape['geometry'] = in_shape['geometry'].apply(lambda x: x.buffer(0))                                        \n",
    "    cur_res = get_bounds(in_shape, 6)\n",
    "    cur_res['cntry'] = cntry_label\n",
    "    all_res.append(cur_res)"
   ]
  },
  {
   "cell_type": "code",
   "execution_count": null,
   "metadata": {},
   "outputs": [],
   "source": [
    "sel_row = in_data.loc[24588]\n",
    "in_shp = gpd.GeoDataFrame(sel_row.to_frame().T, geometry=\"geometry\", crs=in_data.crs)\n",
    "            "
   ]
  },
  {
   "cell_type": "code",
   "execution_count": null,
   "metadata": {},
   "outputs": [],
   "source": [
    "cell_ax"
   ]
  },
  {
   "cell_type": "code",
   "execution_count": null,
   "metadata": {},
   "outputs": [],
   "source": [
    "cell_ax.to_file(os.path.join(out_folder, f'{cntry_label}_h3_intersect.gpkg'), driver='GPKG')"
   ]
  },
  {
   "cell_type": "code",
   "execution_count": null,
   "metadata": {},
   "outputs": [],
   "source": [
    "tPrint('Starting')\n",
    "cols_to_keep = ['gID', 'cell', 'overlap']\n",
    "cell_ax = cells_dataframe_to_geodataframe(geodataframe_to_cells(in_shp, 6, ContainmentMode.IntersectsBoundary))\n",
    "cell_ax['cell'] = cell_ax['cell'].apply(lambda x: hex(x)[2:])\n",
    "tPrint(\"Generated H3 cells\")\n",
    "shp_area = in_shp.union_all()\n",
    "cell_ax['overlap'] = cell_ax['geometry'].apply(lambda x: x.intersection(shp_area).area/x.area)\n",
    "tPrint(\"Calculated overlap\")\n",
    "    \n",
    "\n",
    "# return cell_ax.loc[:, cols_to_keep].reset_index(drop=True)"
   ]
  },
  {
   "cell_type": "code",
   "execution_count": null,
   "metadata": {},
   "outputs": [],
   "source": [
    "x.area"
   ]
  },
  {
   "cell_type": "code",
   "execution_count": null,
   "metadata": {},
   "outputs": [],
   "source": []
  }
 ],
 "metadata": {
  "kernelspec": {
   "display_name": "s2s_ingest",
   "language": "python",
   "name": "python3"
  },
  "language_info": {
   "codemirror_mode": {
    "name": "ipython",
    "version": 3
   },
   "file_extension": ".py",
   "mimetype": "text/x-python",
   "name": "python",
   "nbconvert_exporter": "python",
   "pygments_lexer": "ipython3",
   "version": "3.10.16"
  }
 },
 "nbformat": 4,
 "nbformat_minor": 2
}
