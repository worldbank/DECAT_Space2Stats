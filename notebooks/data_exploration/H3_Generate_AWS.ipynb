{
 "cells": [
  {
   "cell_type": "markdown",
   "metadata": {},
   "source": [
    "# Generate H3 geospatial data on AWS bucket"
   ]
  },
  {
   "cell_type": "code",
   "execution_count": 57,
   "metadata": {},
   "outputs": [
    {
     "name": "stdout",
     "output_type": "stream",
     "text": [
      "The autoreload extension is already loaded. To reload it, use:\n",
      "  %reload_ext autoreload\n"
     ]
    }
   ],
   "source": [
    "import sys, os, importlib, math, multiprocessing, boto3, pickle\n",
    "import rasterio, geojson\n",
    "\n",
    "import pandas as pd\n",
    "import geopandas as gpd\n",
    "import numpy as np\n",
    "\n",
    "from h3 import h3\n",
    "from tqdm import tqdm\n",
    "from shapely.geometry import Polygon\n",
    "\n",
    "sys.path.insert(0, \"/home/wb411133/Code/gostrocks/src\")\n",
    "import GOSTrocks.rasterMisc as rMisc\n",
    "import GOSTrocks.ntlMisc as ntl\n",
    "import GOSTrocks.mapMisc as mapMisc\n",
    "from GOSTrocks.misc import tPrint\n",
    "\n",
    "sys.path.append(\"../src\")\n",
    "import h3_helper\n",
    "\n",
    "%load_ext autoreload\n",
    "%autoreload 2"
   ]
  },
  {
   "cell_type": "code",
   "execution_count": null,
   "metadata": {},
   "outputs": [],
   "source": [
    "# Define S3 parameters\n",
    "bucket = 'wbg-geography01' \n",
    "prefix = 'Space2Stats/h3_spatial_data'\n",
    "region = 'us-east-1'\n",
    "s3client = boto3.client('s3', region_name=region)\n",
    "out_folder = \"/home/wb411133/projects/Space2Stats/\""
   ]
  },
  {
   "cell_type": "code",
   "execution_count": null,
   "metadata": {},
   "outputs": [],
   "source": [
    "admin_bounds = \"/home/public/Data/GLOBAL/ADMIN/ADMIN2/HighRes_20230328/shp/WB_GAD_ADM0.shp\"\n",
    "inA = gpd.read_file(admin_bounds)\n",
    "inA['ID'] = inA.index\n",
    "inA.head()"
   ]
  },
  {
   "cell_type": "code",
   "execution_count": null,
   "metadata": {
    "scrolled": true
   },
   "outputs": [],
   "source": [
    "all_args = []\n",
    "h3_level = 6\n",
    "\n",
    "for idx, row in inA.iterrows():\n",
    "    cur_prefix = os.path.join(prefix, row['WB_REGION'], row['ISO_A3'])\n",
    "    '''\n",
    "    out_file = f's3://{bucket}/{cur_prefix}/h3_level_{h3_level}.geojson'\n",
    "    try:\n",
    "        xx = gpd.read_file(out_file)\n",
    "    except:\n",
    "        print(out_file)\n",
    "    '''\n",
    "    print(cur_prefix)\n",
    "    all_args.append([row, h3_level])\n",
    "    "
   ]
  },
  {
   "cell_type": "code",
   "execution_count": null,
   "metadata": {
    "scrolled": true
   },
   "outputs": [],
   "source": [
    "def generate_grid(row, lvl):\n",
    "    cur_prefix = os.path.join(prefix, row['WB_REGION'], row['ISO_A3'])\n",
    "    out_file = f's3://{bucket}/{cur_prefix}/h3_level_{lvl}.geojson'\n",
    "    tPrint(f\"Starting {cur_prefix}\")    \n",
    "    cur_gpd = gpd.GeoDataFrame(pd.DataFrame(row).transpose(), geometry='geometry', crs=inA.crs)\n",
    "    zonalC = country_zonal.country_h3_zonal(row['ISO_A3'], cur_gpd, \"ID\", lvl, out_folder)\n",
    "    try:\n",
    "        h3_grid = zonalC.generate_h3_grid()\n",
    "        h3_grid.to_file(out_file, driver=\"GeoJSON\")\n",
    "        tPrint(f\"Completed {cur_prefix}\")\n",
    "        return(h3_grid)\n",
    "    except:\n",
    "        tPrint(f\"Error processing lvl {lvl} for {row['ISO_A3']}\")\n",
    "\n"
   ]
  },
  {
   "cell_type": "code",
   "execution_count": null,
   "metadata": {
    "scrolled": true
   },
   "outputs": [],
   "source": [
    "with multiprocessing.Pool(processes=min([70,len(all_args)])) as pool:\n",
    "    results = pool.starmap(generate_grid, all_args)"
   ]
  },
  {
   "cell_type": "markdown",
   "metadata": {},
   "source": [
    "# Aggregate H3 zonal results"
   ]
  },
  {
   "cell_type": "code",
   "execution_count": 3,
   "metadata": {},
   "outputs": [],
   "source": [
    "# Define S3 parameters\n",
    "bucket = 'wbg-geography01' \n",
    "zonal_prefix = 'Space2Stats/h3_stats_data/GLOBAL/'\n",
    "out_prefix = 'Space2Stats/parquet/GLOBAL/'\n",
    "region = 'us-east-1'\n",
    "s3client = boto3.client('s3', region_name=region)"
   ]
  },
  {
   "cell_type": "code",
   "execution_count": 9,
   "metadata": {},
   "outputs": [
    {
     "name": "stdout",
     "output_type": "stream",
     "text": [
      "Completed loop: 0\n",
      "Completed loop: 1\n",
      "Completed loop: 2\n",
      "Completed loop: 3\n",
      "Completed loop: 4\n",
      "Completed loop: 5\n",
      "Completed loop: 6\n",
      "Completed loop: 7\n",
      "Completed loop: 8\n",
      "Completed loop: 9\n",
      "Completed loop: 10\n",
      "Completed loop: 11\n",
      "Completed loop: 12\n",
      "Completed loop: 13\n",
      "Completed loop: 14\n",
      "Completed loop: 15\n",
      "Completed loop: 16\n",
      "Completed loop: 17\n",
      "Completed loop: 18\n",
      "Completed loop: 19\n",
      "Completed loop: 20\n",
      "Completed loop: 21\n",
      "Completed loop: 22\n"
     ]
    }
   ],
   "source": [
    "# Search for zonal results\n",
    "# Loop through the S3 bucket and get all the keys for files that are .tif \n",
    "more_results = True\n",
    "loops = 0\n",
    "good_res = {}\n",
    "verbose=True\n",
    "while more_results:\n",
    "    if verbose:\n",
    "        print(f\"Completed loop: {loops}\")\n",
    "    if loops > 0:\n",
    "        objects = s3client.list_objects_v2(Bucket=bucket, Prefix=zonal_prefix, ContinuationToken=token)\n",
    "    else:\n",
    "        objects = s3client.list_objects_v2(Bucket=bucket, Prefix=zonal_prefix)\n",
    "    more_results = objects['IsTruncated']\n",
    "    if more_results:\n",
    "        token = objects['NextContinuationToken']\n",
    "    loops += 1\n",
    "    for res in objects['Contents']:\n",
    "        if res['Key'].endswith('csv'):            \n",
    "            cur_variable = res['Key'].split(\"/\")[-3]\n",
    "            try:\n",
    "                good_res[cur_variable].append(res['Key'])\n",
    "            except:\n",
    "                good_res[cur_variable] = [res['Key']]"
   ]
  },
  {
   "cell_type": "code",
   "execution_count": 13,
   "metadata": {},
   "outputs": [
    {
     "data": {
      "text/plain": [
       "dict_keys(['Urbanization', 'VIIRS_Monthly_LEN', 'WorldPop_2020_Demographics'])"
      ]
     },
     "execution_count": 13,
     "metadata": {},
     "output_type": "execute_result"
    }
   ],
   "source": [
    "good_res.keys()"
   ]
  },
  {
   "cell_type": "code",
   "execution_count": 27,
   "metadata": {},
   "outputs": [],
   "source": [
    "# Aggregate the WorldPop demographics data\n",
    "pop_files = good_res['WorldPop_2020_Demographics']\n",
    "pop_yrs = {}\n",
    "for pFile in pop_files:\n",
    "    lbl = \"_\".join(os.path.basename(pFile).split(\"_\")[1:4])\n",
    "    try:\n",
    "        pop_yrs[lbl].append(pFile)\n",
    "    except:\n",
    "        pop_yrs[lbl] = [pFile]"
   ]
  },
  {
   "cell_type": "code",
   "execution_count": 34,
   "metadata": {
    "scrolled": true
   },
   "outputs": [
    {
     "name": "stdout",
     "output_type": "stream",
     "text": [
      "15:50:53\tf_0_2020\n",
      "15:52:16\tf_10_2020\n",
      "15:53:36\tf_15_2020\n",
      "15:54:59\tf_1_2020\n",
      "15:56:23\tf_20_2020\n",
      "15:57:44\tf_25_2020\n",
      "15:59:04\tf_30_2020\n",
      "16:00:28\tf_35_2020\n",
      "16:01:51\tf_40_2020\n",
      "16:03:17\tf_45_2020\n",
      "16:04:42\tf_50_2020\n",
      "16:06:10\tf_55_2020\n",
      "16:07:35\tf_5_2020\n",
      "16:09:04\tf_60_2020\n",
      "16:10:30\tf_65_2020\n",
      "16:11:57\tf_70_2020\n",
      "16:13:27\tf_75_2020\n",
      "16:14:58\tf_80_2020\n",
      "16:16:27\tm_0_2020\n",
      "16:17:54\tm_10_2020\n",
      "16:19:20\tm_15_2020\n",
      "16:20:46\tm_1_2020\n",
      "16:22:10\tm_20_2020\n",
      "16:23:34\tm_25_2020\n",
      "16:25:01\tm_30_2020\n",
      "16:26:27\tm_35_2020\n",
      "16:27:50\tm_40_2020\n",
      "16:29:16\tm_45_2020\n",
      "16:30:42\tm_50_2020\n",
      "16:32:08\tm_55_2020\n",
      "16:33:33\tm_5_2020\n",
      "16:34:57\tm_60_2020\n",
      "16:36:21\tm_65_2020\n",
      "16:37:45\tm_70_2020\n",
      "16:39:09\tm_75_2020\n",
      "16:40:35\tm_80_2020\n"
     ]
    }
   ],
   "source": [
    "for lbl, files in pop_yrs.items():\n",
    "    out_file = os.path.join('s3://', bucket, out_prefix, 'WorldPop_2020_Demographics', f'{lbl}.parquet')\n",
    "    pop_dfs = [pd.read_csv(os.path.join(\"s3://\", bucket, x)) for x in files]\n",
    "    all_res = pd.concat(pop_dfs)\n",
    "    all_res.to_parquet(out_file)\n",
    "    tPrint(lbl)"
   ]
  },
  {
   "cell_type": "code",
   "execution_count": 48,
   "metadata": {},
   "outputs": [],
   "source": [
    "# Aggregate the nighttime lights data\n",
    "ntl_files = good_res['VIIRS_Monthly_LEN']\n",
    "ntl_yrs = {}\n",
    "for pFile in ntl_files:\n",
    "    lbl = \"_\".join(os.path.basename(pFile).split(\"_\")[:3])   \n",
    "    try:\n",
    "        ntl_yrs[lbl].append(pFile)\n",
    "    except:\n",
    "        ntl_yrs[lbl] = [pFile]"
   ]
  },
  {
   "cell_type": "code",
   "execution_count": 54,
   "metadata": {
    "scrolled": true
   },
   "outputs": [
    {
     "name": "stdout",
     "output_type": "stream",
     "text": [
      "09:32:03\tDNB_j01_20230601-20230630\n",
      "09:33:46\tDNB_j01_20230701-20230731\n",
      "09:35:34\tDNB_j01_20230901-20230930\n",
      "09:37:22\tDNB_j01_20231001-20231031\n",
      "09:39:09\tDNB_j01_20231101-20231130\n",
      "09:40:51\tDNB_j01_20231201-20231231\n",
      "09:42:30\tDNB_j01_20240101-20240131\n",
      "09:44:20\tDNB_npp_20120119-20120131\n",
      "09:46:09\tDNB_npp_20120201-20120229\n",
      "09:48:02\tDNB_npp_20120301-20120331\n",
      "09:49:46\tDNB_npp_20120401-20120430\n",
      "09:51:34\tDNB_npp_20120501-20120531\n",
      "09:53:23\tDNB_npp_20120601-20120630\n",
      "09:55:08\tDNB_npp_20120701-20120731\n",
      "09:56:59\tDNB_npp_20120801-20120831\n",
      "09:58:52\tDNB_npp_20120901-20120930\n",
      "10:00:47\tDNB_npp_20121001-20121031\n",
      "10:02:47\tDNB_npp_20121101-20121130\n",
      "10:04:50\tDNB_npp_20121201-20121231\n",
      "10:06:50\tDNB_npp_20130101-20130131\n",
      "10:09:02\tDNB_npp_20130201-20130228\n",
      "10:11:12\tDNB_npp_20130301-20130331\n",
      "10:13:21\tDNB_npp_20130401-20130430\n",
      "10:15:29\tDNB_npp_20130501-20130531\n",
      "10:17:38\tDNB_npp_20130601-20130630\n",
      "10:19:42\tDNB_npp_20130701-20221231\n",
      "10:21:53\tDNB_npp_20130801-20130831\n",
      "10:24:10\tDNB_npp_20130901-20130930\n",
      "10:26:22\tDNB_npp_20131001-20131031\n",
      "10:28:33\tDNB_npp_20131101-20131130\n",
      "10:30:34\tDNB_npp_20131201-20131231\n",
      "10:32:38\tDNB_npp_20140101-20140131\n",
      "10:34:45\tDNB_npp_20140201-20140228\n",
      "10:37:00\tDNB_npp_20140401-20140430\n",
      "10:39:07\tDNB_npp_20140501-20140531\n",
      "10:41:08\tDNB_npp_20140601-20140630\n",
      "10:43:05\tDNB_npp_20140701-20140731\n",
      "10:45:05\tDNB_npp_20140801-20140831\n",
      "10:47:09\tDNB_npp_20140901-20140930\n",
      "10:49:16\tDNB_npp_20141001-20141031\n",
      "10:51:14\tDNB_npp_20141101-20141130\n",
      "10:53:04\tDNB_npp_20141201-20141231\n",
      "10:54:56\tDNB_npp_20150101-20150131\n",
      "10:56:54\tDNB_npp_20150201-20150228\n",
      "10:58:52\tDNB_npp_20150301-20150331\n",
      "11:00:53\tDNB_npp_20150401-20150430\n",
      "11:02:59\tDNB_npp_20150501-20150531\n",
      "11:05:01\tDNB_npp_20150601-20150630\n",
      "11:07:05\tDNB_npp_20150701-20150731\n",
      "11:09:12\tDNB_npp_20150801-20150831\n",
      "11:11:26\tDNB_npp_20150901-20150930\n",
      "11:13:43\tDNB_npp_20151001-20151031\n",
      "11:15:53\tDNB_npp_20151101-20151130\n",
      "11:18:01\tDNB_npp_20151201-20151231\n",
      "11:20:03\tDNB_npp_20160101-20160131\n",
      "11:22:16\tDNB_npp_20160201-20160229\n",
      "11:24:29\tDNB_npp_20160301-20160331\n",
      "11:26:45\tDNB_npp_20160401-20160430\n",
      "11:29:01\tDNB_npp_20160501-20160531\n",
      "11:31:10\tDNB_npp_20160601-20160630\n",
      "11:33:15\tDNB_npp_20160701-20160731\n",
      "11:35:31\tDNB_npp_20160801-20160831\n",
      "11:37:52\tDNB_npp_20160901-20160930\n",
      "11:40:05\tDNB_npp_20161001-20161031\n",
      "11:42:19\tDNB_npp_20161101-20161130\n",
      "11:44:28\tDNB_npp_20161201-20161231\n",
      "11:46:35\tDNB_npp_20170101-20170131\n",
      "11:48:43\tDNB_npp_20170201-20170228\n",
      "11:50:54\tDNB_npp_20170301-20170331\n",
      "11:53:11\tDNB_npp_20170401-20170430\n",
      "11:55:21\tDNB_npp_20170501-20170531\n",
      "11:57:10\tDNB_npp_20170601-20170630\n",
      "11:58:57\tDNB_npp_20170701-20170731\n",
      "12:00:56\tDNB_npp_20170801-20170831\n",
      "12:03:10\tDNB_npp_20170901-20170930\n",
      "12:05:25\tDNB_npp_20171001-20171031\n",
      "12:07:41\tDNB_npp_20171101-20171130\n",
      "12:09:48\tDNB_npp_20171201-20171231\n",
      "12:12:00\tDNB_npp_20180101-20180131\n",
      "12:14:16\tDNB_npp_20180201-20180228\n",
      "12:16:41\tDNB_npp_20180301-20180331\n",
      "12:19:04\tDNB_npp_20180401-20180430\n",
      "12:21:18\tDNB_npp_20180501-20180531\n",
      "12:23:20\tDNB_npp_20180601-20180630\n",
      "12:25:29\tDNB_npp_20180701-20180731\n",
      "12:27:46\tDNB_npp_20180801-20180831\n",
      "12:30:05\tDNB_npp_20180901-20180930\n",
      "12:32:33\tDNB_npp_20181001-20181031\n",
      "12:34:53\tDNB_npp_20181101-20181130\n",
      "12:37:04\tDNB_npp_20181201-20181231\n",
      "12:39:08\tDNB_npp_20190101-20190131\n",
      "12:41:12\tDNB_npp_20190201-20190228\n",
      "12:43:23\tDNB_npp_20190301-20190331\n",
      "12:45:37\tDNB_npp_20190401-20190430\n",
      "12:47:52\tDNB_npp_20190501-20190531\n",
      "12:49:52\tDNB_npp_20190601-20190630\n",
      "12:51:49\tDNB_npp_20190701-20190731\n",
      "12:53:48\tDNB_npp_20190801-20190831\n",
      "12:55:52\tDNB_npp_20190901-20190930\n",
      "12:58:03\tDNB_npp_20191001-20191031\n",
      "13:00:11\tDNB_npp_20191101-20191130\n",
      "13:02:15\tDNB_npp_20191201-20191231\n",
      "13:04:14\tDNB_npp_20200101-20200131\n",
      "13:06:40\tDNB_npp_20200201-20200229\n",
      "13:09:06\tDNB_npp_20200301-20200331\n",
      "13:11:32\tDNB_npp_20200401-20200430\n",
      "13:13:49\tDNB_npp_20200501-20200531\n",
      "13:16:07\tDNB_npp_20200601-20200630\n",
      "13:18:22\tDNB_npp_20200701-20200731\n",
      "13:20:39\tDNB_npp_20200801-20200831\n",
      "13:23:09\tDNB_npp_20200901-20200930\n",
      "13:25:31\tDNB_npp_20201001-20201031\n",
      "13:27:51\tDNB_npp_20201101-20201130\n",
      "13:30:04\tDNB_npp_20201201-20201231\n",
      "13:32:16\tDNB_npp_20210101-20210131\n",
      "13:34:37\tDNB_npp_20210201-20210228\n",
      "13:37:01\tDNB_npp_20210301-20210331\n",
      "13:39:18\tDNB_npp_20210401-20210430\n",
      "13:41:34\tDNB_npp_20210501-20210531\n",
      "13:43:45\tDNB_npp_20210601-20210630\n",
      "13:45:55\tDNB_npp_20210701-20210731\n",
      "13:48:08\tDNB_npp_20210901-20210930\n",
      "13:50:26\tDNB_npp_20211001-20211031\n",
      "13:52:43\tDNB_npp_20211101-20211130\n",
      "13:54:54\tDNB_npp_20211201-20211231\n",
      "13:57:09\tDNB_npp_20220101-20220131\n",
      "13:59:18\tDNB_npp_20220201-20220228\n",
      "14:01:40\tDNB_npp_20220301-20220331\n",
      "14:04:00\tDNB_npp_20220401-20220430\n",
      "14:06:17\tDNB_npp_20220501-20220531\n",
      "14:08:17\tDNB_npp_20220701-20220731\n",
      "14:10:39\tDNB_npp_20220901-20220930\n",
      "14:13:00\tDNB_npp_20221001-20221031\n",
      "14:15:16\tDNB_npp_20221101-20221130\n",
      "14:17:34\tDNB_npp_20221201-20221231\n",
      "14:19:50\tDNB_npp_20230101-20230131\n",
      "14:22:06\tDNB_npp_20230201-20230228\n",
      "14:24:26\tDNB_npp_20230301-20230331\n",
      "14:26:40\tDNB_npp_20230401-20230430\n",
      "14:28:49\tDNB_npp_20230501-20230531\n",
      "14:30:58\tDNB_npp_20230601-20230630\n",
      "14:33:09\tDNB_npp_20230701-20230731\n",
      "14:35:24\tDNB_npp_20230801-20230831\n",
      "14:37:39\tDNB_npp_20230901-20230930\n",
      "14:39:50\tDNB_npp_20231001-20231031\n",
      "14:41:59\tDNB_npp_20231101-20231130\n",
      "14:44:09\tDNB_npp_20231201-20231231\n",
      "14:46:15\tDNB_npp_20240101-20240131\n"
     ]
    }
   ],
   "source": [
    "for lbl, files in ntl_yrs.items():\n",
    "    year = lbl.split(\"_\")[-1][:4]\n",
    "    month = lbl.split(\"_\")[-1][4:6]\n",
    "    out_file = os.path.join('s3://', bucket, out_prefix, 'NTL_VIIRS_LEN', year, month, f'{lbl}.parquet')    \n",
    "    pop_dfs = [pd.read_csv(os.path.join(\"s3://\", bucket, x)) for x in files]\n",
    "    all_res = pd.concat(pop_dfs)\n",
    "    all_res.to_parquet(out_file)\n",
    "    tPrint(lbl)"
   ]
  },
  {
   "cell_type": "code",
   "execution_count": 53,
   "metadata": {},
   "outputs": [
    {
     "data": {
      "text/plain": [
       "'s3://wbg-geography01/Space2Stats/parquet/GLOBAL/NTL_VIIRS_LEN/2023/06/DNB_j01_20230601-20230630.parquet'"
      ]
     },
     "execution_count": 53,
     "metadata": {},
     "output_type": "execute_result"
    }
   ],
   "source": [
    "out_file"
   ]
  },
  {
   "cell_type": "code",
   "execution_count": 61,
   "metadata": {},
   "outputs": [
    {
     "data": {
      "text/plain": [
       "True"
      ]
     },
     "execution_count": 61,
     "metadata": {},
     "output_type": "execute_result"
    }
   ],
   "source": [
    "pickle_path = \"/home/wb411133/Code/DECAT_Space2Stats/src/h1_dictionary_of_h6_geodata_frames.pickle\"\n",
    "os.path.exists(pickle_path)"
   ]
  },
  {
   "cell_type": "code",
   "execution_count": 62,
   "metadata": {},
   "outputs": [
    {
     "ename": "AttributeError",
     "evalue": "Can't get attribute '_unpickle_block' on <module 'pandas._libs.internals' from '/home/wb411133/.conda/envs/ee/lib/python3.9/site-packages/pandas/_libs/internals.cpython-39-x86_64-linux-gnu.so'>",
     "output_type": "error",
     "traceback": [
      "\u001b[0;31m---------------------------------------------------------------------------\u001b[0m",
      "\u001b[0;31mAttributeError\u001b[0m                            Traceback (most recent call last)",
      "\u001b[0;32m<ipython-input-62-1e65c168bcaf>\u001b[0m in \u001b[0;36m<module>\u001b[0;34m\u001b[0m\n\u001b[1;32m      1\u001b[0m \u001b[0;32mwith\u001b[0m \u001b[0mopen\u001b[0m\u001b[0;34m(\u001b[0m\u001b[0mpickle_path\u001b[0m\u001b[0;34m,\u001b[0m \u001b[0;34m'rb'\u001b[0m\u001b[0;34m)\u001b[0m \u001b[0;32mas\u001b[0m \u001b[0mhandle\u001b[0m\u001b[0;34m:\u001b[0m\u001b[0;34m\u001b[0m\u001b[0;34m\u001b[0m\u001b[0m\n\u001b[0;32m----> 2\u001b[0;31m     \u001b[0mxx\u001b[0m \u001b[0;34m=\u001b[0m \u001b[0mpickle\u001b[0m\u001b[0;34m.\u001b[0m\u001b[0mload\u001b[0m\u001b[0;34m(\u001b[0m\u001b[0mhandle\u001b[0m\u001b[0;34m)\u001b[0m\u001b[0;34m\u001b[0m\u001b[0;34m\u001b[0m\u001b[0m\n\u001b[0m",
      "\u001b[0;31mAttributeError\u001b[0m: Can't get attribute '_unpickle_block' on <module 'pandas._libs.internals' from '/home/wb411133/.conda/envs/ee/lib/python3.9/site-packages/pandas/_libs/internals.cpython-39-x86_64-linux-gnu.so'>"
     ]
    }
   ],
   "source": [
    "with open(pickle_path, 'rb') as handle:\n",
    "    xx = pickle.load(handle)"
   ]
  },
  {
   "cell_type": "code",
   "execution_count": null,
   "metadata": {},
   "outputs": [],
   "source": []
  }
 ],
 "metadata": {
  "kernelspec": {
   "display_name": "Earth Engine",
   "language": "python",
   "name": "ee"
  },
  "language_info": {
   "codemirror_mode": {
    "name": "ipython",
    "version": 3
   },
   "file_extension": ".py",
   "mimetype": "text/x-python",
   "name": "python",
   "nbconvert_exporter": "python",
   "pygments_lexer": "ipython3",
   "version": "3.9.4"
  }
 },
 "nbformat": 4,
 "nbformat_minor": 2
}
