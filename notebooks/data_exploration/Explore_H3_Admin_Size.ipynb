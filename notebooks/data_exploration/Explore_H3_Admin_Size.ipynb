{
 "cells": [
  {
   "cell_type": "code",
   "execution_count": 8,
   "metadata": {},
   "outputs": [
    {
     "name": "stdout",
     "output_type": "stream",
     "text": [
      "The autoreload extension is already loaded. To reload it, use:\n",
      "  %reload_ext autoreload\n"
     ]
    }
   ],
   "source": [
    "import sys, os, importlib, math, multiprocessing, json, requests\n",
    "import rasterio, geojson\n",
    "\n",
    "import pandas as pd\n",
    "import geopandas as gpd\n",
    "import numpy as np\n",
    "import matplotlib.pyplot as plt\n",
    "\n",
    "from h3 import h3\n",
    "from tqdm import tqdm\n",
    "\n",
    "import GOSTRocks.rasterMisc as rMisc\n",
    "from GOSTRocks.misc import tPrint\n",
    "\n",
    "sys.path.append(\"../src\")\n",
    "import h3_helper\n",
    "import country_zonal\n",
    "\n",
    "%load_ext autoreload\n",
    "%autoreload 2"
   ]
  },
  {
   "cell_type": "code",
   "execution_count": 6,
   "metadata": {},
   "outputs": [],
   "source": [
    "# (\"Afghanistan\", \"Congo, Dem. Rep.\", \"Haiti\", \"Kenya\", \"Somalia\", \"South Sudan\", \"Yemen, Rep.\")\n",
    "test_countries = ['AFG','COD','HTI','KEN','SOM','SSD','YEM']\n",
    "geoboundaries_url = 'https://www.geoboundaries.org/api/current/gbOpen/{iso3}/ALL/'"
   ]
  },
  {
   "cell_type": "code",
   "execution_count": 50,
   "metadata": {},
   "outputs": [
    {
     "name": "stdout",
     "output_type": "stream",
     "text": [
      "AFG: total units 398, small units 2, medium_units 51\n",
      "COD: total units 189, small units 17, medium_units 17\n",
      "HTI: total units 42, small units 0, medium_units 7\n",
      "KEN: total units 290, small units 16, medium_units 64\n",
      "SOM: total units 118, small units 14, medium_units 3\n",
      "SSD: total units 78, small units 0, medium_units 0\n",
      "YEM: total units 335, small units 25, medium_units 91\n"
     ]
    }
   ],
   "source": [
    "adm_level = 'ADM2'\n",
    "small_size = 36\n",
    "medium_size = 250\n",
    "for country in test_countries:\n",
    "    cur_url = geoboundaries_url.format(iso3=country)\n",
    "    records = requests.get(cur_url).json()\n",
    "    for r in records:\n",
    "        if r[\"boundaryType\"] == adm_level:\n",
    "            cur_shapes = gpd.read_file(r['gjDownloadURL'])\n",
    "            cur_shapes = cur_shapes.to_crs(\"ESRI:54009\")\n",
    "            cur_shapes['area'] = cur_shapes['geometry'].apply(lambda x: x.area/1000000)\n",
    "            n_small = cur_shapes.loc[cur_shapes['area'] < small_size].shape[0]\n",
    "            n_medium = cur_shapes.loc[cur_shapes['area'] < medium_size].shape[0] - n_small\n",
    "            n_large = cur_shapes.shape[0] - n_medium - n_small\n",
    "            print(f'{country}: total units {cur_shapes.shape[0]}, small units {n_small}, medium_units {n_medium}')"
   ]
  },
  {
   "cell_type": "code",
   "execution_count": 36,
   "metadata": {},
   "outputs": [
    {
     "data": {
      "text/html": [
       "<div>\n",
       "<style scoped>\n",
       "    .dataframe tbody tr th:only-of-type {\n",
       "        vertical-align: middle;\n",
       "    }\n",
       "\n",
       "    .dataframe tbody tr th {\n",
       "        vertical-align: top;\n",
       "    }\n",
       "\n",
       "    .dataframe thead th {\n",
       "        text-align: right;\n",
       "    }\n",
       "</style>\n",
       "<table border=\"1\" class=\"dataframe\">\n",
       "  <thead>\n",
       "    <tr style=\"text-align: right;\">\n",
       "      <th></th>\n",
       "      <th>shapeName</th>\n",
       "      <th>shapeISO</th>\n",
       "      <th>shapeID</th>\n",
       "      <th>shapeGroup</th>\n",
       "      <th>shapeType</th>\n",
       "      <th>geometry</th>\n",
       "      <th>area</th>\n",
       "    </tr>\n",
       "  </thead>\n",
       "  <tbody>\n",
       "    <tr>\n",
       "      <th>0</th>\n",
       "      <td>Sinoko</td>\n",
       "      <td></td>\n",
       "      <td>90231094B63262338872627</td>\n",
       "      <td>KEN</td>\n",
       "      <td>ADM3</td>\n",
       "      <td>POLYGON ((3518929.033 109177.912, 3518774.759 ...</td>\n",
       "      <td>53.430246</td>\n",
       "    </tr>\n",
       "    <tr>\n",
       "      <th>1</th>\n",
       "      <td>Kiomo/Kyethani</td>\n",
       "      <td></td>\n",
       "      <td>90231094B31178888028499</td>\n",
       "      <td>KEN</td>\n",
       "      <td>ADM3</td>\n",
       "      <td>POLYGON ((3811883.479 -115479.033, 3811690.685...</td>\n",
       "      <td>378.165732</td>\n",
       "    </tr>\n",
       "    <tr>\n",
       "      <th>2</th>\n",
       "      <td>Nyalenda 'A'</td>\n",
       "      <td></td>\n",
       "      <td>90231094B66007306054522</td>\n",
       "      <td>KEN</td>\n",
       "      <td>ADM3</td>\n",
       "      <td>POLYGON ((3481612.435 -18386.268, 3481958.193 ...</td>\n",
       "      <td>5.035454</td>\n",
       "    </tr>\n",
       "    <tr>\n",
       "      <th>3</th>\n",
       "      <td>Saboti</td>\n",
       "      <td></td>\n",
       "      <td>90231094B63033387394767</td>\n",
       "      <td>KEN</td>\n",
       "      <td>ADM3</td>\n",
       "      <td>POLYGON ((3496050.898 117333.583, 3495100.098 ...</td>\n",
       "      <td>107.490456</td>\n",
       "    </tr>\n",
       "    <tr>\n",
       "      <th>4</th>\n",
       "      <td>South Maragoli</td>\n",
       "      <td></td>\n",
       "      <td>90231094B45796893208843</td>\n",
       "      <td>KEN</td>\n",
       "      <td>ADM3</td>\n",
       "      <td>POLYGON ((3475849.218 -1820.290, 3476389.796 -...</td>\n",
       "      <td>28.224849</td>\n",
       "    </tr>\n",
       "    <tr>\n",
       "      <th>...</th>\n",
       "      <td>...</td>\n",
       "      <td>...</td>\n",
       "      <td>...</td>\n",
       "      <td>...</td>\n",
       "      <td>...</td>\n",
       "      <td>...</td>\n",
       "      <td>...</td>\n",
       "    </tr>\n",
       "    <tr>\n",
       "      <th>1447</th>\n",
       "      <td>Ilchamus</td>\n",
       "      <td></td>\n",
       "      <td>90231094B23685280229400</td>\n",
       "      <td>KEN</td>\n",
       "      <td>ADM3</td>\n",
       "      <td>POLYGON ((3615342.125 53524.899, 3615885.735 5...</td>\n",
       "      <td>255.223800</td>\n",
       "    </tr>\n",
       "    <tr>\n",
       "      <th>1448</th>\n",
       "      <td>Salama</td>\n",
       "      <td></td>\n",
       "      <td>90231094B51515570611930</td>\n",
       "      <td>KEN</td>\n",
       "      <td>ADM3</td>\n",
       "      <td>POLYGON ((3671986.975 1711.031, 3671661.227 41...</td>\n",
       "      <td>1021.422085</td>\n",
       "    </tr>\n",
       "    <tr>\n",
       "      <th>1449</th>\n",
       "      <td>Ngobit</td>\n",
       "      <td></td>\n",
       "      <td>90231094B67563447074206</td>\n",
       "      <td>KEN</td>\n",
       "      <td>ADM3</td>\n",
       "      <td>POLYGON ((3691295.851 -12882.920, 3691057.945 ...</td>\n",
       "      <td>596.158164</td>\n",
       "    </tr>\n",
       "    <tr>\n",
       "      <th>1450</th>\n",
       "      <td>Tigithi</td>\n",
       "      <td></td>\n",
       "      <td>90231094B80704318773614</td>\n",
       "      <td>KEN</td>\n",
       "      <td>ADM3</td>\n",
       "      <td>POLYGON ((3707312.411 136.121, 3706468.940 -18...</td>\n",
       "      <td>681.411153</td>\n",
       "    </tr>\n",
       "    <tr>\n",
       "      <th>1451</th>\n",
       "      <td>Segera</td>\n",
       "      <td></td>\n",
       "      <td>90231094B15467985060639</td>\n",
       "      <td>KEN</td>\n",
       "      <td>ADM3</td>\n",
       "      <td>POLYGON ((3715403.038 7794.699, 3719205.006 81...</td>\n",
       "      <td>1155.131523</td>\n",
       "    </tr>\n",
       "  </tbody>\n",
       "</table>\n",
       "<p>1452 rows × 7 columns</p>\n",
       "</div>"
      ],
      "text/plain": [
       "           shapeName shapeISO                  shapeID shapeGroup shapeType  \\\n",
       "0             Sinoko           90231094B63262338872627        KEN      ADM3   \n",
       "1     Kiomo/Kyethani           90231094B31178888028499        KEN      ADM3   \n",
       "2       Nyalenda 'A'           90231094B66007306054522        KEN      ADM3   \n",
       "3             Saboti           90231094B63033387394767        KEN      ADM3   \n",
       "4     South Maragoli           90231094B45796893208843        KEN      ADM3   \n",
       "...              ...      ...                      ...        ...       ...   \n",
       "1447        Ilchamus           90231094B23685280229400        KEN      ADM3   \n",
       "1448          Salama           90231094B51515570611930        KEN      ADM3   \n",
       "1449          Ngobit           90231094B67563447074206        KEN      ADM3   \n",
       "1450         Tigithi           90231094B80704318773614        KEN      ADM3   \n",
       "1451          Segera           90231094B15467985060639        KEN      ADM3   \n",
       "\n",
       "                                               geometry         area  \n",
       "0     POLYGON ((3518929.033 109177.912, 3518774.759 ...    53.430246  \n",
       "1     POLYGON ((3811883.479 -115479.033, 3811690.685...   378.165732  \n",
       "2     POLYGON ((3481612.435 -18386.268, 3481958.193 ...     5.035454  \n",
       "3     POLYGON ((3496050.898 117333.583, 3495100.098 ...   107.490456  \n",
       "4     POLYGON ((3475849.218 -1820.290, 3476389.796 -...    28.224849  \n",
       "...                                                 ...          ...  \n",
       "1447  POLYGON ((3615342.125 53524.899, 3615885.735 5...   255.223800  \n",
       "1448  POLYGON ((3671986.975 1711.031, 3671661.227 41...  1021.422085  \n",
       "1449  POLYGON ((3691295.851 -12882.920, 3691057.945 ...   596.158164  \n",
       "1450  POLYGON ((3707312.411 136.121, 3706468.940 -18...   681.411153  \n",
       "1451  POLYGON ((3715403.038 7794.699, 3719205.006 81...  1155.131523  \n",
       "\n",
       "[1452 rows x 7 columns]"
      ]
     },
     "execution_count": 36,
     "metadata": {},
     "output_type": "execute_result"
    }
   ],
   "source": [
    "cur_shapes"
   ]
  },
  {
   "cell_type": "code",
   "execution_count": 44,
   "metadata": {},
   "outputs": [
    {
     "data": {
      "text/plain": [
       "array([[<AxesSubplot:title={'center':'area'}>]], dtype=object)"
      ]
     },
     "execution_count": 44,
     "metadata": {},
     "output_type": "execute_result"
    },
    {
     "data": {
      "image/png": "[encoded data removed]",
      "text/plain": [
       "<Figure size 432x288 with 1 Axes>"
      ]
     },
     "metadata": {},
     "output_type": "display_data"
    }
   ],
   "source": [
    "cur_shapes.hist('area', bins=100)"
   ]
  },
  {
   "cell_type": "code",
   "execution_count": null,
   "metadata": {},
   "outputs": [],
   "source": []
  }
 ],
 "metadata": {
  "kernelspec": {
   "display_name": "Earth Engine",
   "language": "python",
   "name": "ee"
  },
  "language_info": {
   "codemirror_mode": {
    "name": "ipython",
    "version": 3
   },
   "file_extension": ".py",
   "mimetype": "text/x-python",
   "name": "python",
   "nbconvert_exporter": "python",
   "pygments_lexer": "ipython3",
   "version": "3.9.4"
  }
 },
 "nbformat": 4,
 "nbformat_minor": 2
}
