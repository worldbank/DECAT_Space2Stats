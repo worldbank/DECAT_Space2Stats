{
 "cells": [
  {
   "cell_type": "code",
   "execution_count": 15,
   "id": "11c36aa1",
   "metadata": {},
   "outputs": [
    {
     "name": "stdout",
     "output_type": "stream",
     "text": [
      "The autoreload extension is already loaded. To reload it, use:\n",
      "  %reload_ext autoreload\n"
     ]
    }
   ],
   "source": [
    "import sys, os, importlib, math, multiprocessing, boto3, pickle\n",
    "import rasterio, geojson\n",
    "\n",
    "import pandas as pd\n",
    "import geopandas as gpd\n",
    "import numpy as np\n",
    "\n",
    "from h3 import h3\n",
    "from tqdm import tqdm\n",
    "from shapely.geometry import Polygon, Point\n",
    "\n",
    "sys.path.insert(0, \"/home/wb411133/Code/gostrocks/src\")\n",
    "import GOSTrocks.rasterMisc as rMisc\n",
    "import GOSTrocks.ntlMisc as ntl\n",
    "import GOSTrocks.mapMisc as mapMisc\n",
    "from GOSTrocks.misc import tPrint\n",
    "\n",
    "sys.path.append(\"../src\")\n",
    "import h3_helper\n",
    "\n",
    "%load_ext autoreload\n",
    "%autoreload 2"
   ]
  },
  {
   "cell_type": "code",
   "execution_count": 5,
   "id": "50d7cb00",
   "metadata": {},
   "outputs": [],
   "source": [
    "input_acled_file = \"/home/public/Data/GLOBAL/ACLED/2020-01-01-2023-01-13.csv\"\n",
    "h3_level = 6\n",
    "\n",
    "bucket = 'wbg-geography01' \n",
    "prefix = 'Space2Stats/h3_stats_data'\n",
    "attribute = \"ACLED\"\n",
    "region = 'us-east-1'\n",
    "s3client = boto3.client('s3', region_name=region)"
   ]
  },
  {
   "cell_type": "code",
   "execution_count": 6,
   "id": "80bba1f5",
   "metadata": {},
   "outputs": [
    {
     "name": "stdout",
     "output_type": "stream",
     "text": [
      "Loading pickle file h0_dictionary_of_h6_geodata_frames.pickle: it exists True\n"
     ]
    }
   ],
   "source": [
    "inA = gpd.read_file(input_acled_file)\n",
    "h3_0_list = h3_helper.generate_lvl0_lists(h3_level, return_gdf=True, buffer0=False)"
   ]
  },
  {
   "cell_type": "code",
   "execution_count": 66,
   "id": "9f987799",
   "metadata": {},
   "outputs": [],
   "source": [
    "inA_geom = [Point(x) for x in zip(inA['longitude'].astype(float), inA['latitude'].astype(float))]\n",
    "inA = gpd.GeoDataFrame(inA, geometry=inA_geom, crs=4326)"
   ]
  },
  {
   "cell_type": "code",
   "execution_count": 80,
   "id": "cbae0344",
   "metadata": {
    "scrolled": true
   },
   "outputs": [
    {
     "name": "stdout",
     "output_type": "stream",
     "text": [
      "10:08:48\tProcessed 8005fffffffffff\n",
      "10:08:56\tProcessed 8063fffffffffff\n",
      "10:09:04\tProcessed 806dfffffffffff\n",
      "10:09:11\tProcessed 801dfffffffffff\n",
      "10:09:19\tProcessed 80a7fffffffffff\n",
      "10:09:27\tProcessed 80affffffffffff\n",
      "10:09:35\tProcessed 809dfffffffffff\n",
      "10:09:44\tProcessed 8083fffffffffff\n",
      "10:09:53\tProcessed 803ffffffffffff\n",
      "10:10:01\tProcessed 802ffffffffffff\n",
      "10:10:10\tProcessed 805ffffffffffff\n",
      "10:10:17\tProcessed 804ffffffffffff\n",
      "10:10:24\tProcessed 80b1fffffffffff\n",
      "10:10:33\tProcessed 8055fffffffffff\n",
      "10:10:41\tProcessed 8051fffffffffff\n",
      "10:10:51\tProcessed 8043fffffffffff\n",
      "10:10:59\tProcessed 8027fffffffffff\n",
      "10:11:08\tProcessed 80a3fffffffffff\n",
      "10:11:15\tProcessed 8099fffffffffff\n",
      "10:11:23\tProcessed 8031fffffffffff\n",
      "10:11:32\tProcessed 8071fffffffffff\n",
      "10:11:43\tProcessed 8033fffffffffff\n",
      "10:11:53\tProcessed 801ffffffffffff\n",
      "10:12:00\tProcessed 8085fffffffffff\n",
      "10:12:08\tProcessed 8009fffffffffff\n",
      "10:12:16\tProcessed 80cdfffffffffff\n",
      "10:12:24\tProcessed 80d3fffffffffff\n",
      "10:12:32\tProcessed 80f1fffffffffff\n",
      "10:12:40\tProcessed 80c7fffffffffff\n",
      "10:12:48\tProcessed 8089fffffffffff\n",
      "10:12:56\tProcessed 804bfffffffffff\n",
      "10:13:05\tProcessed 8049fffffffffff\n",
      "10:13:14\tProcessed 802bfffffffffff\n",
      "10:13:23\tProcessed 808bfffffffffff\n",
      "10:13:30\tProcessed 8093fffffffffff\n",
      "10:13:38\tProcessed 8037fffffffffff\n",
      "10:13:47\tProcessed 80b3fffffffffff\n",
      "10:13:56\tProcessed 8081fffffffffff\n",
      "10:14:05\tProcessed 8047fffffffffff\n",
      "10:14:13\tProcessed 801bfffffffffff\n",
      "10:14:21\tProcessed 80bbfffffffffff\n",
      "10:14:29\tProcessed 8025fffffffffff\n",
      "10:14:37\tProcessed 8057fffffffffff\n",
      "10:14:45\tProcessed 806ffffffffffff\n",
      "10:14:53\tProcessed 80b7fffffffffff\n",
      "10:15:02\tProcessed 8097fffffffffff\n",
      "10:15:10\tProcessed 8095fffffffffff\n",
      "10:15:18\tProcessed 809ffffffffffff\n",
      "10:15:27\tProcessed 8011fffffffffff\n",
      "10:15:34\tProcessed 80c5fffffffffff\n",
      "10:15:43\tProcessed 8021fffffffffff\n",
      "10:15:53\tProcessed 80a9fffffffffff\n",
      "10:16:02\tProcessed 8045fffffffffff\n",
      "10:16:09\tProcessed 80cbfffffffffff\n",
      "10:16:18\tProcessed 8059fffffffffff\n",
      "10:16:26\tProcessed 80c9fffffffffff\n",
      "10:16:35\tProcessed 8041fffffffffff\n",
      "10:16:42\tProcessed 80d5fffffffffff\n",
      "10:16:50\tProcessed 80abfffffffffff\n",
      "10:16:58\tProcessed 80effffffffffff\n",
      "10:17:06\tProcessed 80e1fffffffffff\n",
      "10:17:14\tProcessed 80d1fffffffffff\n",
      "10:17:21\tProcessed 80f3fffffffffff\n",
      "10:17:29\tProcessed 8077fffffffffff\n",
      "10:17:37\tProcessed 804dfffffffffff\n",
      "10:17:47\tProcessed 8053fffffffffff\n",
      "10:17:55\tProcessed 80bffffffffffff\n",
      "10:18:03\tProcessed 807dfffffffffff\n",
      "10:18:12\tProcessed 8017fffffffffff\n",
      "10:18:20\tProcessed 8061fffffffffff\n",
      "10:18:29\tProcessed 806bfffffffffff\n",
      "10:18:37\tProcessed 8035fffffffffff\n",
      "10:18:46\tProcessed 807bfffffffffff\n",
      "10:18:54\tProcessed 800bfffffffffff\n",
      "10:19:02\tProcessed 8087fffffffffff\n",
      "10:19:10\tProcessed 80adfffffffffff\n",
      "10:19:18\tProcessed 80c1fffffffffff\n",
      "10:19:28\tProcessed 8023fffffffffff\n",
      "10:19:36\tProcessed 80b9fffffffffff\n",
      "10:19:43\tProcessed 80ddfffffffffff\n",
      "10:19:54\tProcessed 802dfffffffffff\n",
      "10:20:02\tProcessed 8079fffffffffff\n",
      "10:20:11\tProcessed 8039fffffffffff\n",
      "10:20:19\tProcessed 80e3fffffffffff\n",
      "10:20:27\tProcessed 80a5fffffffffff\n",
      "10:20:35\tProcessed 8015fffffffffff\n",
      "10:20:43\tProcessed 808ffffffffffff\n",
      "10:20:52\tProcessed 80dbfffffffffff\n",
      "10:21:00\tProcessed 80dffffffffffff\n",
      "10:21:07\tProcessed 8001fffffffffff\n",
      "10:21:16\tProcessed 8019fffffffffff\n",
      "10:21:23\tProcessed 80b5fffffffffff\n",
      "10:21:31\tProcessed 805dfffffffffff\n",
      "10:21:40\tProcessed 8073fffffffffff\n",
      "10:21:50\tProcessed 805bfffffffffff\n",
      "10:21:59\tProcessed 807ffffffffffff\n",
      "10:22:08\tProcessed 8069fffffffffff\n",
      "10:22:16\tProcessed 8029fffffffffff\n",
      "10:22:25\tProcessed 808dfffffffffff\n",
      "10:22:32\tProcessed 80e9fffffffffff\n",
      "10:22:40\tProcessed 8003fffffffffff\n",
      "10:22:49\tProcessed 8067fffffffffff\n",
      "10:22:57\tProcessed 80ebfffffffffff\n",
      "10:23:05\tProcessed 8013fffffffffff\n",
      "10:23:13\tProcessed 803bfffffffffff\n",
      "10:23:21\tProcessed 80d7fffffffffff\n",
      "10:23:28\tProcessed 800ffffffffffff\n",
      "10:23:37\tProcessed 80c3fffffffffff\n",
      "10:23:45\tProcessed 8007fffffffffff\n",
      "10:23:53\tProcessed 80e5fffffffffff\n",
      "10:24:01\tProcessed 80edfffffffffff\n",
      "10:24:09\tProcessed 80bdfffffffffff\n",
      "10:24:18\tProcessed 803dfffffffffff\n",
      "10:24:27\tProcessed 8075fffffffffff\n",
      "10:24:34\tProcessed 8091fffffffffff\n",
      "10:24:43\tProcessed 800dfffffffffff\n",
      "10:24:52\tProcessed 80cffffffffffff\n",
      "10:25:00\tProcessed 80e7fffffffffff\n",
      "10:25:07\tProcessed 80d9fffffffffff\n",
      "10:25:17\tProcessed 8065fffffffffff\n",
      "10:25:24\tProcessed 80a1fffffffffff\n",
      "10:25:33\tProcessed 809bfffffffffff\n"
     ]
    }
   ],
   "source": [
    "output_results = {}\n",
    "for h0_idx, inD in h3_0_list.items():\n",
    "    for lbl, curA in inA.groupby(['year',\"event_type\"]):\n",
    "        curD = gpd.sjoin(inD, curA, how=\"inner\")\n",
    "        if curD.shape[0] > 0:\n",
    "            tempD = curD\n",
    "            count_d = tempD.groupby(\"shape_id\").aggregate({'event_type':'count'}).loc[:,'event_type']\n",
    "            tempD = inD.join(count_d, rsuffix='acled').fillna(0)\n",
    "            inD[\"_\".join(lbl)] = tempD['event_type']\n",
    "        else:\n",
    "            inD[\"_\".join(lbl)] = tempD['event_type']\n",
    "    output_results[h0_idx] = inD\n",
    "    tPrint(f'Processed {h0_idx}')"
   ]
  },
  {
   "cell_type": "code",
   "execution_count": 82,
   "id": "af47be32",
   "metadata": {},
   "outputs": [],
   "source": [
    "# concatenate all the results datasets\n",
    "all_ds = [x for y, x in output_results.items()]\n",
    "combo_res = pd.concat(all_ds)"
   ]
  },
  {
   "cell_type": "code",
   "execution_count": 85,
   "id": "c361f76b",
   "metadata": {},
   "outputs": [
    {
     "data": {
      "text/plain": [
       "Index(['geometry', 'shape_id', 'Battles', 'Explosions/Remote violence',\n",
       "       'Protests', 'Riots', 'Strategic developments',\n",
       "       'Violence against civilians', '2020_Battles',\n",
       "       '2020_Explosions/Remote violence', '2020_Protests', '2020_Riots',\n",
       "       '2020_Strategic developments', '2020_Violence against civilians',\n",
       "       '2021_Battles', '2021_Explosions/Remote violence', '2021_Protests',\n",
       "       '2021_Riots', '2021_Strategic developments',\n",
       "       '2021_Violence against civilians', '2022_Battles',\n",
       "       '2022_Explosions/Remote violence', '2022_Protests', '2022_Riots',\n",
       "       '2022_Strategic developments', '2022_Violence against civilians',\n",
       "       '2023_Battles', '2023_Explosions/Remote violence', '2023_Protests',\n",
       "       '2023_Riots', '2023_Strategic developments',\n",
       "       '2023_Violence against civilians'],\n",
       "      dtype='object')"
      ]
     },
     "execution_count": 85,
     "metadata": {},
     "output_type": "execute_result"
    }
   ],
   "source": [
    "combo_res.columns"
   ]
  },
  {
   "cell_type": "code",
   "execution_count": 106,
   "id": "e973f2d4",
   "metadata": {},
   "outputs": [
    {
     "name": "stdout",
     "output_type": "stream",
     "text": [
      "16:10:00\tSTART\n"
     ]
    },
    {
     "name": "stderr",
     "output_type": "stream",
     "text": [
      "<ipython-input-106-704766988d2d>:8: UserWarning: this is an initial implementation of Parquet/Feather file support and associated metadata.  This is tracking version 0.1.0 of the metadata specification at https://github.com/geopandas/geo-arrow-spec\n",
      "\n",
      "This metadata specification does not yet make stability promises.  We do not yet recommend using this in a production setting unless you are able to rewrite your Parquet/Feather files.\n",
      "\n",
      "To further ignore this warning, you can do: \n",
      "import warnings; warnings.filterwarnings('ignore', message='.*initial implementation of Parquet.*')\n",
      "  sel_data.to_parquet(out_s3_file)\n"
     ]
    },
    {
     "name": "stdout",
     "output_type": "stream",
     "text": [
      "16:10:04\ts3://wbg-geography01/Space2Stats/h3_stats_data/ACLED/2020/ACLED_breakdown_event_type.parquet\n",
      "16:10:07\ts3://wbg-geography01/Space2Stats/h3_stats_data/ACLED/2021/ACLED_breakdown_event_type.parquet\n",
      "16:10:11\ts3://wbg-geography01/Space2Stats/h3_stats_data/ACLED/2022/ACLED_breakdown_event_type.parquet\n",
      "16:10:15\ts3://wbg-geography01/Space2Stats/h3_stats_data/ACLED/2023/ACLED_breakdown_event_type.parquet\n"
     ]
    }
   ],
   "source": [
    "tPrint(\"START\")\n",
    "for yr in range(2020, 2024):    \n",
    "    sel_cols = [x for x in combo_res.columns if str(yr) in x]\n",
    "    col_names = [x.replace(f\"{yr}_\", \"\") for x in sel_cols]\n",
    "    sel_data = combo_res.loc[:,sel_cols]\n",
    "    sel_data.columns = col_names    \n",
    "    out_s3_file = f\"s3://{bucket}/{prefix}/ACLED/{yr}/ACLED_breakdown_event_type.parquet\"\n",
    "    sel_data.to_parquet(out_s3_file)\n",
    "    tPrint(out_s3_file)\n",
    "    "
   ]
  },
  {
   "cell_type": "code",
   "execution_count": 104,
   "id": "3b51c8b9",
   "metadata": {},
   "outputs": [
    {
     "data": {
      "text/plain": [
       "'s3://wbg-geography01/Space2Stats/h3_stats_data/ACLED/2020/ACLED_breakdown_event_type.csv'"
      ]
     },
     "execution_count": 104,
     "metadata": {},
     "output_type": "execute_result"
    }
   ],
   "source": [
    "out_s3_file"
   ]
  },
  {
   "cell_type": "code",
   "execution_count": null,
   "id": "4a368374",
   "metadata": {},
   "outputs": [],
   "source": []
  }
 ],
 "metadata": {
  "kernelspec": {
   "display_name": "Earth Engine",
   "language": "python",
   "name": "ee"
  },
  "language_info": {
   "codemirror_mode": {
    "name": "ipython",
    "version": 3
   },
   "file_extension": ".py",
   "mimetype": "text/x-python",
   "name": "python",
   "nbconvert_exporter": "python",
   "pygments_lexer": "ipython3",
   "version": "3.9.4"
  }
 },
 "nbformat": 4,
 "nbformat_minor": 5
}
