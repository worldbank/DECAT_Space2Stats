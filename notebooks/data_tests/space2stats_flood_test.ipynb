{
 "cells": [
  {
   "cell_type": "markdown",
   "metadata": {},
   "source": [
    "# Test: Verify Dev DB Against Parquet\n",
    "**Dataset: Flood Exposure**"
   ]
  },
  {
   "cell_type": "code",
   "execution_count": 1,
   "metadata": {},
   "outputs": [],
   "source": [
    "from typing import Dict\n",
    "\n",
    "import geopandas as gpd\n",
    "import numpy as np\n",
    "import pandas as pd\n",
    "import requests\n",
    "from dotenv import load_dotenv\n",
    "from geojson_pydantic import Feature, Polygon\n",
    "from shapely import from_geojson\n",
    "from space2stats import StatsTable, Settings\n",
    "\n",
    "import os\n",
    "from os.path import join, expanduser"
   ]
  },
  {
   "cell_type": "code",
   "execution_count": 2,
   "metadata": {},
   "outputs": [],
   "source": [
    "flood_vars = ['pop', 'pop_flood', 'pop_flood_pct']"
   ]
  },
  {
   "cell_type": "markdown",
   "metadata": {},
   "source": [
    "__Expected environment variables to be set__ from dotenv file\n",
    "\n",
    "\n",
    "```.env\n",
    "PGHOST=\n",
    "PGPORT=\n",
    "PGDATABASE=\n",
    "PGUSER=\n",
    "PGPASSWORD=\n",
    "PGTABLENAME=space2stats\n",
    "```"
   ]
  },
  {
   "cell_type": "code",
   "execution_count": 3,
   "metadata": {},
   "outputs": [
    {
     "data": {
      "text/plain": [
       "True"
      ]
     },
     "execution_count": 3,
     "metadata": {},
     "output_type": "execute_result"
    }
   ],
   "source": [
    "load_dotenv(\"./db.env\")"
   ]
  },
  {
   "cell_type": "markdown",
   "metadata": {},
   "source": [
    "Connect to the database and print available fields"
   ]
  },
  {
   "cell_type": "code",
   "execution_count": 4,
   "metadata": {},
   "outputs": [],
   "source": [
    "# with StatsTable.connect() as stats_table:\n",
    "#     fields = stats_table.fields()\n",
    "\n",
    "# fields"
   ]
  },
  {
   "cell_type": "markdown",
   "metadata": {},
   "source": [
    "Define a geometry, in this case we sample a province from SSD\n"
   ]
  },
  {
   "cell_type": "code",
   "execution_count": 5,
   "metadata": {},
   "outputs": [],
   "source": [
    "def fetch_admin_boundaries(iso3: str, adm: str) -> gpd.GeoDataFrame:\n",
    "    \"\"\"Fetch administrative boundaries from GeoBoundaries API.\"\"\"\n",
    "    url = f\"https://www.geoboundaries.org/api/current/gbOpen/{iso3}/{adm}/\"\n",
    "    res = requests.get(url).json()\n",
    "    return gpd.read_file(res[\"gjDownloadURL\"])\n",
    "\n",
    "ISO3 = \"SSD\"\n",
    "ADM = \"ADM1\"\n",
    "adm_boundaries = fetch_admin_boundaries(ISO3, ADM)\n",
    "adm_sample = adm_boundaries.sample(1)"
   ]
  },
  {
   "cell_type": "code",
   "execution_count": 6,
   "metadata": {},
   "outputs": [
    {
     "data": {
      "text/plain": [
       "shapeName                                                Warrap\n",
       "shapeISO                                                  SS-WR\n",
       "shapeID                                 48771326B11845073429118\n",
       "shapeGroup                                                  SSD\n",
       "shapeType                                                  ADM1\n",
       "geometry      POLYGON ((29.697964065000065 7.832605446000059...\n",
       "Name: 9, dtype: object"
      ]
     },
     "execution_count": 6,
     "metadata": {},
     "output_type": "execute_result"
    }
   ],
   "source": [
    "row = adm_sample.iloc[0]\n",
    "row"
   ]
  },
  {
   "cell_type": "code",
   "execution_count": 7,
   "metadata": {},
   "outputs": [],
   "source": [
    "AOIModel = Feature[Polygon, Dict]\n",
    "\n",
    "# sample aoi\n",
    "aoi = {\n",
    "    \"type\": \"Feature\",\n",
    "    \"geometry\": row.geometry.__geo_interface__,\n",
    "    \"properties\": {\"name\": row.shapeName},\n",
    "}\n",
    "\n",
    "\n",
    "feat = AOIModel(**aoi)"
   ]
  },
  {
   "cell_type": "markdown",
   "metadata": {},
   "source": [
    "Connect to the database and retrieve hexagons that intersect with the bounding box"
   ]
  },
  {
   "cell_type": "code",
   "execution_count": 8,
   "metadata": {},
   "outputs": [
    {
     "data": {
      "text/html": [
       "<div>\n",
       "<style scoped>\n",
       "    .dataframe tbody tr th:only-of-type {\n",
       "        vertical-align: middle;\n",
       "    }\n",
       "\n",
       "    .dataframe tbody tr th {\n",
       "        vertical-align: top;\n",
       "    }\n",
       "\n",
       "    .dataframe thead th {\n",
       "        text-align: right;\n",
       "    }\n",
       "</style>\n",
       "<table border=\"1\" class=\"dataframe\">\n",
       "  <thead>\n",
       "    <tr style=\"text-align: right;\">\n",
       "      <th></th>\n",
       "      <th>hex_id</th>\n",
       "      <th>geometry</th>\n",
       "      <th>pop</th>\n",
       "      <th>pop_flood</th>\n",
       "      <th>pop_flood_pct</th>\n",
       "    </tr>\n",
       "  </thead>\n",
       "  <tbody>\n",
       "    <tr>\n",
       "      <th>0</th>\n",
       "      <td>866a08007ffffff</td>\n",
       "      <td>{\"type\":\"Polygon\",\"coordinates\":[[[28.92642772...</td>\n",
       "      <td>130.924270</td>\n",
       "      <td>21.047801</td>\n",
       "      <td>0.160763</td>\n",
       "    </tr>\n",
       "    <tr>\n",
       "      <th>1</th>\n",
       "      <td>866a08017ffffff</td>\n",
       "      <td>{\"type\":\"Polygon\",\"coordinates\":[[[28.87871360...</td>\n",
       "      <td>128.443200</td>\n",
       "      <td>10.125796</td>\n",
       "      <td>0.078835</td>\n",
       "    </tr>\n",
       "    <tr>\n",
       "      <th>2</th>\n",
       "      <td>866a0801fffffff</td>\n",
       "      <td>{\"type\":\"Polygon\",\"coordinates\":[[[28.93474764...</td>\n",
       "      <td>85.793434</td>\n",
       "      <td>6.451794</td>\n",
       "      <td>0.075201</td>\n",
       "    </tr>\n",
       "    <tr>\n",
       "      <th>3</th>\n",
       "      <td>866a08027ffffff</td>\n",
       "      <td>{\"type\":\"Polygon\",\"coordinates\":[[[28.91811179...</td>\n",
       "      <td>142.194340</td>\n",
       "      <td>12.622000</td>\n",
       "      <td>0.088766</td>\n",
       "    </tr>\n",
       "    <tr>\n",
       "      <th>4</th>\n",
       "      <td>866a0802fffffff</td>\n",
       "      <td>{\"type\":\"Polygon\",\"coordinates\":[[[28.97412780...</td>\n",
       "      <td>116.183180</td>\n",
       "      <td>15.139709</td>\n",
       "      <td>0.130309</td>\n",
       "    </tr>\n",
       "  </tbody>\n",
       "</table>\n",
       "</div>"
      ],
      "text/plain": [
       "            hex_id                                           geometry  \\\n",
       "0  866a08007ffffff  {\"type\":\"Polygon\",\"coordinates\":[[[28.92642772...   \n",
       "1  866a08017ffffff  {\"type\":\"Polygon\",\"coordinates\":[[[28.87871360...   \n",
       "2  866a0801fffffff  {\"type\":\"Polygon\",\"coordinates\":[[[28.93474764...   \n",
       "3  866a08027ffffff  {\"type\":\"Polygon\",\"coordinates\":[[[28.91811179...   \n",
       "4  866a0802fffffff  {\"type\":\"Polygon\",\"coordinates\":[[[28.97412780...   \n",
       "\n",
       "          pop  pop_flood  pop_flood_pct  \n",
       "0  130.924270  21.047801       0.160763  \n",
       "1  128.443200  10.125796       0.078835  \n",
       "2   85.793434   6.451794       0.075201  \n",
       "3  142.194340  12.622000       0.088766  \n",
       "4  116.183180  15.139709       0.130309  "
      ]
     },
     "execution_count": 8,
     "metadata": {},
     "output_type": "execute_result"
    }
   ],
   "source": [
    "with StatsTable.connect() as stats_table:\n",
    "    data = stats_table.summaries(\n",
    "        aoi=feat,\n",
    "        spatial_join_method=\"touches\",\n",
    "        fields=flood_vars,\n",
    "        geometry=\"polygon\",\n",
    "    )\n",
    "    df = pd.DataFrame(data)\n",
    "\n",
    "df.head()"
   ]
  },
  {
   "cell_type": "code",
   "execution_count": 11,
   "metadata": {},
   "outputs": [],
   "source": [
    "df[\"geometry\"] = df[\"geometry\"].apply(lambda geom: from_geojson(geom))\n",
    "gdf = gpd.GeoDataFrame(df, geometry=\"geometry\", crs=\"EPSG:4326\")"
   ]
  },
  {
   "cell_type": "code",
   "execution_count": 12,
   "metadata": {},
   "outputs": [
    {
     "data": {
      "text/plain": [
       "<Axes: >"
      ]
     },
     "execution_count": 12,
     "metadata": {},
     "output_type": "execute_result"
    },
    {
     "data": {
      "image/png": "[encoded data removed]",
      "text/plain": [
       "<Figure size 640x480 with 2 Axes>"
      ]
     },
     "metadata": {},
     "output_type": "display_data"
    }
   ],
   "source": [
    "gdf.plot(column=\"pop_flood_pct\", legend=True, cmap=\"Reds\")"
   ]
  },
  {
   "cell_type": "markdown",
   "metadata": {},
   "source": [
    "Read data from local parquet and merge to existing h3 ids"
   ]
  },
  {
   "cell_type": "code",
   "execution_count": 13,
   "metadata": {},
   "outputs": [],
   "source": [
    "local_parquet = join(expanduser(\"~\"), \"tmp\", \"s2s\", \"flood_exposure_15cm_1in100.parquet\")\n",
    "df_local = pd.read_parquet(local_parquet)"
   ]
  },
  {
   "cell_type": "code",
   "execution_count": 14,
   "metadata": {},
   "outputs": [],
   "source": [
    "gdf_merge = gdf.merge(df_local, on=\"hex_id\", how=\"left\", suffixes=(\"\", \"_local\"))"
   ]
  },
  {
   "cell_type": "code",
   "execution_count": 15,
   "metadata": {},
   "outputs": [],
   "source": [
    "flood_vars_local = [f\"{var}_local\" for var in flood_vars]"
   ]
  },
  {
   "cell_type": "code",
   "execution_count": 16,
   "metadata": {},
   "outputs": [
    {
     "data": {
      "text/html": [
       "<div>\n",
       "<style scoped>\n",
       "    .dataframe tbody tr th:only-of-type {\n",
       "        vertical-align: middle;\n",
       "    }\n",
       "\n",
       "    .dataframe tbody tr th {\n",
       "        vertical-align: top;\n",
       "    }\n",
       "\n",
       "    .dataframe thead th {\n",
       "        text-align: right;\n",
       "    }\n",
       "</style>\n",
       "<table border=\"1\" class=\"dataframe\">\n",
       "  <thead>\n",
       "    <tr style=\"text-align: right;\">\n",
       "      <th></th>\n",
       "      <th>hex_id</th>\n",
       "      <th>geometry</th>\n",
       "      <th>pop</th>\n",
       "      <th>pop_flood</th>\n",
       "      <th>pop_flood_pct</th>\n",
       "      <th>pop_local</th>\n",
       "      <th>pop_flood_local</th>\n",
       "      <th>pop_flood_pct_local</th>\n",
       "    </tr>\n",
       "  </thead>\n",
       "  <tbody>\n",
       "    <tr>\n",
       "      <th>0</th>\n",
       "      <td>866a08007ffffff</td>\n",
       "      <td>POLYGON ((28.92643 6.42885, 28.93956 6.45912, ...</td>\n",
       "      <td>130.924270</td>\n",
       "      <td>21.047801</td>\n",
       "      <td>0.160763</td>\n",
       "      <td>130.924271</td>\n",
       "      <td>21.047801</td>\n",
       "      <td>0.160763</td>\n",
       "    </tr>\n",
       "    <tr>\n",
       "      <th>1</th>\n",
       "      <td>866a08017ffffff</td>\n",
       "      <td>POLYGON ((28.87871 6.39405, 28.89185 6.42434, ...</td>\n",
       "      <td>128.443200</td>\n",
       "      <td>10.125796</td>\n",
       "      <td>0.078835</td>\n",
       "      <td>128.443207</td>\n",
       "      <td>10.125796</td>\n",
       "      <td>0.078835</td>\n",
       "    </tr>\n",
       "    <tr>\n",
       "      <th>2</th>\n",
       "      <td>866a0801fffffff</td>\n",
       "      <td>POLYGON ((28.93475 6.37279, 28.94788 6.40308, ...</td>\n",
       "      <td>85.793434</td>\n",
       "      <td>6.451794</td>\n",
       "      <td>0.075201</td>\n",
       "      <td>85.793434</td>\n",
       "      <td>6.451794</td>\n",
       "      <td>0.075201</td>\n",
       "    </tr>\n",
       "    <tr>\n",
       "      <th>3</th>\n",
       "      <td>866a08027ffffff</td>\n",
       "      <td>POLYGON ((28.91811 6.48487, 28.93124 6.51512, ...</td>\n",
       "      <td>142.194340</td>\n",
       "      <td>12.622000</td>\n",
       "      <td>0.088766</td>\n",
       "      <td>142.194336</td>\n",
       "      <td>12.622000</td>\n",
       "      <td>0.088766</td>\n",
       "    </tr>\n",
       "    <tr>\n",
       "      <th>4</th>\n",
       "      <td>866a0802fffffff</td>\n",
       "      <td>POLYGON ((28.97413 6.46363, 28.98725 6.49389, ...</td>\n",
       "      <td>116.183180</td>\n",
       "      <td>15.139709</td>\n",
       "      <td>0.130309</td>\n",
       "      <td>116.183182</td>\n",
       "      <td>15.139709</td>\n",
       "      <td>0.130309</td>\n",
       "    </tr>\n",
       "  </tbody>\n",
       "</table>\n",
       "</div>"
      ],
      "text/plain": [
       "            hex_id                                           geometry  \\\n",
       "0  866a08007ffffff  POLYGON ((28.92643 6.42885, 28.93956 6.45912, ...   \n",
       "1  866a08017ffffff  POLYGON ((28.87871 6.39405, 28.89185 6.42434, ...   \n",
       "2  866a0801fffffff  POLYGON ((28.93475 6.37279, 28.94788 6.40308, ...   \n",
       "3  866a08027ffffff  POLYGON ((28.91811 6.48487, 28.93124 6.51512, ...   \n",
       "4  866a0802fffffff  POLYGON ((28.97413 6.46363, 28.98725 6.49389, ...   \n",
       "\n",
       "          pop  pop_flood  pop_flood_pct   pop_local  pop_flood_local  \\\n",
       "0  130.924270  21.047801       0.160763  130.924271        21.047801   \n",
       "1  128.443200  10.125796       0.078835  128.443207        10.125796   \n",
       "2   85.793434   6.451794       0.075201   85.793434         6.451794   \n",
       "3  142.194340  12.622000       0.088766  142.194336        12.622000   \n",
       "4  116.183180  15.139709       0.130309  116.183182        15.139709   \n",
       "\n",
       "   pop_flood_pct_local  \n",
       "0             0.160763  \n",
       "1             0.078835  \n",
       "2             0.075201  \n",
       "3             0.088766  \n",
       "4             0.130309  "
      ]
     },
     "execution_count": 16,
     "metadata": {},
     "output_type": "execute_result"
    }
   ],
   "source": [
    "gdf_merge.head()"
   ]
  },
  {
   "cell_type": "markdown",
   "metadata": {},
   "source": [
    "Cast to float32 and check that the data is the same"
   ]
  },
  {
   "cell_type": "code",
   "execution_count": 24,
   "metadata": {},
   "outputs": [],
   "source": [
    "gdf_merge['pop'] = gdf_merge['pop'].astype('float32')\n",
    "gdf_merge['pop_flood'] = gdf_merge['pop_flood'].astype('float32')\n",
    "gdf_merge['pop_flood_pct'] = gdf_merge['pop_flood_pct'].astype('float32')"
   ]
  },
  {
   "cell_type": "code",
   "execution_count": 34,
   "metadata": {},
   "outputs": [
    {
     "name": "stdout",
     "output_type": "stream",
     "text": [
      "pop: 1160290.37500\n",
      "pop_flood: 472344.37500\n",
      "pop_flood_pct: 382.42426\n",
      "pop_local: 1160290.37500\n",
      "pop_flood_local: 472344.38134\n",
      "pop_flood_pct_local: 382.42424\n"
     ]
    }
   ],
   "source": [
    "total_sum = gdf_merge.loc[:, \"pop\":].sum()\n",
    "for name, value in total_sum.items():\n",
    "    print(f\"{name}: {value:.5f}\")"
   ]
  },
  {
   "cell_type": "code",
   "execution_count": 36,
   "metadata": {},
   "outputs": [
    {
     "data": {
      "text/plain": [
       "True"
      ]
     },
     "execution_count": 36,
     "metadata": {},
     "output_type": "execute_result"
    }
   ],
   "source": [
    "all(gdf_merge['pop']==gdf_merge['pop_local'])"
   ]
  },
  {
   "cell_type": "code",
   "execution_count": 37,
   "metadata": {},
   "outputs": [
    {
     "data": {
      "text/plain": [
       "True"
      ]
     },
     "execution_count": 37,
     "metadata": {},
     "output_type": "execute_result"
    }
   ],
   "source": [
    "all(gdf_merge['pop_flood']==gdf_merge['pop_flood'])"
   ]
  },
  {
   "cell_type": "code",
   "execution_count": 38,
   "metadata": {},
   "outputs": [
    {
     "data": {
      "text/plain": [
       "True"
      ]
     },
     "execution_count": 38,
     "metadata": {},
     "output_type": "execute_result"
    }
   ],
   "source": [
    "all(gdf_merge['pop_flood_pct']==gdf_merge['pop_flood_pct'])"
   ]
  }
 ],
 "metadata": {
  "kernelspec": {
   "display_name": "book",
   "language": "python",
   "name": "python3"
  },
  "language_info": {
   "codemirror_mode": {
    "name": "ipython",
    "version": 3
   },
   "file_extension": ".py",
   "mimetype": "text/x-python",
   "name": "python",
   "nbconvert_exporter": "python",
   "pygments_lexer": "ipython3",
   "version": "3.11.10"
  }
 },
 "nbformat": 4,
 "nbformat_minor": 4
}
