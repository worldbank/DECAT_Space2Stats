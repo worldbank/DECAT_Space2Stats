{
 "cells": [
  {
   "cell_type": "code",
   "execution_count": 1,
   "metadata": {},
   "outputs": [
    {
     "name": "stderr",
     "output_type": "stream",
     "text": [
      "/home/wb411133/.conda/envs/ee/lib/python3.9/site-packages/geopandas/_compat.py:106: UserWarning: The Shapely GEOS version (3.9.1-CAPI-1.14.2) is incompatible with the GEOS version PyGEOS was compiled with (3.10.4-CAPI-1.16.2). Conversions between both will be slow.\n",
      "  warnings.warn(\n"
     ]
    }
   ],
   "source": [
    "import sys, os, multiprocessing, rasterio\n",
    "\n",
    "import pandas as pd\n",
    "#import geopandas as gpd\n",
    "#import numpy as np\n",
    "\n",
    "from h3 import h3\n",
    "\n",
    "import GOSTrocks.rasterMisc as rMisc\n",
    "import GOSTrocks.ntlMisc as ntl\n",
    "from GOSTrocks.misc import tPrint\n",
    "\n",
    "sys.path.append(\"../../src\")\n",
    "import h3_helper\n",
    "import global_zonal\n",
    "\n",
    "AWS_S3_BUCKET = 'wbg-geography01'\n",
    "AWS_ACCESS_KEY_ID = os.getenv(\"AWS_ACCESS_KEY_ID\")\n",
    "AWS_SECRET_ACCESS_KEY = os.getenv(\"AWS_SECRET_ACCESS_KEY\")\n",
    "AWS_SESSION_TOKEN = os.getenv(\"AWS_SESSION_TOKEN\")"
   ]
  },
  {
   "cell_type": "code",
   "execution_count": 3,
   "metadata": {},
   "outputs": [
    {
     "name": "stdout",
     "output_type": "stream",
     "text": [
      "Loading pickle file h1_dictionary_of_h6_geodata_frames.pickle: it exists True\n"
     ]
    }
   ],
   "source": [
    "h3_1_list = h3_helper.generate_lvl1_lists(6, return_gdf=True, buffer0=True, read_pickle=True, write_pickle=False)"
   ]
  },
  {
   "cell_type": "code",
   "execution_count": 34,
   "metadata": {},
   "outputs": [],
   "source": [
    "''' Run zonal stats on a continuous raster file using a matching categorical raster \n",
    "        file and a list of h3 cells. For each defined category in the categorical \n",
    "        raster file, calculate the sum, min, max, mean for that category.\n",
    "\n",
    "        Parameters\n",
    "        ----------\n",
    "        gdf : geopandas.GeoDataFrame\n",
    "            data frame of polygons to run zonal stats with\n",
    "        gdf_id : str\n",
    "            column in gdf with unique id\n",
    "        raster_file : str\n",
    "            path to raster file of continuous values to summarize with gdf\n",
    "        category_raster_file : str\n",
    "            path to raster file of categorical data to categorize the raster_file\n",
    "        out_file : str\n",
    "            path to write results\n",
    "        categories : list of numbers, optional\n",
    "            List of unique categories in category_raster_file to summarize, defaults to None.\n",
    "            One of categories and reclass_dict must be defined\n",
    "        reclass_dict : dictionary\n",
    "            describes how to reclass category_raster_file if it is a continuous dataset, defaults to None.\n",
    "            One of categories and reclass_dict must be defined\n",
    "        buffer0 : boolean\n",
    "            Should gdf be buffered by 0 (fixes shapely shapes), defaults to False.\n",
    "        minVal : int\n",
    "            minimum value to summarize in raster_file, anything less than minVal is set to 0, defaults to None.\n",
    "        maxVal : int\n",
    "            maximum value to summarize in raster_file, anything more than maxVal is set to 0, defaults to None.\n",
    "        verbose : bool\n",
    "            print extraneous updates using print statements\n",
    "    '''\n",
    "gdf = h3_1_list['81753ffffffffff']\n",
    "ghsl_folder = \"/home/public/Data/GLOBAL/GHSL/\"\n",
    "category_raster_file = os.path.join(ghsl_folder, \"SMOD\", \"GHS_SMOD_E2020_GLOBE_R2023A_54009_1000_V1_0.tif\")\n",
    "raster_file = os.path.join(ghsl_folder, \"Pop\", \"GHS_POP_E2020_GLOBE_R2023A_54009_100_V1_0.tif\") \n",
    "categories = [11,12,13,21,22,23,30]\n",
    "minVal = 0\n",
    "maxVal = 1000000\n",
    "gdf_id = 'shape_id'\n",
    "verbose = True"
   ]
  },
  {
   "cell_type": "code",
   "execution_count": 22,
   "metadata": {},
   "outputs": [],
   "source": [
    "#extract category raster to gdf extent\n",
    "cat_d, cat_profile = rMisc.clipRaster(rasterio.open(category_raster_file), gdf)\n",
    "# extract raster to gdf extent\n",
    "rast_d, rast_profile = rMisc.clipRaster(rasterio.open(raster_file), gdf)"
   ]
  },
  {
   "cell_type": "code",
   "execution_count": 31,
   "metadata": {},
   "outputs": [
    {
     "name": "stdout",
     "output_type": "stream",
     "text": [
      "10:03:33\tProcessing 1000 of 16807\n",
      "10:03:34\tProcessing 2000 of 16807\n",
      "10:03:36\tProcessing 3000 of 16807\n",
      "10:03:38\tProcessing 4000 of 16807\n",
      "10:03:39\tProcessing 5000 of 16807\n",
      "10:03:41\tProcessing 6000 of 16807\n",
      "10:03:42\tProcessing 7000 of 16807\n",
      "10:03:44\tProcessing 8000 of 16807\n",
      "10:03:46\tProcessing 9000 of 16807\n",
      "10:03:47\tProcessing 10000 of 16807\n",
      "10:03:49\tProcessing 11000 of 16807\n",
      "10:03:50\tProcessing 12000 of 16807\n",
      "10:03:52\tProcessing 13000 of 16807\n",
      "10:03:54\tProcessing 14000 of 16807\n",
      "10:03:55\tProcessing 15000 of 16807\n",
      "10:03:57\tProcessing 16000 of 16807\n"
     ]
    },
    {
     "ename": "NameError",
     "evalue": "name 'gdf_id' is not defined",
     "output_type": "error",
     "traceback": [
      "\u001b[0;31m---------------------------------------------------------------------------\u001b[0m",
      "\u001b[0;31mNameError\u001b[0m                                 Traceback (most recent call last)",
      "\u001b[0;32m<ipython-input-31-b108ff2d387b>\u001b[0m in \u001b[0;36m<module>\u001b[0;34m\u001b[0m\n\u001b[1;32m     11\u001b[0m                 \u001b[0mres\u001b[0m \u001b[0;34m=\u001b[0m \u001b[0mrMisc\u001b[0m\u001b[0;34m.\u001b[0m\u001b[0mzonalStats\u001b[0m\u001b[0;34m(\u001b[0m\u001b[0mgdf\u001b[0m\u001b[0;34m,\u001b[0m \u001b[0mcur_rast_src\u001b[0m\u001b[0;34m,\u001b[0m \u001b[0mminVal\u001b[0m\u001b[0;34m=\u001b[0m\u001b[0mminVal\u001b[0m\u001b[0;34m,\u001b[0m \u001b[0mmaxVal\u001b[0m\u001b[0;34m=\u001b[0m\u001b[0mmaxVal\u001b[0m\u001b[0;34m,\u001b[0m \u001b[0mverbose\u001b[0m\u001b[0;34m=\u001b[0m\u001b[0mverbose\u001b[0m\u001b[0;34m,\u001b[0m \u001b[0mreProj\u001b[0m\u001b[0;34m=\u001b[0m\u001b[0;32mTrue\u001b[0m\u001b[0;34m)\u001b[0m\u001b[0;34m\u001b[0m\u001b[0;34m\u001b[0m\u001b[0m\n\u001b[1;32m     12\u001b[0m                 \u001b[0mres\u001b[0m \u001b[0;34m=\u001b[0m \u001b[0mpd\u001b[0m\u001b[0;34m.\u001b[0m\u001b[0mDataFrame\u001b[0m\u001b[0;34m(\u001b[0m\u001b[0mres\u001b[0m\u001b[0;34m,\u001b[0m \u001b[0mcolumns\u001b[0m\u001b[0;34m=\u001b[0m\u001b[0;34m[\u001b[0m\u001b[0;34mf'{cur_cat}_SUM'\u001b[0m\u001b[0;34m,\u001b[0m \u001b[0;34mf'{cur_cat}_MIN'\u001b[0m\u001b[0;34m,\u001b[0m \u001b[0;34mf'{cur_cat}_MAX'\u001b[0m\u001b[0;34m,\u001b[0m \u001b[0;34mf'{cur_cat}_MEAN'\u001b[0m\u001b[0;34m]\u001b[0m\u001b[0;34m)\u001b[0m\u001b[0;34m\u001b[0m\u001b[0;34m\u001b[0m\u001b[0m\n\u001b[0;32m---> 13\u001b[0;31m                 \u001b[0mres\u001b[0m\u001b[0;34m[\u001b[0m\u001b[0;34m'id'\u001b[0m\u001b[0;34m]\u001b[0m \u001b[0;34m=\u001b[0m \u001b[0mgdf\u001b[0m\u001b[0;34m[\u001b[0m\u001b[0mgdf_id\u001b[0m\u001b[0;34m]\u001b[0m\u001b[0;34m.\u001b[0m\u001b[0mvalues\u001b[0m\u001b[0;34m\u001b[0m\u001b[0;34m\u001b[0m\u001b[0m\n\u001b[0m\u001b[1;32m     14\u001b[0m                 \u001b[0mres\u001b[0m\u001b[0;34m.\u001b[0m\u001b[0mset_index\u001b[0m\u001b[0;34m(\u001b[0m\u001b[0;34m'id'\u001b[0m\u001b[0;34m,\u001b[0m \u001b[0minplace\u001b[0m\u001b[0;34m=\u001b[0m\u001b[0;32mTrue\u001b[0m\u001b[0;34m)\u001b[0m\u001b[0;34m\u001b[0m\u001b[0;34m\u001b[0m\u001b[0m\n\u001b[1;32m     15\u001b[0m                 \u001b[0mfinal_zonal_res\u001b[0m\u001b[0;34m.\u001b[0m\u001b[0mappend\u001b[0m\u001b[0;34m(\u001b[0m\u001b[0mres\u001b[0m\u001b[0;34m)\u001b[0m\u001b[0;34m\u001b[0m\u001b[0;34m\u001b[0m\u001b[0m\n",
      "\u001b[0;31mNameError\u001b[0m: name 'gdf_id' is not defined"
     ]
    }
   ],
   "source": [
    "# standardize categorical raster to zonal raster\n",
    "final_zonal_res = []\n",
    "with rMisc.create_rasterio_inmemory(rast_profile, rast_d) as rast_src:\n",
    "    with rMisc.create_rasterio_inmemory(cat_profile, cat_d) as cat_src:\n",
    "        cat_d, cat_profile = rMisc.standardizeInputRasters(cat_src, rast_src, resampling_type='nearest')        \n",
    "        # Loop through each category\n",
    "        for cur_cat in categories:\n",
    "            cur_cat_d = (cat_d == cur_cat) * 1\n",
    "            cur_rast_d = rast_d * cur_cat_d\n",
    "            with rMisc.create_rasterio_inmemory(rast_profile, cur_rast_d) as cur_rast_src:\n",
    "                res = rMisc.zonalStats(gdf, cur_rast_src, minVal=minVal, maxVal=maxVal, verbose=verbose, reProj=True)\n",
    "                res = pd.DataFrame(res, columns=[f'{cur_cat}_SUM', f'{cur_cat}_MIN', f'{cur_cat}_MAX', f'{cur_cat}_MEAN'])\n",
    "                res['id'] = gdf[gdf_id].values\n",
    "                res.set_index('id', inplace=True)\n",
    "                final_zonal_res.append(res)\n",
    "ret = pd.concat(final_zonal_res, axis=1)\n",
    "if verbose:\n",
    "    tPrint(f'**** finished')\n"
   ]
  },
  {
   "cell_type": "code",
   "execution_count": 33,
   "metadata": {},
   "outputs": [
    {
     "data": {
      "text/html": [
       "<div>\n",
       "<style scoped>\n",
       "    .dataframe tbody tr th:only-of-type {\n",
       "        vertical-align: middle;\n",
       "    }\n",
       "\n",
       "    .dataframe tbody tr th {\n",
       "        vertical-align: top;\n",
       "    }\n",
       "\n",
       "    .dataframe thead th {\n",
       "        text-align: right;\n",
       "    }\n",
       "</style>\n",
       "<table border=\"1\" class=\"dataframe\">\n",
       "  <thead>\n",
       "    <tr style=\"text-align: right;\">\n",
       "      <th></th>\n",
       "      <th>geometry</th>\n",
       "      <th>shape_id</th>\n",
       "    </tr>\n",
       "  </thead>\n",
       "  <tbody>\n",
       "    <tr>\n",
       "      <th>86752842fffffff</th>\n",
       "      <td>POLYGON ((-1.13963 7.05408, -1.11190 7.06010, ...</td>\n",
       "      <td>86752842fffffff</td>\n",
       "    </tr>\n",
       "    <tr>\n",
       "      <th>8675142cfffffff</th>\n",
       "      <td>POLYGON ((-5.32976 8.48204, -5.30549 8.46892, ...</td>\n",
       "      <td>8675142cfffffff</td>\n",
       "    </tr>\n",
       "    <tr>\n",
       "      <th>86751e367ffffff</th>\n",
       "      <td>POLYGON ((-5.07600 6.44495, -5.05242 6.43263, ...</td>\n",
       "      <td>86751e367ffffff</td>\n",
       "    </tr>\n",
       "    <tr>\n",
       "      <th>867509b27ffffff</th>\n",
       "      <td>POLYGON ((-1.37872 4.58718, -1.35177 4.59248, ...</td>\n",
       "      <td>867509b27ffffff</td>\n",
       "    </tr>\n",
       "    <tr>\n",
       "      <th>867500da7ffffff</th>\n",
       "      <td>POLYGON ((-3.48467 8.21337, -3.45776 8.21978, ...</td>\n",
       "      <td>867500da7ffffff</td>\n",
       "    </tr>\n",
       "    <tr>\n",
       "      <th>...</th>\n",
       "      <td>...</td>\n",
       "      <td>...</td>\n",
       "    </tr>\n",
       "    <tr>\n",
       "      <th>867509127ffffff</th>\n",
       "      <td>POLYGON ((-1.72340 4.69916, -1.69657 4.70450, ...</td>\n",
       "      <td>867509127ffffff</td>\n",
       "    </tr>\n",
       "    <tr>\n",
       "      <th>8675041afffffff</th>\n",
       "      <td>POLYGON ((-3.02919 8.64681, -3.00194 8.65335, ...</td>\n",
       "      <td>8675041afffffff</td>\n",
       "    </tr>\n",
       "    <tr>\n",
       "      <th>8675326afffffff</th>\n",
       "      <td>POLYGON ((-5.46685 9.48987, -5.44223 9.47636, ...</td>\n",
       "      <td>8675326afffffff</td>\n",
       "    </tr>\n",
       "    <tr>\n",
       "      <th>86752e8b7ffffff</th>\n",
       "      <td>POLYGON ((-1.37098 8.05540, -1.34309 8.06172, ...</td>\n",
       "      <td>86752e8b7ffffff</td>\n",
       "    </tr>\n",
       "    <tr>\n",
       "      <th>86750838fffffff</th>\n",
       "      <td>POLYGON ((-2.33501 5.06551, -2.30837 5.07095, ...</td>\n",
       "      <td>86750838fffffff</td>\n",
       "    </tr>\n",
       "  </tbody>\n",
       "</table>\n",
       "<p>16807 rows × 2 columns</p>\n",
       "</div>"
      ],
      "text/plain": [
       "                                                          geometry  \\\n",
       "86752842fffffff  POLYGON ((-1.13963 7.05408, -1.11190 7.06010, ...   \n",
       "8675142cfffffff  POLYGON ((-5.32976 8.48204, -5.30549 8.46892, ...   \n",
       "86751e367ffffff  POLYGON ((-5.07600 6.44495, -5.05242 6.43263, ...   \n",
       "867509b27ffffff  POLYGON ((-1.37872 4.58718, -1.35177 4.59248, ...   \n",
       "867500da7ffffff  POLYGON ((-3.48467 8.21337, -3.45776 8.21978, ...   \n",
       "...                                                            ...   \n",
       "867509127ffffff  POLYGON ((-1.72340 4.69916, -1.69657 4.70450, ...   \n",
       "8675041afffffff  POLYGON ((-3.02919 8.64681, -3.00194 8.65335, ...   \n",
       "8675326afffffff  POLYGON ((-5.46685 9.48987, -5.44223 9.47636, ...   \n",
       "86752e8b7ffffff  POLYGON ((-1.37098 8.05540, -1.34309 8.06172, ...   \n",
       "86750838fffffff  POLYGON ((-2.33501 5.06551, -2.30837 5.07095, ...   \n",
       "\n",
       "                        shape_id  \n",
       "86752842fffffff  86752842fffffff  \n",
       "8675142cfffffff  8675142cfffffff  \n",
       "86751e367ffffff  86751e367ffffff  \n",
       "867509b27ffffff  867509b27ffffff  \n",
       "867500da7ffffff  867500da7ffffff  \n",
       "...                          ...  \n",
       "867509127ffffff  867509127ffffff  \n",
       "8675041afffffff  8675041afffffff  \n",
       "8675326afffffff  8675326afffffff  \n",
       "86752e8b7ffffff  86752e8b7ffffff  \n",
       "86750838fffffff  86750838fffffff  \n",
       "\n",
       "[16807 rows x 2 columns]"
      ]
     },
     "execution_count": 33,
     "metadata": {},
     "output_type": "execute_result"
    }
   ],
   "source": [
    "gdf"
   ]
  },
  {
   "cell_type": "code",
   "execution_count": null,
   "metadata": {},
   "outputs": [],
   "source": []
  }
 ],
 "metadata": {
  "kernelspec": {
   "display_name": "Earth Engine",
   "language": "python",
   "name": "ee"
  },
  "language_info": {
   "codemirror_mode": {
    "name": "ipython",
    "version": 3
   },
   "file_extension": ".py",
   "mimetype": "text/x-python",
   "name": "python",
   "nbconvert_exporter": "python",
   "pygments_lexer": "ipython3",
   "version": "3.9.4"
  }
 },
 "nbformat": 4,
 "nbformat_minor": 4
}
