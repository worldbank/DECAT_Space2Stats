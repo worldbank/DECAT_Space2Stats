{
 "cells": [
  {
   "cell_type": "code",
   "execution_count": 6,
   "metadata": {},
   "outputs": [],
   "source": [
    "import sys, os, multiprocessing\n",
    "import boto3\n",
    "\n",
    "import pandas as pd\n",
    "#import geopandas as gpd\n",
    "#import numpy as np\n",
    "\n",
    "import h3\n",
    "\n",
    "AWS_S3_BUCKET = 'wbg-geography01'\n",
    "AWS_ACCESS_KEY_ID = os.getenv(\"AWS_ACCESS_KEY_ID\")\n",
    "AWS_SECRET_ACCESS_KEY = os.getenv(\"AWS_SECRET_ACCESS_KEY\")\n",
    "AWS_SESSION_TOKEN = os.getenv(\"AWS_SESSION_TOKEN\")"
   ]
  },
  {
   "cell_type": "code",
   "execution_count": 29,
   "metadata": {},
   "outputs": [
    {
     "name": "stdout",
     "output_type": "stream",
     "text": [
      "Completed loop: 0\n"
     ]
    },
    {
     "name": "stderr",
     "output_type": "stream",
     "text": [
      "c:\\wbg\\Anaconda3\\envs\\s2s\\Lib\\site-packages\\urllib3\\connectionpool.py:1099: InsecureRequestWarning: Unverified HTTPS request is being made to host 'wbg-geography01.s3.amazonaws.com'. Adding certificate verification is strongly advised. See: https://urllib3.readthedocs.io/en/latest/advanced-usage.html#tls-warnings\n",
      "  warnings.warn(\n"
     ]
    }
   ],
   "source": [
    "# Search through AWS folder and see update date for completed zonal layers\n",
    "bucket = \"wbg-geography01\"\n",
    "prefix = \"Space2Stats/h3_stats_data/GLOBAL/Urbanization_Pop/\"\n",
    "region = \"us-east-1\"\n",
    "s3client = boto3.client(\"s3\", region_name=region, verify=False)\n",
    "\n",
    "# Loop through the S3 bucket and get all the file keys\n",
    "more_results = True\n",
    "try:\n",
    "    del token  # noqa\n",
    "except Exception:\n",
    "    pass\n",
    "loops = 0\n",
    "\n",
    "all_res = []\n",
    "while more_results:\n",
    "    print(f\"Completed loop: {loops}\")\n",
    "    if loops > 0:\n",
    "        objects = s3client.list_objects_v2(\n",
    "            Bucket=bucket,\n",
    "            ContinuationToken=token,  # noqa\n",
    "            Prefix=prefix,  # noqa\n",
    "        )\n",
    "    else:\n",
    "        objects = s3client.list_objects_v2(Bucket=bucket, Prefix=prefix)\n",
    "    more_results = objects[\"IsTruncated\"]\n",
    "    if more_results:\n",
    "        token = objects[\"NextContinuationToken\"]\n",
    "    loops += 1\n",
    "    for res in objects[\"Contents\"]:\n",
    "        all_res.append(res)"
   ]
  },
  {
   "cell_type": "code",
   "execution_count": 30,
   "metadata": {},
   "outputs": [
    {
     "data": {
      "text/plain": [
       "Day_Processed\n",
       "11_14    270\n",
       "11_16    251\n",
       "11_15    229\n",
       "11_13     92\n",
       "Name: count, dtype: int64"
      ]
     },
     "execution_count": 30,
     "metadata": {},
     "output_type": "execute_result"
    }
   ],
   "source": [
    "s3_df = pd.DataFrame(all_res)\n",
    "s3_df.sort_values(\"LastModified\", inplace=True)\n",
    "s3_df['Day_Processed'] = s3_df['LastModified'].apply(lambda x: str(x.month) + \"_\" + str(x.day))\n",
    "s3_df['Day_Processed'].value_counts()\n"
   ]
  },
  {
   "cell_type": "code",
   "execution_count": null,
   "metadata": {},
   "outputs": [],
   "source": []
  },
  {
   "cell_type": "code",
   "execution_count": null,
   "metadata": {},
   "outputs": [
    {
     "data": {
      "text/plain": [
       "'https://globalnightlight.s3.amazonaws.com/composites/j01_202306_ops/DNB_j01_20230601-20230630_global_ecm-slcorr_v10_ops.avg_rade9.tif'"
      ]
     },
     "metadata": {},
     "output_type": "display_data"
    }
   ],
   "source": [
    "ntl_files[0]"
   ]
  }
 ],
 "metadata": {
  "kernelspec": {
   "display_name": "urban_test",
   "language": "python",
   "name": "python3"
  },
  "language_info": {
   "codemirror_mode": {
    "name": "ipython",
    "version": 3
   },
   "file_extension": ".py",
   "mimetype": "text/x-python",
   "name": "python",
   "nbconvert_exporter": "python",
   "pygments_lexer": "ipython3",
   "version": "3.12.7"
  }
 },
 "nbformat": 4,
 "nbformat_minor": 2
}
