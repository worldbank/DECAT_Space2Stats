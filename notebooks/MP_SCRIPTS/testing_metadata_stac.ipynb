{
 "cells": [
  {
   "cell_type": "code",
   "execution_count": 1,
   "metadata": {},
   "outputs": [],
   "source": [
    "import sys, os, json"
   ]
  },
  {
   "cell_type": "code",
   "execution_count": 2,
   "metadata": {},
   "outputs": [
    {
     "data": {
      "text/plain": [
       "['C:\\\\WBG\\\\Work\\\\Code\\\\DECAT_Space2Stats\\\\space2stats_api\\\\src\\\\space2stats_ingest\\\\METADATA\\\\stac\\\\catalog.json',\n",
       " 'C:\\\\WBG\\\\Work\\\\Code\\\\DECAT_Space2Stats\\\\space2stats_api\\\\src\\\\space2stats_ingest\\\\METADATA\\\\stac\\\\space2stats-collection\\\\collection.json',\n",
       " 'C:\\\\WBG\\\\Work\\\\Code\\\\DECAT_Space2Stats\\\\space2stats_api\\\\src\\\\space2stats_ingest\\\\METADATA\\\\stac\\\\space2stats-collection\\\\flood_exposure_15cm_1in100\\\\flood_exposure_15cm_1in100.json',\n",
       " 'C:\\\\WBG\\\\Work\\\\Code\\\\DECAT_Space2Stats\\\\space2stats_api\\\\src\\\\space2stats_ingest\\\\METADATA\\\\stac\\\\space2stats-collection\\\\nighttime_lights\\\\nighttime_lights.json',\n",
       " 'C:\\\\WBG\\\\Work\\\\Code\\\\DECAT_Space2Stats\\\\space2stats_api\\\\src\\\\space2stats_ingest\\\\METADATA\\\\stac\\\\space2stats-collection\\\\space2stats_population_2020\\\\space2stats_population_2020.json',\n",
       " 'C:\\\\WBG\\\\Work\\\\Code\\\\DECAT_Space2Stats\\\\space2stats_api\\\\src\\\\space2stats_ingest\\\\METADATA\\\\stac\\\\space2stats-collection\\\\urbanization_ghssmod\\\\urbanization_ghssmod.json']"
      ]
     },
     "execution_count": 2,
     "metadata": {},
     "output_type": "execute_result"
    }
   ],
   "source": [
    "stac_folder = r\"C:\\WBG\\Work\\Code\\DECAT_Space2Stats\\space2stats_api\\src\\space2stats_ingest\\METADATA\\stac\"\n",
    "json_files = []\n",
    "for root, dirs, files in os.walk(stac_folder):\n",
    "    for file in files:\n",
    "        if file.endswith(\".json\"):\n",
    "            json_files.append(os.path.join(root, file))\n",
    "json_files"
   ]
  },
  {
   "cell_type": "code",
   "execution_count": 4,
   "metadata": {},
   "outputs": [],
   "source": [
    "# Check to make sure all JSON files are valid\n",
    "def is_valid_json(filepath):\n",
    "    try:\n",
    "        with open(filepath, 'r') as f:\n",
    "            json.load(f)\n",
    "        return True\n",
    "    except ValueError as e:\n",
    "        print(f\"Invalid JSON: {e}\")\n",
    "        return False\n",
    "    \n",
    "for file in json_files:\n",
    "    if not is_valid_json(file):\n",
    "        print(file)        "
   ]
  },
  {
   "cell_type": "code",
   "execution_count": null,
   "metadata": {},
   "outputs": [],
   "source": []
  }
 ],
 "metadata": {
  "kernelspec": {
   "display_name": "s2s",
   "language": "python",
   "name": "python3"
  },
  "language_info": {
   "codemirror_mode": {
    "name": "ipython",
    "version": 3
   },
   "file_extension": ".py",
   "mimetype": "text/x-python",
   "name": "python",
   "nbconvert_exporter": "python",
   "pygments_lexer": "ipython3",
   "version": "3.11.10"
  }
 },
 "nbformat": 4,
 "nbformat_minor": 2
}
